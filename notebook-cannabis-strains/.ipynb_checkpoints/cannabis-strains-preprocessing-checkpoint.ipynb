{
 "cells": [
  {
   "cell_type": "markdown",
   "metadata": {},
   "source": [
    "# Introduction\n",
    "\n",
    "    Cannabis, also known as marijuana among other names,[n 1] is a psychoactive drug from the Cannabis plant intended for  medical or recreational use. The main psychoactive part of cannabis is tetrahydrocannabinol (THC); one of 483 known compounds in the plant, including at least 65 other cannabinoids. Cannabis can be used by smoking, vaporizing, within food, or as an extract.\n",
    "\n",
    "    Cannabis is often used for its mental and physical effects, such as a \"high\" or \"stoned\" feeling, a general change in perception, euphoria (heightened mood), and an increase in appetite.Onset of effects is within minutes when smoked, and about 30 to 60 minutes when cooked and eaten.They last for between two and six hours. Short-term side effects may include a decrease in short-term memory, dry mouth, impaired motor skills, red eyes, and feelings of paranoia or anxiety. Long-term side effects may include addiction, decreased mental ability in those who started as teenagers, and behavioral problems in children whose mothers used cannabis during pregnancy. Studies have found a strong relation between cannabis use and the risk of psychosis,though the cause-and-effect relationship is debated."
   ]
  },
  {
   "cell_type": "markdown",
   "metadata": {},
   "source": [
    "# Understanding Data\n",
    "\n",
    "    Are the Species distribuition of our dataset equal?\n",
    "\n",
    "    The all types of strains have the same rating distribuition?\n",
    "\n",
    "    Whats the first word in description to each species? \n",
    "\n",
    "    Are the Flavor important to the rating ?\n",
    "\n",
    "    Are the Effect important to the rating? \n",
    "\n",
    "    Are some difference in Effects and Flavors related by specie? \n",
    "    \n",
    "    Are the price affect to Effects and Flavor?"
   ]
  },
  {
   "cell_type": "code",
   "execution_count": 1,
   "metadata": {},
   "outputs": [
    {
     "data": {
      "text/html": [
       "<script type=\"text/javascript\">window.PlotlyConfig = {MathJaxConfig: 'local'};</script><script type=\"text/javascript\">if (window.MathJax) {MathJax.Hub.Config({SVG: {font: \"STIX-Web\"}});}</script><script>requirejs.config({paths: { 'plotly': ['https://cdn.plot.ly/plotly-latest.min']},});if(!window._Plotly) {require(['plotly'],function(plotly) {window._Plotly=plotly;});}</script>"
      ],
      "text/vnd.plotly.v1+html": [
       "<script type=\"text/javascript\">window.PlotlyConfig = {MathJaxConfig: 'local'};</script><script type=\"text/javascript\">if (window.MathJax) {MathJax.Hub.Config({SVG: {font: \"STIX-Web\"}});}</script><script>requirejs.config({paths: { 'plotly': ['https://cdn.plot.ly/plotly-latest.min']},});if(!window._Plotly) {require(['plotly'],function(plotly) {window._Plotly=plotly;});}</script>"
      ]
     },
     "metadata": {},
     "output_type": "display_data"
    }
   ],
   "source": [
    "%matplotlib inline\n",
    "import pandas as pd\n",
    "import numpy as np\n",
    "from matplotlib import pyplot as plt\n",
    "plt.style.use('ggplot')\n",
    "import math\n",
    "\n",
    "import seaborn as sns # for making plots with seaborn\n",
    "color = sns.color_palette()\n",
    "sns.set(rc={'figure.figsize':(25,15)})\n",
    "\n",
    "import plotly\n",
    "# connected=True means it will download the latest version of plotly javascript library.\n",
    "plotly.offline.init_notebook_mode(connected=True)\n",
    "import plotly.graph_objs as go\n",
    "\n",
    "import plotly.figure_factory as ff\n",
    "import cufflinks as cf\n",
    "\n",
    "\n",
    "import warnings\n",
    "warnings.filterwarnings('ignore')\n",
    "\n",
    "plt.style.use('ggplot') # to plot graphs with gggplot2 style"
   ]
  },
  {
   "cell_type": "code",
   "execution_count": null,
   "metadata": {},
   "outputs": [],
   "source": []
  },
  {
   "cell_type": "code",
   "execution_count": 2,
   "metadata": {},
   "outputs": [],
   "source": [
    "strains = pd.read_csv('strains_data.csv')\n",
    "pd.set_option('display.max_rows',None)\n",
    "pd.set_option('display.max_columns',None)\n"
   ]
  },
  {
   "cell_type": "code",
   "execution_count": 3,
   "metadata": {},
   "outputs": [
    {
     "data": {
      "text/plain": [
       "Strain          0\n",
       "Type            0\n",
       "Rating          0\n",
       "Effects         0\n",
       "Flavor         46\n",
       "Description    33\n",
       "Price           0\n",
       "dtype: int64"
      ]
     },
     "execution_count": 3,
     "metadata": {},
     "output_type": "execute_result"
    }
   ],
   "source": [
    "strains.isnull().sum()"
   ]
  },
  {
   "cell_type": "code",
   "execution_count": 4,
   "metadata": {},
   "outputs": [
    {
     "data": {
      "text/plain": [
       "Strain          0\n",
       "Type            0\n",
       "Rating          0\n",
       "Effects         0\n",
       "Flavor         46\n",
       "Description    33\n",
       "Price           0\n",
       "dtype: int64"
      ]
     },
     "execution_count": 4,
     "metadata": {},
     "output_type": "execute_result"
    }
   ],
   "source": [
    "strains.isna().sum()"
   ]
  },
  {
   "cell_type": "code",
   "execution_count": 5,
   "metadata": {},
   "outputs": [
    {
     "data": {
      "text/html": [
       "<div>\n",
       "<style scoped>\n",
       "    .dataframe tbody tr th:only-of-type {\n",
       "        vertical-align: middle;\n",
       "    }\n",
       "\n",
       "    .dataframe tbody tr th {\n",
       "        vertical-align: top;\n",
       "    }\n",
       "\n",
       "    .dataframe thead th {\n",
       "        text-align: right;\n",
       "    }\n",
       "</style>\n",
       "<table border=\"1\" class=\"dataframe\">\n",
       "  <thead>\n",
       "    <tr style=\"text-align: right;\">\n",
       "      <th></th>\n",
       "      <th>Total</th>\n",
       "      <th>Percent</th>\n",
       "    </tr>\n",
       "  </thead>\n",
       "  <tbody>\n",
       "    <tr>\n",
       "      <th>Description</th>\n",
       "      <td>33</td>\n",
       "      <td>0.014037</td>\n",
       "    </tr>\n",
       "    <tr>\n",
       "      <th>Effects</th>\n",
       "      <td>0</td>\n",
       "      <td>0.000000</td>\n",
       "    </tr>\n",
       "    <tr>\n",
       "      <th>Flavor</th>\n",
       "      <td>46</td>\n",
       "      <td>0.019566</td>\n",
       "    </tr>\n",
       "    <tr>\n",
       "      <th>Price</th>\n",
       "      <td>0</td>\n",
       "      <td>0.000000</td>\n",
       "    </tr>\n",
       "    <tr>\n",
       "      <th>Rating</th>\n",
       "      <td>0</td>\n",
       "      <td>0.000000</td>\n",
       "    </tr>\n",
       "    <tr>\n",
       "      <th>Strain</th>\n",
       "      <td>0</td>\n",
       "      <td>0.000000</td>\n",
       "    </tr>\n",
       "    <tr>\n",
       "      <th>Type</th>\n",
       "      <td>0</td>\n",
       "      <td>0.000000</td>\n",
       "    </tr>\n",
       "  </tbody>\n",
       "</table>\n",
       "</div>"
      ],
      "text/plain": [
       "             Total   Percent\n",
       "Description     33  0.014037\n",
       "Effects          0  0.000000\n",
       "Flavor          46  0.019566\n",
       "Price            0  0.000000\n",
       "Rating           0  0.000000\n",
       "Strain           0  0.000000\n",
       "Type             0  0.000000"
      ]
     },
     "execution_count": 5,
     "metadata": {},
     "output_type": "execute_result"
    }
   ],
   "source": [
    "total = strains.isnull().sum().sort_values(ascending=False)\n",
    "percent = (strains.isnull().sum()/strains.isnull().count().sort_values(ascending=False))\n",
    "missing_data = pd.concat([total, percent], axis=1, keys=('Total Percent').split())\n",
    "missing_data"
   ]
  },
  {
   "cell_type": "code",
   "execution_count": 6,
   "metadata": {},
   "outputs": [
    {
     "data": {
      "text/html": [
       "<div>\n",
       "<style scoped>\n",
       "    .dataframe tbody tr th:only-of-type {\n",
       "        vertical-align: middle;\n",
       "    }\n",
       "\n",
       "    .dataframe tbody tr th {\n",
       "        vertical-align: top;\n",
       "    }\n",
       "\n",
       "    .dataframe thead th {\n",
       "        text-align: right;\n",
       "    }\n",
       "</style>\n",
       "<table border=\"1\" class=\"dataframe\">\n",
       "  <thead>\n",
       "    <tr style=\"text-align: right;\">\n",
       "      <th></th>\n",
       "      <th>Strain</th>\n",
       "      <th>Type</th>\n",
       "      <th>Rating</th>\n",
       "      <th>Effects</th>\n",
       "      <th>Flavor</th>\n",
       "      <th>Description</th>\n",
       "      <th>Price</th>\n",
       "    </tr>\n",
       "  </thead>\n",
       "  <tbody>\n",
       "    <tr>\n",
       "      <th>0</th>\n",
       "      <td>100-Og</td>\n",
       "      <td>hybrid</td>\n",
       "      <td>4.0</td>\n",
       "      <td>Creative,Energetic,Tingly,Euphoric,Relaxed</td>\n",
       "      <td>Earthy,Sweet,Citrus</td>\n",
       "      <td>$100 OG is a 50/50 hybrid strain that packs a ...</td>\n",
       "      <td>109</td>\n",
       "    </tr>\n",
       "    <tr>\n",
       "      <th>1</th>\n",
       "      <td>98-White-Widow</td>\n",
       "      <td>hybrid</td>\n",
       "      <td>4.7</td>\n",
       "      <td>Relaxed,Aroused,Creative,Happy,Energetic</td>\n",
       "      <td>Flowery,Violet,Diesel</td>\n",
       "      <td>The ‘98 Aloha White Widow is an especially pot...</td>\n",
       "      <td>31</td>\n",
       "    </tr>\n",
       "    <tr>\n",
       "      <th>2</th>\n",
       "      <td>1024</td>\n",
       "      <td>sativa</td>\n",
       "      <td>4.4</td>\n",
       "      <td>Uplifted,Happy,Relaxed,Energetic,Creative</td>\n",
       "      <td>Spicy/Herbal,Sage,Woody</td>\n",
       "      <td>1024 is a sativa-dominant hybrid bred in Spain...</td>\n",
       "      <td>391</td>\n",
       "    </tr>\n",
       "    <tr>\n",
       "      <th>3</th>\n",
       "      <td>13-Dawgs</td>\n",
       "      <td>hybrid</td>\n",
       "      <td>4.2</td>\n",
       "      <td>Tingly,Creative,Hungry,Relaxed,Uplifted</td>\n",
       "      <td>Apricot,Citrus,Grapefruit</td>\n",
       "      <td>13 Dawgs is a hybrid of G13 and Chemdawg genet...</td>\n",
       "      <td>38</td>\n",
       "    </tr>\n",
       "    <tr>\n",
       "      <th>4</th>\n",
       "      <td>24K-Gold</td>\n",
       "      <td>hybrid</td>\n",
       "      <td>4.6</td>\n",
       "      <td>Happy,Relaxed,Euphoric,Uplifted,Talkative</td>\n",
       "      <td>Citrus,Earthy,Orange</td>\n",
       "      <td>Also known as Kosher Tangie, 24k Gold is a 60%...</td>\n",
       "      <td>178</td>\n",
       "    </tr>\n",
       "  </tbody>\n",
       "</table>\n",
       "</div>"
      ],
      "text/plain": [
       "           Strain    Type  Rating                                     Effects  \\\n",
       "0          100-Og  hybrid     4.0  Creative,Energetic,Tingly,Euphoric,Relaxed   \n",
       "1  98-White-Widow  hybrid     4.7    Relaxed,Aroused,Creative,Happy,Energetic   \n",
       "2            1024  sativa     4.4   Uplifted,Happy,Relaxed,Energetic,Creative   \n",
       "3        13-Dawgs  hybrid     4.2     Tingly,Creative,Hungry,Relaxed,Uplifted   \n",
       "4        24K-Gold  hybrid     4.6   Happy,Relaxed,Euphoric,Uplifted,Talkative   \n",
       "\n",
       "                      Flavor  \\\n",
       "0        Earthy,Sweet,Citrus   \n",
       "1      Flowery,Violet,Diesel   \n",
       "2    Spicy/Herbal,Sage,Woody   \n",
       "3  Apricot,Citrus,Grapefruit   \n",
       "4       Citrus,Earthy,Orange   \n",
       "\n",
       "                                         Description  Price  \n",
       "0  $100 OG is a 50/50 hybrid strain that packs a ...    109  \n",
       "1  The ‘98 Aloha White Widow is an especially pot...     31  \n",
       "2  1024 is a sativa-dominant hybrid bred in Spain...    391  \n",
       "3  13 Dawgs is a hybrid of G13 and Chemdawg genet...     38  \n",
       "4  Also known as Kosher Tangie, 24k Gold is a 60%...    178  "
      ]
     },
     "execution_count": 6,
     "metadata": {},
     "output_type": "execute_result"
    }
   ],
   "source": [
    "strains.head()"
   ]
  },
  {
   "cell_type": "code",
   "execution_count": 7,
   "metadata": {},
   "outputs": [
    {
     "data": {
      "text/html": [
       "<div>\n",
       "<style scoped>\n",
       "    .dataframe tbody tr th:only-of-type {\n",
       "        vertical-align: middle;\n",
       "    }\n",
       "\n",
       "    .dataframe tbody tr th {\n",
       "        vertical-align: top;\n",
       "    }\n",
       "\n",
       "    .dataframe thead th {\n",
       "        text-align: right;\n",
       "    }\n",
       "</style>\n",
       "<table border=\"1\" class=\"dataframe\">\n",
       "  <thead>\n",
       "    <tr style=\"text-align: right;\">\n",
       "      <th></th>\n",
       "      <th>dataFeatures</th>\n",
       "      <th>dataType</th>\n",
       "      <th>null</th>\n",
       "      <th>nullPct</th>\n",
       "      <th>unique</th>\n",
       "      <th>uniqueSample</th>\n",
       "    </tr>\n",
       "  </thead>\n",
       "  <tbody>\n",
       "    <tr>\n",
       "      <th>0</th>\n",
       "      <td>Strain</td>\n",
       "      <td>object</td>\n",
       "      <td>0</td>\n",
       "      <td>0.00</td>\n",
       "      <td>2350</td>\n",
       "      <td>[100-Og, 98-White-Widow, 1024, 13-Dawgs, 24K-G...</td>\n",
       "    </tr>\n",
       "    <tr>\n",
       "      <th>1</th>\n",
       "      <td>Type</td>\n",
       "      <td>object</td>\n",
       "      <td>0</td>\n",
       "      <td>0.00</td>\n",
       "      <td>3</td>\n",
       "      <td>[hybrid, sativa, indica]</td>\n",
       "    </tr>\n",
       "    <tr>\n",
       "      <th>2</th>\n",
       "      <td>Rating</td>\n",
       "      <td>float64</td>\n",
       "      <td>0</td>\n",
       "      <td>0.00</td>\n",
       "      <td>26</td>\n",
       "      <td>[4.0, 4.7, 4.4, 4.2, 4.6, 0.0, 4.5, 4.3, 5.0, ...</td>\n",
       "    </tr>\n",
       "    <tr>\n",
       "      <th>3</th>\n",
       "      <td>Effects</td>\n",
       "      <td>object</td>\n",
       "      <td>0</td>\n",
       "      <td>0.00</td>\n",
       "      <td>1655</td>\n",
       "      <td>[Creative,Energetic,Tingly,Euphoric,Relaxed, R...</td>\n",
       "    </tr>\n",
       "    <tr>\n",
       "      <th>4</th>\n",
       "      <td>Flavor</td>\n",
       "      <td>object</td>\n",
       "      <td>46</td>\n",
       "      <td>1.96</td>\n",
       "      <td>1293</td>\n",
       "      <td>[Earthy,Sweet,Citrus, Flowery,Violet,Diesel, S...</td>\n",
       "    </tr>\n",
       "    <tr>\n",
       "      <th>5</th>\n",
       "      <td>Description</td>\n",
       "      <td>object</td>\n",
       "      <td>33</td>\n",
       "      <td>1.40</td>\n",
       "      <td>2312</td>\n",
       "      <td>[$100 OG is a 50/50 hybrid strain that packs a...</td>\n",
       "    </tr>\n",
       "    <tr>\n",
       "      <th>6</th>\n",
       "      <td>Price</td>\n",
       "      <td>int64</td>\n",
       "      <td>0</td>\n",
       "      <td>0.00</td>\n",
       "      <td>658</td>\n",
       "      <td>[109, 31, 391, 38, 178, 337, 52, 536, 509, 577...</td>\n",
       "    </tr>\n",
       "  </tbody>\n",
       "</table>\n",
       "</div>"
      ],
      "text/plain": [
       "  dataFeatures dataType  null  nullPct  unique  \\\n",
       "0       Strain   object     0     0.00    2350   \n",
       "1         Type   object     0     0.00       3   \n",
       "2       Rating  float64     0     0.00      26   \n",
       "3      Effects   object     0     0.00    1655   \n",
       "4       Flavor   object    46     1.96    1293   \n",
       "5  Description   object    33     1.40    2312   \n",
       "6        Price    int64     0     0.00     658   \n",
       "\n",
       "                                        uniqueSample  \n",
       "0  [100-Og, 98-White-Widow, 1024, 13-Dawgs, 24K-G...  \n",
       "1                           [hybrid, sativa, indica]  \n",
       "2  [4.0, 4.7, 4.4, 4.2, 4.6, 0.0, 4.5, 4.3, 5.0, ...  \n",
       "3  [Creative,Energetic,Tingly,Euphoric,Relaxed, R...  \n",
       "4  [Earthy,Sweet,Citrus, Flowery,Violet,Diesel, S...  \n",
       "5  [$100 OG is a 50/50 hybrid strain that packs a...  \n",
       "6  [109, 31, 391, 38, 178, 337, 52, 536, 509, 577...  "
      ]
     },
     "execution_count": 7,
     "metadata": {},
     "output_type": "execute_result"
    }
   ],
   "source": [
    "dfDescribe=pd.DataFrame(columns='dataFeatures dataType null nullPct unique uniqueSample'.split(),\n",
    "                        data=[[col, strains.dtypes[col], \n",
    "                               sum(strains[col].isna()),\n",
    "                               round(100*sum(strains[col].isna())/len(strains[col]),2),\n",
    "                               strains[col].nunique(),\n",
    "                               list((strains[col].unique()[:]))]for col in strains.columns])\n",
    "                                                                  \n",
    "dfDescribe"
   ]
  },
  {
   "cell_type": "code",
   "execution_count": 8,
   "metadata": {},
   "outputs": [],
   "source": [
    "strains = strains.fillna(value='None')"
   ]
  },
  {
   "cell_type": "code",
   "execution_count": 9,
   "metadata": {},
   "outputs": [
    {
     "data": {
      "text/plain": [
       "0    Creative,Energetic,Tingly,Euphoric,Relaxed\n",
       "1      Relaxed,Aroused,Creative,Happy,Energetic\n",
       "2     Uplifted,Happy,Relaxed,Energetic,Creative\n",
       "3       Tingly,Creative,Hungry,Relaxed,Uplifted\n",
       "4     Happy,Relaxed,Euphoric,Uplifted,Talkative\n",
       "Name: Effects, dtype: object"
      ]
     },
     "execution_count": 9,
     "metadata": {},
     "output_type": "execute_result"
    }
   ],
   "source": [
    "strains['Effects'].head()"
   ]
  },
  {
   "cell_type": "code",
   "execution_count": 10,
   "metadata": {},
   "outputs": [
    {
     "data": {
      "text/html": [
       "<div>\n",
       "<style scoped>\n",
       "    .dataframe tbody tr th:only-of-type {\n",
       "        vertical-align: middle;\n",
       "    }\n",
       "\n",
       "    .dataframe tbody tr th {\n",
       "        vertical-align: top;\n",
       "    }\n",
       "\n",
       "    .dataframe thead th {\n",
       "        text-align: right;\n",
       "    }\n",
       "</style>\n",
       "<table border=\"1\" class=\"dataframe\">\n",
       "  <thead>\n",
       "    <tr style=\"text-align: right;\">\n",
       "      <th></th>\n",
       "      <th>Strain</th>\n",
       "      <th>Type</th>\n",
       "      <th>Rating</th>\n",
       "      <th>Effects</th>\n",
       "      <th>Flavor</th>\n",
       "      <th>Description</th>\n",
       "      <th>Price</th>\n",
       "      <th>Effects1</th>\n",
       "      <th>Effects2</th>\n",
       "      <th>Effects3</th>\n",
       "      <th>Effects4</th>\n",
       "      <th>Effects5</th>\n",
       "    </tr>\n",
       "  </thead>\n",
       "  <tbody>\n",
       "    <tr>\n",
       "      <th>0</th>\n",
       "      <td>100-Og</td>\n",
       "      <td>hybrid</td>\n",
       "      <td>4.0</td>\n",
       "      <td>Creative,Energetic,Tingly,Euphoric,Relaxed</td>\n",
       "      <td>Earthy,Sweet,Citrus</td>\n",
       "      <td>$100 OG is a 50/50 hybrid strain that packs a ...</td>\n",
       "      <td>109</td>\n",
       "      <td>Creative</td>\n",
       "      <td>Energetic</td>\n",
       "      <td>Tingly</td>\n",
       "      <td>Euphoric</td>\n",
       "      <td>Relaxed</td>\n",
       "    </tr>\n",
       "    <tr>\n",
       "      <th>1</th>\n",
       "      <td>98-White-Widow</td>\n",
       "      <td>hybrid</td>\n",
       "      <td>4.7</td>\n",
       "      <td>Relaxed,Aroused,Creative,Happy,Energetic</td>\n",
       "      <td>Flowery,Violet,Diesel</td>\n",
       "      <td>The ‘98 Aloha White Widow is an especially pot...</td>\n",
       "      <td>31</td>\n",
       "      <td>Relaxed</td>\n",
       "      <td>Aroused</td>\n",
       "      <td>Creative</td>\n",
       "      <td>Happy</td>\n",
       "      <td>Energetic</td>\n",
       "    </tr>\n",
       "    <tr>\n",
       "      <th>2</th>\n",
       "      <td>1024</td>\n",
       "      <td>sativa</td>\n",
       "      <td>4.4</td>\n",
       "      <td>Uplifted,Happy,Relaxed,Energetic,Creative</td>\n",
       "      <td>Spicy/Herbal,Sage,Woody</td>\n",
       "      <td>1024 is a sativa-dominant hybrid bred in Spain...</td>\n",
       "      <td>391</td>\n",
       "      <td>Uplifted</td>\n",
       "      <td>Happy</td>\n",
       "      <td>Relaxed</td>\n",
       "      <td>Energetic</td>\n",
       "      <td>Creative</td>\n",
       "    </tr>\n",
       "    <tr>\n",
       "      <th>3</th>\n",
       "      <td>13-Dawgs</td>\n",
       "      <td>hybrid</td>\n",
       "      <td>4.2</td>\n",
       "      <td>Tingly,Creative,Hungry,Relaxed,Uplifted</td>\n",
       "      <td>Apricot,Citrus,Grapefruit</td>\n",
       "      <td>13 Dawgs is a hybrid of G13 and Chemdawg genet...</td>\n",
       "      <td>38</td>\n",
       "      <td>Tingly</td>\n",
       "      <td>Creative</td>\n",
       "      <td>Hungry</td>\n",
       "      <td>Relaxed</td>\n",
       "      <td>Uplifted</td>\n",
       "    </tr>\n",
       "    <tr>\n",
       "      <th>4</th>\n",
       "      <td>24K-Gold</td>\n",
       "      <td>hybrid</td>\n",
       "      <td>4.6</td>\n",
       "      <td>Happy,Relaxed,Euphoric,Uplifted,Talkative</td>\n",
       "      <td>Citrus,Earthy,Orange</td>\n",
       "      <td>Also known as Kosher Tangie, 24k Gold is a 60%...</td>\n",
       "      <td>178</td>\n",
       "      <td>Happy</td>\n",
       "      <td>Relaxed</td>\n",
       "      <td>Euphoric</td>\n",
       "      <td>Uplifted</td>\n",
       "      <td>Talkative</td>\n",
       "    </tr>\n",
       "  </tbody>\n",
       "</table>\n",
       "</div>"
      ],
      "text/plain": [
       "           Strain    Type  Rating                                     Effects  \\\n",
       "0          100-Og  hybrid     4.0  Creative,Energetic,Tingly,Euphoric,Relaxed   \n",
       "1  98-White-Widow  hybrid     4.7    Relaxed,Aroused,Creative,Happy,Energetic   \n",
       "2            1024  sativa     4.4   Uplifted,Happy,Relaxed,Energetic,Creative   \n",
       "3        13-Dawgs  hybrid     4.2     Tingly,Creative,Hungry,Relaxed,Uplifted   \n",
       "4        24K-Gold  hybrid     4.6   Happy,Relaxed,Euphoric,Uplifted,Talkative   \n",
       "\n",
       "                      Flavor  \\\n",
       "0        Earthy,Sweet,Citrus   \n",
       "1      Flowery,Violet,Diesel   \n",
       "2    Spicy/Herbal,Sage,Woody   \n",
       "3  Apricot,Citrus,Grapefruit   \n",
       "4       Citrus,Earthy,Orange   \n",
       "\n",
       "                                         Description  Price  Effects1  \\\n",
       "0  $100 OG is a 50/50 hybrid strain that packs a ...    109  Creative   \n",
       "1  The ‘98 Aloha White Widow is an especially pot...     31   Relaxed   \n",
       "2  1024 is a sativa-dominant hybrid bred in Spain...    391  Uplifted   \n",
       "3  13 Dawgs is a hybrid of G13 and Chemdawg genet...     38    Tingly   \n",
       "4  Also known as Kosher Tangie, 24k Gold is a 60%...    178     Happy   \n",
       "\n",
       "    Effects2  Effects3   Effects4   Effects5  \n",
       "0  Energetic    Tingly   Euphoric    Relaxed  \n",
       "1    Aroused  Creative      Happy  Energetic  \n",
       "2      Happy   Relaxed  Energetic   Creative  \n",
       "3   Creative    Hungry    Relaxed   Uplifted  \n",
       "4    Relaxed  Euphoric   Uplifted  Talkative  "
      ]
     },
     "execution_count": 10,
     "metadata": {},
     "output_type": "execute_result"
    }
   ],
   "source": [
    "new = strains[\"Effects\"].str.split(\",\", n = 5, expand = True) \n",
    "strains['Effects1'] = new[0]\n",
    "strains['Effects2'] = new[1]\n",
    "strains['Effects3'] = new[2]\n",
    "strains['Effects4'] = new[3]\n",
    "strains['Effects5'] = new[4]\n",
    "strains.head()"
   ]
  },
  {
   "cell_type": "code",
   "execution_count": 11,
   "metadata": {},
   "outputs": [
    {
     "data": {
      "text/html": [
       "<div>\n",
       "<style scoped>\n",
       "    .dataframe tbody tr th:only-of-type {\n",
       "        vertical-align: middle;\n",
       "    }\n",
       "\n",
       "    .dataframe tbody tr th {\n",
       "        vertical-align: top;\n",
       "    }\n",
       "\n",
       "    .dataframe thead th {\n",
       "        text-align: right;\n",
       "    }\n",
       "</style>\n",
       "<table border=\"1\" class=\"dataframe\">\n",
       "  <thead>\n",
       "    <tr style=\"text-align: right;\">\n",
       "      <th></th>\n",
       "      <th>Strain</th>\n",
       "      <th>Type</th>\n",
       "      <th>Rating</th>\n",
       "      <th>Effects</th>\n",
       "      <th>Flavor</th>\n",
       "      <th>Description</th>\n",
       "      <th>Price</th>\n",
       "      <th>Effects1</th>\n",
       "      <th>Effects2</th>\n",
       "      <th>Effects3</th>\n",
       "      <th>Effects4</th>\n",
       "      <th>Effects5</th>\n",
       "      <th>Flavor1</th>\n",
       "      <th>Flavor2</th>\n",
       "      <th>Flavor3</th>\n",
       "    </tr>\n",
       "  </thead>\n",
       "  <tbody>\n",
       "    <tr>\n",
       "      <th>0</th>\n",
       "      <td>100-Og</td>\n",
       "      <td>hybrid</td>\n",
       "      <td>4.0</td>\n",
       "      <td>Creative,Energetic,Tingly,Euphoric,Relaxed</td>\n",
       "      <td>Earthy,Sweet,Citrus</td>\n",
       "      <td>$100 OG is a 50/50 hybrid strain that packs a ...</td>\n",
       "      <td>109</td>\n",
       "      <td>Creative</td>\n",
       "      <td>Energetic</td>\n",
       "      <td>Tingly</td>\n",
       "      <td>Euphoric</td>\n",
       "      <td>Relaxed</td>\n",
       "      <td>Earthy</td>\n",
       "      <td>Sweet</td>\n",
       "      <td>Citrus</td>\n",
       "    </tr>\n",
       "    <tr>\n",
       "      <th>1</th>\n",
       "      <td>98-White-Widow</td>\n",
       "      <td>hybrid</td>\n",
       "      <td>4.7</td>\n",
       "      <td>Relaxed,Aroused,Creative,Happy,Energetic</td>\n",
       "      <td>Flowery,Violet,Diesel</td>\n",
       "      <td>The ‘98 Aloha White Widow is an especially pot...</td>\n",
       "      <td>31</td>\n",
       "      <td>Relaxed</td>\n",
       "      <td>Aroused</td>\n",
       "      <td>Creative</td>\n",
       "      <td>Happy</td>\n",
       "      <td>Energetic</td>\n",
       "      <td>Flowery</td>\n",
       "      <td>Violet</td>\n",
       "      <td>Diesel</td>\n",
       "    </tr>\n",
       "    <tr>\n",
       "      <th>2</th>\n",
       "      <td>1024</td>\n",
       "      <td>sativa</td>\n",
       "      <td>4.4</td>\n",
       "      <td>Uplifted,Happy,Relaxed,Energetic,Creative</td>\n",
       "      <td>Spicy/Herbal,Sage,Woody</td>\n",
       "      <td>1024 is a sativa-dominant hybrid bred in Spain...</td>\n",
       "      <td>391</td>\n",
       "      <td>Uplifted</td>\n",
       "      <td>Happy</td>\n",
       "      <td>Relaxed</td>\n",
       "      <td>Energetic</td>\n",
       "      <td>Creative</td>\n",
       "      <td>Spicy/Herbal</td>\n",
       "      <td>Sage</td>\n",
       "      <td>Woody</td>\n",
       "    </tr>\n",
       "    <tr>\n",
       "      <th>3</th>\n",
       "      <td>13-Dawgs</td>\n",
       "      <td>hybrid</td>\n",
       "      <td>4.2</td>\n",
       "      <td>Tingly,Creative,Hungry,Relaxed,Uplifted</td>\n",
       "      <td>Apricot,Citrus,Grapefruit</td>\n",
       "      <td>13 Dawgs is a hybrid of G13 and Chemdawg genet...</td>\n",
       "      <td>38</td>\n",
       "      <td>Tingly</td>\n",
       "      <td>Creative</td>\n",
       "      <td>Hungry</td>\n",
       "      <td>Relaxed</td>\n",
       "      <td>Uplifted</td>\n",
       "      <td>Apricot</td>\n",
       "      <td>Citrus</td>\n",
       "      <td>Grapefruit</td>\n",
       "    </tr>\n",
       "    <tr>\n",
       "      <th>4</th>\n",
       "      <td>24K-Gold</td>\n",
       "      <td>hybrid</td>\n",
       "      <td>4.6</td>\n",
       "      <td>Happy,Relaxed,Euphoric,Uplifted,Talkative</td>\n",
       "      <td>Citrus,Earthy,Orange</td>\n",
       "      <td>Also known as Kosher Tangie, 24k Gold is a 60%...</td>\n",
       "      <td>178</td>\n",
       "      <td>Happy</td>\n",
       "      <td>Relaxed</td>\n",
       "      <td>Euphoric</td>\n",
       "      <td>Uplifted</td>\n",
       "      <td>Talkative</td>\n",
       "      <td>Citrus</td>\n",
       "      <td>Earthy</td>\n",
       "      <td>Orange</td>\n",
       "    </tr>\n",
       "  </tbody>\n",
       "</table>\n",
       "</div>"
      ],
      "text/plain": [
       "           Strain    Type  Rating                                     Effects  \\\n",
       "0          100-Og  hybrid     4.0  Creative,Energetic,Tingly,Euphoric,Relaxed   \n",
       "1  98-White-Widow  hybrid     4.7    Relaxed,Aroused,Creative,Happy,Energetic   \n",
       "2            1024  sativa     4.4   Uplifted,Happy,Relaxed,Energetic,Creative   \n",
       "3        13-Dawgs  hybrid     4.2     Tingly,Creative,Hungry,Relaxed,Uplifted   \n",
       "4        24K-Gold  hybrid     4.6   Happy,Relaxed,Euphoric,Uplifted,Talkative   \n",
       "\n",
       "                      Flavor  \\\n",
       "0        Earthy,Sweet,Citrus   \n",
       "1      Flowery,Violet,Diesel   \n",
       "2    Spicy/Herbal,Sage,Woody   \n",
       "3  Apricot,Citrus,Grapefruit   \n",
       "4       Citrus,Earthy,Orange   \n",
       "\n",
       "                                         Description  Price  Effects1  \\\n",
       "0  $100 OG is a 50/50 hybrid strain that packs a ...    109  Creative   \n",
       "1  The ‘98 Aloha White Widow is an especially pot...     31   Relaxed   \n",
       "2  1024 is a sativa-dominant hybrid bred in Spain...    391  Uplifted   \n",
       "3  13 Dawgs is a hybrid of G13 and Chemdawg genet...     38    Tingly   \n",
       "4  Also known as Kosher Tangie, 24k Gold is a 60%...    178     Happy   \n",
       "\n",
       "    Effects2  Effects3   Effects4   Effects5       Flavor1 Flavor2     Flavor3  \n",
       "0  Energetic    Tingly   Euphoric    Relaxed        Earthy   Sweet      Citrus  \n",
       "1    Aroused  Creative      Happy  Energetic       Flowery  Violet      Diesel  \n",
       "2      Happy   Relaxed  Energetic   Creative  Spicy/Herbal    Sage       Woody  \n",
       "3   Creative    Hungry    Relaxed   Uplifted       Apricot  Citrus  Grapefruit  \n",
       "4    Relaxed  Euphoric   Uplifted  Talkative        Citrus  Earthy      Orange  "
      ]
     },
     "execution_count": 11,
     "metadata": {},
     "output_type": "execute_result"
    }
   ],
   "source": [
    "coba = strains[\"Flavor\"].str.split(\",\", n = 3, expand = True) \n",
    "strains['Flavor1'] = coba[0]\n",
    "strains['Flavor2'] = coba[1]\n",
    "strains['Flavor3'] = coba[2]\n",
    "\n",
    "strains.head()"
   ]
  },
  {
   "cell_type": "code",
   "execution_count": 12,
   "metadata": {},
   "outputs": [
    {
     "data": {
      "text/html": [
       "<div>\n",
       "<style scoped>\n",
       "    .dataframe tbody tr th:only-of-type {\n",
       "        vertical-align: middle;\n",
       "    }\n",
       "\n",
       "    .dataframe tbody tr th {\n",
       "        vertical-align: top;\n",
       "    }\n",
       "\n",
       "    .dataframe thead th {\n",
       "        text-align: right;\n",
       "    }\n",
       "</style>\n",
       "<table border=\"1\" class=\"dataframe\">\n",
       "  <thead>\n",
       "    <tr style=\"text-align: right;\">\n",
       "      <th></th>\n",
       "      <th>Strain</th>\n",
       "      <th>Type</th>\n",
       "      <th>Rating</th>\n",
       "      <th>Effects</th>\n",
       "      <th>Flavor</th>\n",
       "      <th>Description</th>\n",
       "      <th>Price</th>\n",
       "      <th>Effects1</th>\n",
       "      <th>Effects2</th>\n",
       "      <th>Effects3</th>\n",
       "      <th>Effects4</th>\n",
       "      <th>Effects5</th>\n",
       "      <th>Flavor1</th>\n",
       "      <th>Flavor2</th>\n",
       "      <th>Flavor3</th>\n",
       "    </tr>\n",
       "  </thead>\n",
       "  <tbody>\n",
       "    <tr>\n",
       "      <th>0</th>\n",
       "      <td>100-Og</td>\n",
       "      <td>hybrid</td>\n",
       "      <td>4.0</td>\n",
       "      <td>Creative,Energetic,Tingly,Euphoric,Relaxed</td>\n",
       "      <td>Earthy,Sweet,Citrus</td>\n",
       "      <td>$100 OG is a 50/50 hybrid strain that packs a ...</td>\n",
       "      <td>109</td>\n",
       "      <td>Creative</td>\n",
       "      <td>Energetic</td>\n",
       "      <td>Tingly</td>\n",
       "      <td>Euphoric</td>\n",
       "      <td>Relaxed</td>\n",
       "      <td>Earthy</td>\n",
       "      <td>Sweet</td>\n",
       "      <td>Citrus</td>\n",
       "    </tr>\n",
       "    <tr>\n",
       "      <th>1</th>\n",
       "      <td>98-White-Widow</td>\n",
       "      <td>hybrid</td>\n",
       "      <td>4.7</td>\n",
       "      <td>Relaxed,Aroused,Creative,Happy,Energetic</td>\n",
       "      <td>Flowery,Violet,Diesel</td>\n",
       "      <td>The ‘98 Aloha White Widow is an especially pot...</td>\n",
       "      <td>31</td>\n",
       "      <td>Relaxed</td>\n",
       "      <td>Aroused</td>\n",
       "      <td>Creative</td>\n",
       "      <td>Happy</td>\n",
       "      <td>Energetic</td>\n",
       "      <td>Flowery</td>\n",
       "      <td>Violet</td>\n",
       "      <td>Diesel</td>\n",
       "    </tr>\n",
       "    <tr>\n",
       "      <th>2</th>\n",
       "      <td>1024</td>\n",
       "      <td>sativa</td>\n",
       "      <td>4.4</td>\n",
       "      <td>Uplifted,Happy,Relaxed,Energetic,Creative</td>\n",
       "      <td>Spicy/Herbal,Sage,Woody</td>\n",
       "      <td>1024 is a sativa-dominant hybrid bred in Spain...</td>\n",
       "      <td>391</td>\n",
       "      <td>Uplifted</td>\n",
       "      <td>Happy</td>\n",
       "      <td>Relaxed</td>\n",
       "      <td>Energetic</td>\n",
       "      <td>Creative</td>\n",
       "      <td>Spicy/Herbal</td>\n",
       "      <td>Sage</td>\n",
       "      <td>Woody</td>\n",
       "    </tr>\n",
       "    <tr>\n",
       "      <th>3</th>\n",
       "      <td>13-Dawgs</td>\n",
       "      <td>hybrid</td>\n",
       "      <td>4.2</td>\n",
       "      <td>Tingly,Creative,Hungry,Relaxed,Uplifted</td>\n",
       "      <td>Apricot,Citrus,Grapefruit</td>\n",
       "      <td>13 Dawgs is a hybrid of G13 and Chemdawg genet...</td>\n",
       "      <td>38</td>\n",
       "      <td>Tingly</td>\n",
       "      <td>Creative</td>\n",
       "      <td>Hungry</td>\n",
       "      <td>Relaxed</td>\n",
       "      <td>Uplifted</td>\n",
       "      <td>Apricot</td>\n",
       "      <td>Citrus</td>\n",
       "      <td>Grapefruit</td>\n",
       "    </tr>\n",
       "    <tr>\n",
       "      <th>4</th>\n",
       "      <td>24K-Gold</td>\n",
       "      <td>hybrid</td>\n",
       "      <td>4.6</td>\n",
       "      <td>Happy,Relaxed,Euphoric,Uplifted,Talkative</td>\n",
       "      <td>Citrus,Earthy,Orange</td>\n",
       "      <td>Also known as Kosher Tangie, 24k Gold is a 60%...</td>\n",
       "      <td>178</td>\n",
       "      <td>Happy</td>\n",
       "      <td>Relaxed</td>\n",
       "      <td>Euphoric</td>\n",
       "      <td>Uplifted</td>\n",
       "      <td>Talkative</td>\n",
       "      <td>Citrus</td>\n",
       "      <td>Earthy</td>\n",
       "      <td>Orange</td>\n",
       "    </tr>\n",
       "  </tbody>\n",
       "</table>\n",
       "</div>"
      ],
      "text/plain": [
       "           Strain    Type  Rating                                     Effects  \\\n",
       "0          100-Og  hybrid     4.0  Creative,Energetic,Tingly,Euphoric,Relaxed   \n",
       "1  98-White-Widow  hybrid     4.7    Relaxed,Aroused,Creative,Happy,Energetic   \n",
       "2            1024  sativa     4.4   Uplifted,Happy,Relaxed,Energetic,Creative   \n",
       "3        13-Dawgs  hybrid     4.2     Tingly,Creative,Hungry,Relaxed,Uplifted   \n",
       "4        24K-Gold  hybrid     4.6   Happy,Relaxed,Euphoric,Uplifted,Talkative   \n",
       "\n",
       "                      Flavor  \\\n",
       "0        Earthy,Sweet,Citrus   \n",
       "1      Flowery,Violet,Diesel   \n",
       "2    Spicy/Herbal,Sage,Woody   \n",
       "3  Apricot,Citrus,Grapefruit   \n",
       "4       Citrus,Earthy,Orange   \n",
       "\n",
       "                                         Description  Price  Effects1  \\\n",
       "0  $100 OG is a 50/50 hybrid strain that packs a ...    109  Creative   \n",
       "1  The ‘98 Aloha White Widow is an especially pot...     31   Relaxed   \n",
       "2  1024 is a sativa-dominant hybrid bred in Spain...    391  Uplifted   \n",
       "3  13 Dawgs is a hybrid of G13 and Chemdawg genet...     38    Tingly   \n",
       "4  Also known as Kosher Tangie, 24k Gold is a 60%...    178     Happy   \n",
       "\n",
       "    Effects2  Effects3   Effects4   Effects5       Flavor1 Flavor2     Flavor3  \n",
       "0  Energetic    Tingly   Euphoric    Relaxed        Earthy   Sweet      Citrus  \n",
       "1    Aroused  Creative      Happy  Energetic       Flowery  Violet      Diesel  \n",
       "2      Happy   Relaxed  Energetic   Creative  Spicy/Herbal    Sage       Woody  \n",
       "3   Creative    Hungry    Relaxed   Uplifted       Apricot  Citrus  Grapefruit  \n",
       "4    Relaxed  Euphoric   Uplifted  Talkative        Citrus  Earthy      Orange  "
      ]
     },
     "execution_count": 12,
     "metadata": {},
     "output_type": "execute_result"
    }
   ],
   "source": [
    "strains = strains.fillna(value='None')\n",
    "strains.head()"
   ]
  },
  {
   "cell_type": "code",
   "execution_count": 13,
   "metadata": {},
   "outputs": [],
   "source": [
    "# sns.heatmap(strains, annot=True)"
   ]
  },
  {
   "cell_type": "code",
   "execution_count": 14,
   "metadata": {},
   "outputs": [
    {
     "data": {
      "text/plain": [
       "array(['Creative', 'Relaxed', 'Uplifted', 'Tingly', 'Happy', 'None',\n",
       "       'Energetic', 'Euphoric', 'Talkative', 'Focused', 'Sleepy',\n",
       "       'Hungry', 'Aroused', 'Giggly', 'Dry'], dtype=object)"
      ]
     },
     "execution_count": 14,
     "metadata": {},
     "output_type": "execute_result"
    }
   ],
   "source": [
    "strains['Effects1'].unique()"
   ]
  },
  {
   "cell_type": "code",
   "execution_count": 15,
   "metadata": {},
   "outputs": [
    {
     "data": {
      "text/plain": [
       "array(['Citrus', 'Diesel', 'Woody', 'Grapefruit', 'Orange', 'None',\n",
       "       'Pungent', 'Earthy', 'Flowery', 'Sweet', 'Skunk', 'Pine', 'Berry',\n",
       "       'Cheese', 'Spicy/Herbal', 'Lemon', 'Peach', 'Chemical', 'Chestnut',\n",
       "       'Tea', 'Pepper', 'Tropical', 'Grape', 'Blueberry', 'Apple', 'Sage',\n",
       "       'Lime', 'Tobacco', 'Mint', 'Nutty', 'Coffee', 'Lavender', 'Tree',\n",
       "       'Vanilla', 'Fruit', 'Mango', 'Butter', 'Blue', 'Menthol', 'Tar',\n",
       "       'Honey', 'Ammonia', 'Rose', 'Pineapple', 'Minty', 'Apricot',\n",
       "       'Strawberry', 'Violet', 'Pear'], dtype=object)"
      ]
     },
     "execution_count": 15,
     "metadata": {},
     "output_type": "execute_result"
    }
   ],
   "source": [
    "strains['Flavor3'].unique()"
   ]
  },
  {
   "cell_type": "code",
   "execution_count": 16,
   "metadata": {},
   "outputs": [],
   "source": [
    "a1 = pd.get_dummies(strains['Effects1'].unique())\n",
    "a2 = pd.get_dummies(strains['Flavor3'].unique())\n",
    "strains = pd.concat([strains,a1,a2], axis=1)"
   ]
  },
  {
   "cell_type": "code",
   "execution_count": 17,
   "metadata": {},
   "outputs": [],
   "source": [
    "def effects_Aroused(cols):\n",
    "    Effects1 = cols[0]\n",
    "    Effects2 = cols[1]\n",
    "    Effects3 = cols[2]\n",
    "    Effects4 = cols[3]\n",
    "    Effects5 = cols[4]\n",
    "    \n",
    "    if ((cols[0] == 'Aroused') or (cols[1] == 'Aroused') or (cols[2] == 'Aroused') or\n",
    "    (cols[3] == 'Aroused') or (cols[4] == 'Aroused')):\n",
    "        return 1\n",
    "    else :\n",
    "        return 0\n",
    "    "
   ]
  },
  {
   "cell_type": "code",
   "execution_count": 18,
   "metadata": {},
   "outputs": [
    {
     "data": {
      "text/plain": [
       "0    0\n",
       "1    1\n",
       "2    0\n",
       "3    0\n",
       "4    0\n",
       "Name: Aroused, dtype: int64"
      ]
     },
     "execution_count": 18,
     "metadata": {},
     "output_type": "execute_result"
    }
   ],
   "source": [
    "strains['Aroused'] = strains[['Effects1', 'Effects2', 'Effects3', 'Effects4', 'Effects5']].apply(effects_Aroused,axis=1)\n",
    "strains['Aroused'].head()"
   ]
  },
  {
   "cell_type": "code",
   "execution_count": 19,
   "metadata": {},
   "outputs": [],
   "source": [
    "def effects_Creative(cols):\n",
    "    Effects1 = cols[0]\n",
    "    Effects2 = cols[1]\n",
    "    Effects3 = cols[2]\n",
    "    Effects4 = cols[3]\n",
    "    Effects5 = cols[4]\n",
    "    \n",
    "    if ((cols[0] == 'Creative') or (cols[1] == 'Creative') or (cols[2] == 'Creative') or\n",
    "    (cols[3] == 'Creative') or (cols[4] == 'Creative')):\n",
    "        return 1\n",
    "    else :\n",
    "        return 0"
   ]
  },
  {
   "cell_type": "code",
   "execution_count": 20,
   "metadata": {},
   "outputs": [
    {
     "data": {
      "text/plain": [
       "0    1\n",
       "1    1\n",
       "2    1\n",
       "3    1\n",
       "4    0\n",
       "Name: Creative, dtype: int64"
      ]
     },
     "execution_count": 20,
     "metadata": {},
     "output_type": "execute_result"
    }
   ],
   "source": [
    "strains['Creative'] = strains[['Effects1', 'Effects2', 'Effects3', 'Effects4', 'Effects5']].apply(effects_Creative,axis=1)\n",
    "strains['Creative'].head()"
   ]
  },
  {
   "cell_type": "code",
   "execution_count": 21,
   "metadata": {},
   "outputs": [],
   "source": [
    "def effects_Dry(cols):\n",
    "    Effects1 = cols[0]\n",
    "    Effects2 = cols[1]\n",
    "    Effects3 = cols[2]\n",
    "    Effects4 = cols[3]\n",
    "    Effects5 = cols[4]\n",
    "    \n",
    "    if ((cols[0] == 'Dry') or (cols[1] == 'Dry') or (cols[2] == 'Dry') or\n",
    "    (cols[3] == 'Dry') or (cols[4] == 'Dry')):\n",
    "        return 1\n",
    "    else :\n",
    "        return 0"
   ]
  },
  {
   "cell_type": "code",
   "execution_count": 22,
   "metadata": {},
   "outputs": [
    {
     "data": {
      "text/plain": [
       "0    0\n",
       "1    0\n",
       "2    0\n",
       "3    0\n",
       "4    0\n",
       "Name: Dry, dtype: int64"
      ]
     },
     "execution_count": 22,
     "metadata": {},
     "output_type": "execute_result"
    }
   ],
   "source": [
    "strains['Dry'] = strains[['Effects1', 'Effects2', 'Effects3', 'Effects4', 'Effects5']].apply(effects_Dry,axis=1)\n",
    "strains['Dry'].head()"
   ]
  },
  {
   "cell_type": "code",
   "execution_count": 23,
   "metadata": {},
   "outputs": [],
   "source": [
    "def effects_Energetic(cols):\n",
    "    Effects1 = cols[0]\n",
    "    Effects2 = cols[1]\n",
    "    Effects3 = cols[2]\n",
    "    Effects4 = cols[3]\n",
    "    Effects5 = cols[4]\n",
    "    \n",
    "    if ((cols[0] == 'Energetic') or (cols[1] == 'Energetic') or (cols[2] == 'Energetic') or\n",
    "    (cols[3] == 'Energetic') or (cols[4] == 'Energetic')):\n",
    "        return 1\n",
    "    else :\n",
    "        return 0"
   ]
  },
  {
   "cell_type": "code",
   "execution_count": 24,
   "metadata": {},
   "outputs": [
    {
     "data": {
      "text/plain": [
       "0    1\n",
       "1    1\n",
       "2    1\n",
       "3    0\n",
       "4    0\n",
       "Name: Energetic, dtype: int64"
      ]
     },
     "execution_count": 24,
     "metadata": {},
     "output_type": "execute_result"
    }
   ],
   "source": [
    "strains['Energetic'] = strains[['Effects1', 'Effects2', 'Effects3', 'Effects4', 'Effects5']].apply(effects_Energetic,axis=1)\n",
    "strains['Energetic'].head()"
   ]
  },
  {
   "cell_type": "code",
   "execution_count": 25,
   "metadata": {},
   "outputs": [],
   "source": [
    "def effects_Euphoric(cols):\n",
    "    Effects1 = cols[0]\n",
    "    Effects2 = cols[1]\n",
    "    Effects3 = cols[2]\n",
    "    Effects4 = cols[3]\n",
    "    Effects5 = cols[4]\n",
    "    \n",
    "    if ((cols[0] == 'Euphoric') or (cols[1] == 'Euphoric') or (cols[2] == 'Euphoric') or\n",
    "    (cols[3] == 'Euphoric') or (cols[4] == 'Euphoric')):\n",
    "        return 1\n",
    "    else :\n",
    "        return 0"
   ]
  },
  {
   "cell_type": "code",
   "execution_count": 26,
   "metadata": {},
   "outputs": [
    {
     "data": {
      "text/plain": [
       "0    1\n",
       "1    0\n",
       "2    0\n",
       "3    0\n",
       "4    1\n",
       "Name: Euphoric, dtype: int64"
      ]
     },
     "execution_count": 26,
     "metadata": {},
     "output_type": "execute_result"
    }
   ],
   "source": [
    "strains['Euphoric'] = strains[['Effects1', 'Effects2', 'Effects3', 'Effects4', 'Effects5']].apply(effects_Euphoric,axis=1)\n",
    "strains['Euphoric'].head()"
   ]
  },
  {
   "cell_type": "code",
   "execution_count": 27,
   "metadata": {},
   "outputs": [],
   "source": [
    "def effects_Focused(cols):\n",
    "    Effects1 = cols[0]\n",
    "    Effects2 = cols[1]\n",
    "    Effects3 = cols[2]\n",
    "    Effects4 = cols[3]\n",
    "    Effects5 = cols[4]\n",
    "    \n",
    "    if ((cols[0] == 'Focused') or (cols[1] == 'Focused') or (cols[2] == 'Focused') or\n",
    "    (cols[3] == 'Focused') or (cols[4] == 'Focused')):\n",
    "        return 1\n",
    "    else :\n",
    "        return 0"
   ]
  },
  {
   "cell_type": "code",
   "execution_count": 28,
   "metadata": {},
   "outputs": [
    {
     "data": {
      "text/plain": [
       "0    0\n",
       "1    0\n",
       "2    0\n",
       "3    0\n",
       "4    0\n",
       "Name: Focused, dtype: int64"
      ]
     },
     "execution_count": 28,
     "metadata": {},
     "output_type": "execute_result"
    }
   ],
   "source": [
    "strains['Focused'] = strains[['Effects1', 'Effects2', 'Effects3', 'Effects4', 'Effects5']].apply(effects_Focused,axis=1)\n",
    "strains['Focused'].head()"
   ]
  },
  {
   "cell_type": "code",
   "execution_count": 29,
   "metadata": {},
   "outputs": [],
   "source": [
    "def effects_Giggly(cols):\n",
    "    Effects1 = cols[0]\n",
    "    Effects2 = cols[1]\n",
    "    Effects3 = cols[2]\n",
    "    Effects4 = cols[3]\n",
    "    Effects5 = cols[4]\n",
    "    \n",
    "    if ((cols[0] == 'Giggly') or (cols[1] == 'Giggly') or (cols[2] == 'Giggly') or\n",
    "    (cols[3] == 'Giggly') or (cols[4] == 'Giggly')):\n",
    "        return 1\n",
    "    else :\n",
    "        return 0"
   ]
  },
  {
   "cell_type": "code",
   "execution_count": 30,
   "metadata": {},
   "outputs": [
    {
     "data": {
      "text/plain": [
       "0    0\n",
       "1    0\n",
       "2    0\n",
       "3    0\n",
       "4    0\n",
       "Name: Giggly, dtype: int64"
      ]
     },
     "execution_count": 30,
     "metadata": {},
     "output_type": "execute_result"
    }
   ],
   "source": [
    "strains['Giggly'] = strains[['Effects1', 'Effects2', 'Effects3', 'Effects4', 'Effects5']].apply(effects_Giggly,axis=1)\n",
    "strains['Giggly'].head()"
   ]
  },
  {
   "cell_type": "code",
   "execution_count": 31,
   "metadata": {},
   "outputs": [],
   "source": [
    "def effects_Happy(cols):\n",
    "    Effects1 = cols[0]\n",
    "    Effects2 = cols[1]\n",
    "    Effects3 = cols[2]\n",
    "    Effects4 = cols[3]\n",
    "    Effects5 = cols[4]\n",
    "    \n",
    "    if ((cols[0] == 'Happy') or (cols[1] == 'Happy') or (cols[2] == 'Happy') or\n",
    "    (cols[3] == 'Happy') or (cols[4] == 'Happy')):\n",
    "        return 1\n",
    "    else :\n",
    "        return 0"
   ]
  },
  {
   "cell_type": "code",
   "execution_count": 32,
   "metadata": {},
   "outputs": [
    {
     "data": {
      "text/plain": [
       "0    0\n",
       "1    1\n",
       "2    1\n",
       "3    0\n",
       "4    1\n",
       "Name: Happy, dtype: int64"
      ]
     },
     "execution_count": 32,
     "metadata": {},
     "output_type": "execute_result"
    }
   ],
   "source": [
    "strains['Happy'] = strains[['Effects1', 'Effects2', 'Effects3', 'Effects4', 'Effects5']].apply(effects_Happy,axis=1)\n",
    "strains['Happy'].head()"
   ]
  },
  {
   "cell_type": "code",
   "execution_count": 33,
   "metadata": {},
   "outputs": [],
   "source": [
    "def effects_Hungry(cols):\n",
    "    Effects1 = cols[0]\n",
    "    Effects2 = cols[1]\n",
    "    Effects3 = cols[2]\n",
    "    Effects4 = cols[3]\n",
    "    Effects5 = cols[4]\n",
    "    \n",
    "    if ((cols[0] == 'Hungry') or (cols[1] == 'Hungry') or (cols[2] == 'Hungry') or\n",
    "    (cols[3] == 'Hungry') or (cols[4] == 'Hungry')):\n",
    "        return 1\n",
    "    else :\n",
    "        return 0"
   ]
  },
  {
   "cell_type": "code",
   "execution_count": 34,
   "metadata": {},
   "outputs": [
    {
     "data": {
      "text/plain": [
       "0    0\n",
       "1    0\n",
       "2    0\n",
       "3    1\n",
       "4    0\n",
       "Name: Hungry, dtype: int64"
      ]
     },
     "execution_count": 34,
     "metadata": {},
     "output_type": "execute_result"
    }
   ],
   "source": [
    "strains['Hungry'] = strains[['Effects1', 'Effects2', 'Effects3', 'Effects4', 'Effects5']].apply(effects_Hungry,axis=1)\n",
    "strains['Hungry'].head()"
   ]
  },
  {
   "cell_type": "code",
   "execution_count": 35,
   "metadata": {},
   "outputs": [],
   "source": [
    "def effects_None(cols):\n",
    "    Effects1 = cols[0]\n",
    "    Effects2 = cols[1]\n",
    "    Effects3 = cols[2]\n",
    "    Effects4 = cols[3]\n",
    "    Effects5 = cols[4]\n",
    "    \n",
    "    if ((cols[0] == 'None') or (cols[1] == 'None') or (cols[2] == 'None') or\n",
    "    (cols[3] == 'None') or (cols[4] == 'None')):\n",
    "        return 1\n",
    "    else :\n",
    "        return 0"
   ]
  },
  {
   "cell_type": "code",
   "execution_count": 36,
   "metadata": {},
   "outputs": [
    {
     "data": {
      "text/html": [
       "<div>\n",
       "<style scoped>\n",
       "    .dataframe tbody tr th:only-of-type {\n",
       "        vertical-align: middle;\n",
       "    }\n",
       "\n",
       "    .dataframe tbody tr th {\n",
       "        vertical-align: top;\n",
       "    }\n",
       "\n",
       "    .dataframe thead th {\n",
       "        text-align: right;\n",
       "    }\n",
       "</style>\n",
       "<table border=\"1\" class=\"dataframe\">\n",
       "  <thead>\n",
       "    <tr style=\"text-align: right;\">\n",
       "      <th></th>\n",
       "      <th>None</th>\n",
       "      <th>None</th>\n",
       "    </tr>\n",
       "  </thead>\n",
       "  <tbody>\n",
       "    <tr>\n",
       "      <th>0</th>\n",
       "      <td>0</td>\n",
       "      <td>0</td>\n",
       "    </tr>\n",
       "    <tr>\n",
       "      <th>1</th>\n",
       "      <td>0</td>\n",
       "      <td>0</td>\n",
       "    </tr>\n",
       "    <tr>\n",
       "      <th>2</th>\n",
       "      <td>0</td>\n",
       "      <td>0</td>\n",
       "    </tr>\n",
       "    <tr>\n",
       "      <th>3</th>\n",
       "      <td>0</td>\n",
       "      <td>0</td>\n",
       "    </tr>\n",
       "    <tr>\n",
       "      <th>4</th>\n",
       "      <td>0</td>\n",
       "      <td>0</td>\n",
       "    </tr>\n",
       "  </tbody>\n",
       "</table>\n",
       "</div>"
      ],
      "text/plain": [
       "   None  None\n",
       "0     0     0\n",
       "1     0     0\n",
       "2     0     0\n",
       "3     0     0\n",
       "4     0     0"
      ]
     },
     "execution_count": 36,
     "metadata": {},
     "output_type": "execute_result"
    }
   ],
   "source": [
    "strains['None'] = strains[['Effects1', 'Effects2', 'Effects3', 'Effects4', 'Effects5']].apply(effects_None,axis=1)\n",
    "strains['None'].head()"
   ]
  },
  {
   "cell_type": "code",
   "execution_count": 37,
   "metadata": {},
   "outputs": [],
   "source": [
    "def effects_Relaxed(cols):\n",
    "    Effects1 = cols[0]\n",
    "    Effects2 = cols[1]\n",
    "    Effects3 = cols[2]\n",
    "    Effects4 = cols[3]\n",
    "    Effects5 = cols[4]\n",
    "    \n",
    "    if ((cols[0] == 'Relaxed') or (cols[1] == 'Relaxed') or (cols[2] == 'Relaxed') or\n",
    "    (cols[3] == 'Relaxed') or (cols[4] == 'Relaxed')):\n",
    "        return 1\n",
    "    else :\n",
    "        return 0"
   ]
  },
  {
   "cell_type": "code",
   "execution_count": 38,
   "metadata": {},
   "outputs": [
    {
     "data": {
      "text/plain": [
       "0    1\n",
       "1    1\n",
       "2    1\n",
       "3    1\n",
       "4    1\n",
       "Name: Relaxed, dtype: int64"
      ]
     },
     "execution_count": 38,
     "metadata": {},
     "output_type": "execute_result"
    }
   ],
   "source": [
    "strains['Relaxed'] = strains[['Effects1', 'Effects2', 'Effects3', 'Effects4', 'Effects5']].apply(effects_Relaxed,axis=1)\n",
    "strains['Relaxed'].head()"
   ]
  },
  {
   "cell_type": "code",
   "execution_count": 39,
   "metadata": {},
   "outputs": [],
   "source": [
    "def effects_Sleepy(cols):\n",
    "    Effects1 = cols[0]\n",
    "    Effects2 = cols[1]\n",
    "    Effects3 = cols[2]\n",
    "    Effects4 = cols[3]\n",
    "    Effects5 = cols[4]\n",
    "    \n",
    "    if ((cols[0] == 'Sleepy') or (cols[1] == 'Sleepy') or (cols[2] == 'Sleepy') or\n",
    "    (cols[3] == 'Sleepy') or (cols[4] == 'Sleepy')):\n",
    "        return 1\n",
    "    else :\n",
    "        return 0"
   ]
  },
  {
   "cell_type": "code",
   "execution_count": 40,
   "metadata": {},
   "outputs": [
    {
     "data": {
      "text/plain": [
       "0    0\n",
       "1    0\n",
       "2    0\n",
       "3    0\n",
       "4    0\n",
       "Name: Sleepy, dtype: int64"
      ]
     },
     "execution_count": 40,
     "metadata": {},
     "output_type": "execute_result"
    }
   ],
   "source": [
    "strains['Sleepy'] = strains[['Effects1', 'Effects2', 'Effects3', 'Effects4', 'Effects5']].apply(effects_Sleepy,axis=1)\n",
    "strains['Sleepy'].head()"
   ]
  },
  {
   "cell_type": "code",
   "execution_count": 41,
   "metadata": {},
   "outputs": [],
   "source": [
    "def effects_Talkative(cols):\n",
    "    Effects1 = cols[0]\n",
    "    Effects2 = cols[1]\n",
    "    Effects3 = cols[2]\n",
    "    Effects4 = cols[3]\n",
    "    Effects5 = cols[4]\n",
    "    \n",
    "    if ((cols[0] == 'Talkative') or (cols[1] == 'Talkative') or (cols[2] == 'Talkative') or\n",
    "    (cols[3] == 'Talkative') or (cols[4] == 'Talkative')):\n",
    "        return 1\n",
    "    else :\n",
    "        return 0"
   ]
  },
  {
   "cell_type": "code",
   "execution_count": 42,
   "metadata": {},
   "outputs": [
    {
     "data": {
      "text/plain": [
       "0    0\n",
       "1    0\n",
       "2    0\n",
       "3    0\n",
       "4    1\n",
       "Name: Talkative, dtype: int64"
      ]
     },
     "execution_count": 42,
     "metadata": {},
     "output_type": "execute_result"
    }
   ],
   "source": [
    "strains['Talkative'] = strains[['Effects1', 'Effects2', 'Effects3', 'Effects4', 'Effects5']].apply(effects_Talkative,axis=1)\n",
    "strains['Talkative'].head()"
   ]
  },
  {
   "cell_type": "code",
   "execution_count": 43,
   "metadata": {},
   "outputs": [],
   "source": [
    "def effects_Tingly(cols):\n",
    "    Effects1 = cols[0]\n",
    "    Effects2 = cols[1]\n",
    "    Effects3 = cols[2]\n",
    "    Effects4 = cols[3]\n",
    "    Effects5 = cols[4]\n",
    "    \n",
    "    if ((cols[0] == 'Tingly') or (cols[1] == 'Tingly') or (cols[2] == 'Tingly') or\n",
    "    (cols[3] == 'Tingly') or (cols[4] == 'Tingly')):\n",
    "        return 1\n",
    "    else :\n",
    "        return 0"
   ]
  },
  {
   "cell_type": "code",
   "execution_count": 44,
   "metadata": {},
   "outputs": [
    {
     "data": {
      "text/plain": [
       "0    1\n",
       "1    0\n",
       "2    0\n",
       "3    1\n",
       "4    0\n",
       "Name: Tingly, dtype: int64"
      ]
     },
     "execution_count": 44,
     "metadata": {},
     "output_type": "execute_result"
    }
   ],
   "source": [
    "strains['Tingly'] = strains[['Effects1', 'Effects2', 'Effects3', 'Effects4', 'Effects5']].apply(effects_Tingly,axis=1)\n",
    "strains['Tingly'].head()"
   ]
  },
  {
   "cell_type": "code",
   "execution_count": 45,
   "metadata": {},
   "outputs": [],
   "source": [
    "def effects_Uplifted(cols):\n",
    "    Effects1 = cols[0]\n",
    "    Effects2 = cols[1]\n",
    "    Effects3 = cols[2]\n",
    "    Effects4 = cols[3]\n",
    "    Effects5 = cols[4]\n",
    "    \n",
    "    if ((cols[0] == 'Uplifted') or (cols[1] == 'Uplifted') or (cols[2] == 'Uplifted') or\n",
    "    (cols[3] == 'Uplifted') or (cols[4] == 'Uplifted')):\n",
    "        return 1\n",
    "    else :\n",
    "        return 0"
   ]
  },
  {
   "cell_type": "code",
   "execution_count": 46,
   "metadata": {},
   "outputs": [
    {
     "data": {
      "text/plain": [
       "0    0\n",
       "1    0\n",
       "2    1\n",
       "3    1\n",
       "4    1\n",
       "Name: Uplifted, dtype: int64"
      ]
     },
     "execution_count": 46,
     "metadata": {},
     "output_type": "execute_result"
    }
   ],
   "source": [
    "strains['Uplifted'] = strains[['Effects1', 'Effects2', 'Effects3', 'Effects4', 'Effects5']].apply(effects_Uplifted,axis=1)\n",
    "strains['Uplifted'].head()"
   ]
  },
  {
   "cell_type": "code",
   "execution_count": 47,
   "metadata": {},
   "outputs": [],
   "source": [
    "def flavor_Citrus(cols):\n",
    "    Flavor1 = cols[0]\n",
    "    Flavor2 = cols[1]\n",
    "    Flavor3 = cols[2]\n",
    "    \n",
    "    \n",
    "    if ((cols[0] == 'Citrus') or (cols[1] == 'Citrus') or (cols[2] == 'Citrus') ):\n",
    "        return 1\n",
    "    else :\n",
    "        return 0"
   ]
  },
  {
   "cell_type": "code",
   "execution_count": 48,
   "metadata": {},
   "outputs": [
    {
     "data": {
      "text/plain": [
       "0    1\n",
       "1    0\n",
       "2    0\n",
       "3    1\n",
       "4    1\n",
       "Name: Citrus, dtype: int64"
      ]
     },
     "execution_count": 48,
     "metadata": {},
     "output_type": "execute_result"
    }
   ],
   "source": [
    "strains['Citrus'] = strains[['Flavor1', 'Flavor2', 'Flavor3']].apply(flavor_Citrus,axis=1)\n",
    "strains['Citrus'].head()"
   ]
  },
  {
   "cell_type": "code",
   "execution_count": 49,
   "metadata": {},
   "outputs": [],
   "source": [
    "def flavor_Diesel(cols):\n",
    "    Flavor1 = cols[0]\n",
    "    Flavor2 = cols[1]\n",
    "    Flavor3 = cols[2]\n",
    "    \n",
    "    \n",
    "    if ((cols[0] == 'Diesel') or (cols[1] == 'Diesel') or (cols[2] == 'Diesel') ):\n",
    "        return 1\n",
    "    else :\n",
    "        return 0"
   ]
  },
  {
   "cell_type": "code",
   "execution_count": 50,
   "metadata": {},
   "outputs": [
    {
     "data": {
      "text/plain": [
       "0    0\n",
       "1    1\n",
       "2    0\n",
       "3    0\n",
       "4    0\n",
       "Name: Diesel, dtype: int64"
      ]
     },
     "execution_count": 50,
     "metadata": {},
     "output_type": "execute_result"
    }
   ],
   "source": [
    "strains['Diesel'] = strains[['Flavor1', 'Flavor2', 'Flavor3']].apply(flavor_Diesel,axis=1)\n",
    "strains['Diesel'].head()"
   ]
  },
  {
   "cell_type": "code",
   "execution_count": 51,
   "metadata": {},
   "outputs": [],
   "source": [
    "def flavor_Woody(cols):\n",
    "    Flavor1 = cols[0]\n",
    "    Flavor2 = cols[1]\n",
    "    Flavor3 = cols[2]\n",
    "    \n",
    "    \n",
    "    if ((cols[0] == 'Woody') or (cols[1] == 'Woody') or (cols[2] == 'Woody') ):\n",
    "        return 1\n",
    "    else :\n",
    "        return 0"
   ]
  },
  {
   "cell_type": "code",
   "execution_count": 52,
   "metadata": {},
   "outputs": [
    {
     "data": {
      "text/plain": [
       "0    0\n",
       "1    0\n",
       "2    1\n",
       "3    0\n",
       "4    0\n",
       "Name: Woody, dtype: int64"
      ]
     },
     "execution_count": 52,
     "metadata": {},
     "output_type": "execute_result"
    }
   ],
   "source": [
    "strains['Woody'] = strains[['Flavor1', 'Flavor2', 'Flavor3']].apply(flavor_Woody,axis=1)\n",
    "strains['Woody'].head()"
   ]
  },
  {
   "cell_type": "code",
   "execution_count": 53,
   "metadata": {},
   "outputs": [],
   "source": [
    "def flavor_Grapefruit(cols):\n",
    "    Flavor1 = cols[0]\n",
    "    Flavor2 = cols[1]\n",
    "    Flavor3 = cols[2]\n",
    "    \n",
    "    \n",
    "    if ((cols[0] == 'Grapefruit') or (cols[1] == 'Grapefruit') or (cols[2] == 'Grapefruit') ):\n",
    "        return 1\n",
    "    else :\n",
    "        return 0"
   ]
  },
  {
   "cell_type": "code",
   "execution_count": 54,
   "metadata": {},
   "outputs": [
    {
     "data": {
      "text/plain": [
       "0    0\n",
       "1    0\n",
       "2    0\n",
       "3    1\n",
       "4    0\n",
       "Name: Grapefruit, dtype: int64"
      ]
     },
     "execution_count": 54,
     "metadata": {},
     "output_type": "execute_result"
    }
   ],
   "source": [
    "strains['Grapefruit'] = strains[['Flavor1', 'Flavor2', 'Flavor3']].apply(flavor_Grapefruit,axis=1)\n",
    "strains['Grapefruit'].head()"
   ]
  },
  {
   "cell_type": "code",
   "execution_count": 55,
   "metadata": {},
   "outputs": [],
   "source": [
    "def flavor_Orange(cols):\n",
    "    Flavor1 = cols[0]\n",
    "    Flavor2 = cols[1]\n",
    "    Flavor3 = cols[2]\n",
    "    \n",
    "    \n",
    "    if ((cols[0] == 'Orange') or (cols[1] == 'Orange') or (cols[2] == 'Orange') ):\n",
    "        return 1\n",
    "    else :\n",
    "        return 0"
   ]
  },
  {
   "cell_type": "code",
   "execution_count": 56,
   "metadata": {},
   "outputs": [
    {
     "data": {
      "text/plain": [
       "0    0\n",
       "1    0\n",
       "2    0\n",
       "3    0\n",
       "4    1\n",
       "Name: Orange, dtype: int64"
      ]
     },
     "execution_count": 56,
     "metadata": {},
     "output_type": "execute_result"
    }
   ],
   "source": [
    "strains['Orange'] = strains[['Flavor1', 'Flavor2', 'Flavor3']].apply(flavor_Orange,axis=1)\n",
    "strains['Orange'].head()"
   ]
  },
  {
   "cell_type": "code",
   "execution_count": 57,
   "metadata": {},
   "outputs": [],
   "source": [
    "def flavor_None(cols):\n",
    "    Flavor1 = cols[0]\n",
    "    Flavor2 = cols[1]\n",
    "    Flavor3 = cols[2]\n",
    "    \n",
    "    \n",
    "    if ((cols[0] == 'None') or (cols[1] == 'None') or (cols[2] == 'None') ):\n",
    "        return 1\n",
    "    else :\n",
    "        return 0"
   ]
  },
  {
   "cell_type": "code",
   "execution_count": 58,
   "metadata": {},
   "outputs": [
    {
     "data": {
      "text/html": [
       "<div>\n",
       "<style scoped>\n",
       "    .dataframe tbody tr th:only-of-type {\n",
       "        vertical-align: middle;\n",
       "    }\n",
       "\n",
       "    .dataframe tbody tr th {\n",
       "        vertical-align: top;\n",
       "    }\n",
       "\n",
       "    .dataframe thead th {\n",
       "        text-align: right;\n",
       "    }\n",
       "</style>\n",
       "<table border=\"1\" class=\"dataframe\">\n",
       "  <thead>\n",
       "    <tr style=\"text-align: right;\">\n",
       "      <th></th>\n",
       "      <th>None</th>\n",
       "      <th>None</th>\n",
       "    </tr>\n",
       "  </thead>\n",
       "  <tbody>\n",
       "    <tr>\n",
       "      <th>0</th>\n",
       "      <td>0</td>\n",
       "      <td>0</td>\n",
       "    </tr>\n",
       "    <tr>\n",
       "      <th>1</th>\n",
       "      <td>0</td>\n",
       "      <td>0</td>\n",
       "    </tr>\n",
       "    <tr>\n",
       "      <th>2</th>\n",
       "      <td>0</td>\n",
       "      <td>0</td>\n",
       "    </tr>\n",
       "    <tr>\n",
       "      <th>3</th>\n",
       "      <td>0</td>\n",
       "      <td>0</td>\n",
       "    </tr>\n",
       "    <tr>\n",
       "      <th>4</th>\n",
       "      <td>0</td>\n",
       "      <td>0</td>\n",
       "    </tr>\n",
       "  </tbody>\n",
       "</table>\n",
       "</div>"
      ],
      "text/plain": [
       "   None  None\n",
       "0     0     0\n",
       "1     0     0\n",
       "2     0     0\n",
       "3     0     0\n",
       "4     0     0"
      ]
     },
     "execution_count": 58,
     "metadata": {},
     "output_type": "execute_result"
    }
   ],
   "source": [
    "strains['None'] = strains[['Flavor1', 'Flavor2', 'Flavor3']].apply(flavor_None,axis=1)\n",
    "strains['None'].head()"
   ]
  },
  {
   "cell_type": "code",
   "execution_count": 59,
   "metadata": {},
   "outputs": [],
   "source": [
    "def flavor_Pungent(cols):\n",
    "    Flavor1 = cols[0]\n",
    "    Flavor2 = cols[1]\n",
    "    Flavor3 = cols[2]\n",
    "    \n",
    "    \n",
    "    if ((cols[0] == 'Pungent') or (cols[1] == 'Pungent') or (cols[2] == 'Pungent') ):\n",
    "        return 1\n",
    "    else :\n",
    "        return 0"
   ]
  },
  {
   "cell_type": "code",
   "execution_count": 60,
   "metadata": {},
   "outputs": [
    {
     "data": {
      "text/plain": [
       "0    0\n",
       "1    0\n",
       "2    0\n",
       "3    0\n",
       "4    0\n",
       "Name: Pungent, dtype: int64"
      ]
     },
     "execution_count": 60,
     "metadata": {},
     "output_type": "execute_result"
    }
   ],
   "source": [
    "strains['Pungent'] = strains[['Flavor1', 'Flavor2', 'Flavor3']].apply(flavor_Pungent,axis=1)\n",
    "strains['Pungent'].head()"
   ]
  },
  {
   "cell_type": "code",
   "execution_count": 61,
   "metadata": {},
   "outputs": [],
   "source": [
    "def flavor_Earthy(cols):\n",
    "    Flavor1 = cols[0]\n",
    "    Flavor2 = cols[1]\n",
    "    Flavor3 = cols[2]\n",
    "    \n",
    "    \n",
    "    if ((cols[0] == 'Earthy') or (cols[1] == 'Earthy') or (cols[2] == 'Earthy') ):\n",
    "        return 1\n",
    "    else :\n",
    "        return 0"
   ]
  },
  {
   "cell_type": "code",
   "execution_count": 62,
   "metadata": {},
   "outputs": [
    {
     "data": {
      "text/plain": [
       "0    1\n",
       "1    0\n",
       "2    0\n",
       "3    0\n",
       "4    1\n",
       "Name: Earthy, dtype: int64"
      ]
     },
     "execution_count": 62,
     "metadata": {},
     "output_type": "execute_result"
    }
   ],
   "source": [
    "strains['Earthy'] = strains[['Flavor1', 'Flavor2', 'Flavor3']].apply(flavor_Earthy,axis=1)\n",
    "strains['Earthy'].head()"
   ]
  },
  {
   "cell_type": "code",
   "execution_count": 63,
   "metadata": {},
   "outputs": [],
   "source": [
    "def flavor_Flowery(cols):\n",
    "    Flavor1 = cols[0]\n",
    "    Flavor2 = cols[1]\n",
    "    Flavor3 = cols[2]\n",
    "    \n",
    "    \n",
    "    if ((cols[0] == 'Flowery') or (cols[1] == 'Flowery') or (cols[2] == 'Flowery') ):\n",
    "        return 1\n",
    "    else :\n",
    "        return 0"
   ]
  },
  {
   "cell_type": "code",
   "execution_count": 64,
   "metadata": {},
   "outputs": [
    {
     "data": {
      "text/plain": [
       "0    0\n",
       "1    1\n",
       "2    0\n",
       "3    0\n",
       "4    0\n",
       "Name: Flowery, dtype: int64"
      ]
     },
     "execution_count": 64,
     "metadata": {},
     "output_type": "execute_result"
    }
   ],
   "source": [
    "strains['Flowery'] = strains[['Flavor1', 'Flavor2', 'Flavor3']].apply(flavor_Flowery,axis=1)\n",
    "strains['Flowery'].head()"
   ]
  },
  {
   "cell_type": "code",
   "execution_count": 65,
   "metadata": {},
   "outputs": [],
   "source": [
    "def flavor_Sweet(cols):\n",
    "    Flavor1 = cols[0]\n",
    "    Flavor2 = cols[1]\n",
    "    Flavor3 = cols[2]\n",
    "    \n",
    "    \n",
    "    if ((cols[0] == 'Sweet') or (cols[1] == 'Sweet') or (cols[2] == 'Sweet') ):\n",
    "        return 1\n",
    "    else :\n",
    "        return 0"
   ]
  },
  {
   "cell_type": "code",
   "execution_count": 66,
   "metadata": {},
   "outputs": [
    {
     "data": {
      "text/plain": [
       "0    1\n",
       "1    0\n",
       "2    0\n",
       "3    0\n",
       "4    0\n",
       "Name: Sweet, dtype: int64"
      ]
     },
     "execution_count": 66,
     "metadata": {},
     "output_type": "execute_result"
    }
   ],
   "source": [
    "strains['Sweet'] = strains[['Flavor1', 'Flavor2', 'Flavor3']].apply(flavor_Sweet,axis=1)\n",
    "strains['Sweet'].head()"
   ]
  },
  {
   "cell_type": "code",
   "execution_count": 67,
   "metadata": {},
   "outputs": [],
   "source": [
    "def flavor_Skunk(cols):\n",
    "    Flavor1 = cols[0]\n",
    "    Flavor2 = cols[1]\n",
    "    Flavor3 = cols[2]\n",
    "    \n",
    "    \n",
    "    if ((cols[0] == 'Skunk') or (cols[1] == 'Skunk') or (cols[2] == 'Skunk') ):\n",
    "        return 1\n",
    "    else :\n",
    "        return 0"
   ]
  },
  {
   "cell_type": "code",
   "execution_count": 68,
   "metadata": {},
   "outputs": [
    {
     "data": {
      "text/plain": [
       "0    0\n",
       "1    0\n",
       "2    0\n",
       "3    0\n",
       "4    0\n",
       "Name: Skunk, dtype: int64"
      ]
     },
     "execution_count": 68,
     "metadata": {},
     "output_type": "execute_result"
    }
   ],
   "source": [
    "strains['Skunk'] = strains[['Flavor1', 'Flavor2', 'Flavor3']].apply(flavor_Skunk,axis=1)\n",
    "strains['Skunk'].head()"
   ]
  },
  {
   "cell_type": "code",
   "execution_count": 69,
   "metadata": {},
   "outputs": [],
   "source": [
    "def flavor_Pine(cols):\n",
    "    Flavor1 = cols[0]\n",
    "    Flavor2 = cols[1]\n",
    "    Flavor3 = cols[2]\n",
    "    \n",
    "    \n",
    "    if ((cols[0] == 'Pine') or (cols[1] == 'Pine') or (cols[2] == 'Pine') ):\n",
    "        return 1\n",
    "    else :\n",
    "        return 0"
   ]
  },
  {
   "cell_type": "code",
   "execution_count": 70,
   "metadata": {},
   "outputs": [
    {
     "data": {
      "text/plain": [
       "0    0\n",
       "1    0\n",
       "2    0\n",
       "3    0\n",
       "4    0\n",
       "Name: Pine, dtype: int64"
      ]
     },
     "execution_count": 70,
     "metadata": {},
     "output_type": "execute_result"
    }
   ],
   "source": [
    "strains['Pine'] = strains[['Flavor1', 'Flavor2', 'Flavor3']].apply(flavor_Pine,axis=1)\n",
    "strains['Pine'].head()"
   ]
  },
  {
   "cell_type": "code",
   "execution_count": 71,
   "metadata": {},
   "outputs": [],
   "source": [
    "def flavor_Berry(cols):\n",
    "    Flavor1 = cols[0]\n",
    "    Flavor2 = cols[1]\n",
    "    Flavor3 = cols[2]\n",
    "    \n",
    "    \n",
    "    if ((cols[0] == 'Berry') or (cols[1] == 'Berry') or (cols[2] == 'Berry') ):\n",
    "        return 1\n",
    "    else :\n",
    "        return 0"
   ]
  },
  {
   "cell_type": "code",
   "execution_count": 72,
   "metadata": {},
   "outputs": [
    {
     "data": {
      "text/plain": [
       "0    0\n",
       "1    0\n",
       "2    0\n",
       "3    0\n",
       "4    0\n",
       "Name: Berry, dtype: int64"
      ]
     },
     "execution_count": 72,
     "metadata": {},
     "output_type": "execute_result"
    }
   ],
   "source": [
    "strains['Berry'] = strains[['Flavor1', 'Flavor2', 'Flavor3']].apply(flavor_Berry,axis=1)\n",
    "strains['Berry'].head()"
   ]
  },
  {
   "cell_type": "code",
   "execution_count": 73,
   "metadata": {},
   "outputs": [],
   "source": [
    "def flavor_Cheese(cols):\n",
    "    Flavor1 = cols[0]\n",
    "    Flavor2 = cols[1]\n",
    "    Flavor3 = cols[2]\n",
    "    \n",
    "    \n",
    "    if ((cols[0] == 'Cheese') or (cols[1] == 'Cheese') or (cols[2] == 'Cheese') ):\n",
    "        return 1\n",
    "    else :\n",
    "        return 0"
   ]
  },
  {
   "cell_type": "code",
   "execution_count": 74,
   "metadata": {},
   "outputs": [
    {
     "data": {
      "text/plain": [
       "0    0\n",
       "1    0\n",
       "2    0\n",
       "3    0\n",
       "4    0\n",
       "Name: Cheese, dtype: int64"
      ]
     },
     "execution_count": 74,
     "metadata": {},
     "output_type": "execute_result"
    }
   ],
   "source": [
    "strains['Cheese'] = strains[['Flavor1', 'Flavor2', 'Flavor3']].apply(flavor_Cheese,axis=1)\n",
    "strains['Cheese'].head()"
   ]
  },
  {
   "cell_type": "code",
   "execution_count": 75,
   "metadata": {},
   "outputs": [],
   "source": [
    "def flavor_SpicyHerbal(cols):\n",
    "    Flavor1 = cols[0]\n",
    "    Flavor2 = cols[1]\n",
    "    Flavor3 = cols[2]\n",
    "    \n",
    "    \n",
    "    if ((cols[0] == 'Spicy/Herbal') or (cols[1] == 'Spicy/Herbal') or (cols[2] == 'Spicy/Herbal') ):\n",
    "        return 1\n",
    "    else :\n",
    "        return 0"
   ]
  },
  {
   "cell_type": "code",
   "execution_count": 76,
   "metadata": {},
   "outputs": [
    {
     "data": {
      "text/plain": [
       "0    0\n",
       "1    0\n",
       "2    1\n",
       "3    0\n",
       "4    0\n",
       "Name: Spicy/Herbal, dtype: int64"
      ]
     },
     "execution_count": 76,
     "metadata": {},
     "output_type": "execute_result"
    }
   ],
   "source": [
    "strains['Spicy/Herbal'] = strains[['Flavor1', 'Flavor2', 'Flavor3']].apply(flavor_SpicyHerbal,axis=1)\n",
    "strains['Spicy/Herbal'].head()"
   ]
  },
  {
   "cell_type": "code",
   "execution_count": 77,
   "metadata": {},
   "outputs": [],
   "source": [
    "def flavor_Lemon(cols):\n",
    "    Flavor1 = cols[0]\n",
    "    Flavor2 = cols[1]\n",
    "    Flavor3 = cols[2]\n",
    "    \n",
    "    \n",
    "    if ((cols[0] == 'Lemon') or (cols[1] == 'Lemon') or (cols[2] == 'Lemon') ):\n",
    "        return 1\n",
    "    else :\n",
    "        return 0"
   ]
  },
  {
   "cell_type": "code",
   "execution_count": 78,
   "metadata": {},
   "outputs": [
    {
     "data": {
      "text/plain": [
       "0    0\n",
       "1    0\n",
       "2    0\n",
       "3    0\n",
       "4    0\n",
       "Name: Lemon, dtype: int64"
      ]
     },
     "execution_count": 78,
     "metadata": {},
     "output_type": "execute_result"
    }
   ],
   "source": [
    "strains['Lemon'] = strains[['Flavor1', 'Flavor2', 'Flavor3']].apply(flavor_Lemon,axis=1)\n",
    "strains['Lemon'].head()"
   ]
  },
  {
   "cell_type": "code",
   "execution_count": 79,
   "metadata": {},
   "outputs": [],
   "source": [
    "def flavor_Peach(cols):\n",
    "    Flavor1 = cols[0]\n",
    "    Flavor2 = cols[1]\n",
    "    Flavor3 = cols[2]\n",
    "    \n",
    "    \n",
    "    if ((cols[0] == 'Peach') or (cols[1] == 'Peach') or (cols[2] == 'Peach') ):\n",
    "        return 1\n",
    "    else :\n",
    "        return 0"
   ]
  },
  {
   "cell_type": "code",
   "execution_count": 80,
   "metadata": {},
   "outputs": [
    {
     "data": {
      "text/plain": [
       "0    0\n",
       "1    0\n",
       "2    0\n",
       "3    0\n",
       "4    0\n",
       "Name: Peach, dtype: int64"
      ]
     },
     "execution_count": 80,
     "metadata": {},
     "output_type": "execute_result"
    }
   ],
   "source": [
    "strains['Peach'] = strains[['Flavor1', 'Flavor2', 'Flavor3']].apply(flavor_Peach,axis=1)\n",
    "strains['Peach'].head()"
   ]
  },
  {
   "cell_type": "code",
   "execution_count": 81,
   "metadata": {},
   "outputs": [],
   "source": [
    "def flavor_Chemical(cols):\n",
    "    Flavor1 = cols[0]\n",
    "    Flavor2 = cols[1]\n",
    "    Flavor3 = cols[2]\n",
    "    \n",
    "    \n",
    "    if ((cols[0] == 'Chemical') or (cols[1] == 'Chemical') or (cols[2] == 'Chemical') ):\n",
    "        return 1\n",
    "    else :\n",
    "        return 0"
   ]
  },
  {
   "cell_type": "code",
   "execution_count": 82,
   "metadata": {},
   "outputs": [
    {
     "data": {
      "text/plain": [
       "0    0\n",
       "1    0\n",
       "2    0\n",
       "3    0\n",
       "4    0\n",
       "Name: Chemical, dtype: int64"
      ]
     },
     "execution_count": 82,
     "metadata": {},
     "output_type": "execute_result"
    }
   ],
   "source": [
    "strains['Chemical'] = strains[['Flavor1', 'Flavor2', 'Flavor3']].apply(flavor_Chemical,axis=1)\n",
    "strains['Chemical'].head()"
   ]
  },
  {
   "cell_type": "code",
   "execution_count": 83,
   "metadata": {},
   "outputs": [],
   "source": [
    "def flavor_Chestnut(cols):\n",
    "    Flavor1 = cols[0]\n",
    "    Flavor2 = cols[1]\n",
    "    Flavor3 = cols[2]\n",
    "    \n",
    "    \n",
    "    if ((cols[0] == 'Chestnut') or (cols[1] == 'Chestnut') or (cols[2] == 'Chestnut') ):\n",
    "        return 1\n",
    "    else :\n",
    "        return 0"
   ]
  },
  {
   "cell_type": "code",
   "execution_count": 84,
   "metadata": {},
   "outputs": [
    {
     "data": {
      "text/plain": [
       "0    0\n",
       "1    0\n",
       "2    0\n",
       "3    0\n",
       "4    0\n",
       "Name: Chestnut, dtype: int64"
      ]
     },
     "execution_count": 84,
     "metadata": {},
     "output_type": "execute_result"
    }
   ],
   "source": [
    "strains['Chestnut'] = strains[['Flavor1', 'Flavor2', 'Flavor3']].apply(flavor_Chestnut,axis=1)\n",
    "strains['Chestnut'].head()"
   ]
  },
  {
   "cell_type": "code",
   "execution_count": 85,
   "metadata": {},
   "outputs": [],
   "source": [
    "def flavor_Tea(cols):\n",
    "    Flavor1 = cols[0]\n",
    "    Flavor2 = cols[1]\n",
    "    Flavor3 = cols[2]\n",
    "    \n",
    "    \n",
    "    if ((cols[0] == 'Tea') or (cols[1] == 'Tea') or (cols[2] == 'Tea') ):\n",
    "        return 1\n",
    "    else :\n",
    "        return 0"
   ]
  },
  {
   "cell_type": "code",
   "execution_count": 86,
   "metadata": {},
   "outputs": [
    {
     "data": {
      "text/plain": [
       "0    0\n",
       "1    0\n",
       "2    0\n",
       "3    0\n",
       "4    0\n",
       "Name: Tea, dtype: int64"
      ]
     },
     "execution_count": 86,
     "metadata": {},
     "output_type": "execute_result"
    }
   ],
   "source": [
    "strains['Tea'] = strains[['Flavor1', 'Flavor2', 'Flavor3']].apply(flavor_Tea,axis=1)\n",
    "strains['Tea'].head()"
   ]
  },
  {
   "cell_type": "code",
   "execution_count": 87,
   "metadata": {},
   "outputs": [],
   "source": [
    "def flavor_Pepper(cols):\n",
    "    Flavor1 = cols[0]\n",
    "    Flavor2 = cols[1]\n",
    "    Flavor3 = cols[2]\n",
    "    \n",
    "    \n",
    "    if ((cols[0] == 'Pepper') or (cols[1] == 'Pepper') or (cols[2] == 'Pepper') ):\n",
    "        return 1\n",
    "    else :\n",
    "        return 0"
   ]
  },
  {
   "cell_type": "code",
   "execution_count": 88,
   "metadata": {},
   "outputs": [
    {
     "data": {
      "text/plain": [
       "0    0\n",
       "1    0\n",
       "2    0\n",
       "3    0\n",
       "4    0\n",
       "Name: Pepper, dtype: int64"
      ]
     },
     "execution_count": 88,
     "metadata": {},
     "output_type": "execute_result"
    }
   ],
   "source": [
    "strains['Pepper'] = strains[['Flavor1', 'Flavor2', 'Flavor3']].apply(flavor_Pepper,axis=1)\n",
    "strains['Pepper'].head()"
   ]
  },
  {
   "cell_type": "code",
   "execution_count": 89,
   "metadata": {},
   "outputs": [],
   "source": [
    "def flavor_Tropical(cols):\n",
    "    Flavor1 = cols[0]\n",
    "    Flavor2 = cols[1]\n",
    "    Flavor3 = cols[2]\n",
    "    \n",
    "    \n",
    "    if ((cols[0] == 'Tropical') or (cols[1] == 'Tropical') or (cols[2] == 'Tropical') ):\n",
    "        return 1\n",
    "    else :\n",
    "        return 0"
   ]
  },
  {
   "cell_type": "code",
   "execution_count": 90,
   "metadata": {},
   "outputs": [
    {
     "data": {
      "text/plain": [
       "0    0\n",
       "1    0\n",
       "2    0\n",
       "3    0\n",
       "4    0\n",
       "Name: Tropical, dtype: int64"
      ]
     },
     "execution_count": 90,
     "metadata": {},
     "output_type": "execute_result"
    }
   ],
   "source": [
    "strains['Tropical'] = strains[['Flavor1', 'Flavor2', 'Flavor3']].apply(flavor_Tropical,axis=1)\n",
    "strains['Tropical'].head()"
   ]
  },
  {
   "cell_type": "code",
   "execution_count": 91,
   "metadata": {},
   "outputs": [],
   "source": [
    "def flavor_Grape(cols):\n",
    "    Flavor1 = cols[0]\n",
    "    Flavor2 = cols[1]\n",
    "    Flavor3 = cols[2]\n",
    "    \n",
    "    \n",
    "    if ((cols[0] == 'Grape') or (cols[1] == 'Grape') or (cols[2] == 'Grape') ):\n",
    "        return 1\n",
    "    else :\n",
    "        return 0"
   ]
  },
  {
   "cell_type": "code",
   "execution_count": 92,
   "metadata": {},
   "outputs": [
    {
     "data": {
      "text/plain": [
       "0    0\n",
       "1    0\n",
       "2    0\n",
       "3    0\n",
       "4    0\n",
       "Name: Grape, dtype: int64"
      ]
     },
     "execution_count": 92,
     "metadata": {},
     "output_type": "execute_result"
    }
   ],
   "source": [
    "strains['Grape'] = strains[['Flavor1', 'Flavor2', 'Flavor3']].apply(flavor_Grape,axis=1)\n",
    "strains['Grape'].head()"
   ]
  },
  {
   "cell_type": "code",
   "execution_count": 93,
   "metadata": {},
   "outputs": [],
   "source": [
    "def flavor_Blueberry(cols):\n",
    "    Flavor1 = cols[0]\n",
    "    Flavor2 = cols[1]\n",
    "    Flavor3 = cols[2]\n",
    "    \n",
    "    \n",
    "    if ((cols[0] == 'Blueberry') or (cols[1] == 'Blueberry') or (cols[2] == 'Blueberry') ):\n",
    "        return 1\n",
    "    else :\n",
    "        return 0"
   ]
  },
  {
   "cell_type": "code",
   "execution_count": 94,
   "metadata": {},
   "outputs": [
    {
     "data": {
      "text/plain": [
       "0    0\n",
       "1    0\n",
       "2    0\n",
       "3    0\n",
       "4    0\n",
       "Name: Blueberry, dtype: int64"
      ]
     },
     "execution_count": 94,
     "metadata": {},
     "output_type": "execute_result"
    }
   ],
   "source": [
    "strains['Blueberry'] = strains[['Flavor1', 'Flavor2', 'Flavor3']].apply(flavor_Blueberry,axis=1)\n",
    "strains['Blueberry'].head()"
   ]
  },
  {
   "cell_type": "code",
   "execution_count": 95,
   "metadata": {},
   "outputs": [],
   "source": [
    "def flavor_Apple(cols):\n",
    "    Flavor1 = cols[0]\n",
    "    Flavor2 = cols[1]\n",
    "    Flavor3 = cols[2]\n",
    "    \n",
    "    \n",
    "    if ((cols[0] == 'Apple') or (cols[1] == 'Apple') or (cols[2] == 'Apple') ):\n",
    "        return 1\n",
    "    else :\n",
    "        return 0"
   ]
  },
  {
   "cell_type": "code",
   "execution_count": 96,
   "metadata": {},
   "outputs": [
    {
     "data": {
      "text/plain": [
       "0    0\n",
       "1    0\n",
       "2    0\n",
       "3    0\n",
       "4    0\n",
       "Name: Apple, dtype: int64"
      ]
     },
     "execution_count": 96,
     "metadata": {},
     "output_type": "execute_result"
    }
   ],
   "source": [
    "strains['Apple'] = strains[['Flavor1', 'Flavor2', 'Flavor3']].apply(flavor_Apple,axis=1)\n",
    "strains['Apple'].head()"
   ]
  },
  {
   "cell_type": "code",
   "execution_count": 97,
   "metadata": {},
   "outputs": [],
   "source": [
    "def flavor_Sage(cols):\n",
    "    Flavor1 = cols[0]\n",
    "    Flavor2 = cols[1]\n",
    "    Flavor3 = cols[2]\n",
    "    \n",
    "    \n",
    "    if ((cols[0] == 'Sage') or (cols[1] == 'Sage') or (cols[2] == 'Sage') ):\n",
    "        return 1\n",
    "    else :\n",
    "        return 0"
   ]
  },
  {
   "cell_type": "code",
   "execution_count": 98,
   "metadata": {},
   "outputs": [
    {
     "data": {
      "text/plain": [
       "0    0\n",
       "1    0\n",
       "2    1\n",
       "3    0\n",
       "4    0\n",
       "Name: Sage, dtype: int64"
      ]
     },
     "execution_count": 98,
     "metadata": {},
     "output_type": "execute_result"
    }
   ],
   "source": [
    "strains['Sage'] = strains[['Flavor1', 'Flavor2', 'Flavor3']].apply(flavor_Sage,axis=1)\n",
    "strains['Sage'].head()"
   ]
  },
  {
   "cell_type": "code",
   "execution_count": 99,
   "metadata": {},
   "outputs": [],
   "source": [
    "def flavor_Lime(cols):\n",
    "    Flavor1 = cols[0]\n",
    "    Flavor2 = cols[1]\n",
    "    Flavor3 = cols[2]\n",
    "    \n",
    "    \n",
    "    if ((cols[0] == 'Lime') or (cols[1] == 'Lime') or (cols[2] == 'Lime') ):\n",
    "        return 1\n",
    "    else :\n",
    "        return 0"
   ]
  },
  {
   "cell_type": "code",
   "execution_count": 100,
   "metadata": {},
   "outputs": [
    {
     "data": {
      "text/plain": [
       "0    0\n",
       "1    0\n",
       "2    0\n",
       "3    0\n",
       "4    0\n",
       "Name: Lime, dtype: int64"
      ]
     },
     "execution_count": 100,
     "metadata": {},
     "output_type": "execute_result"
    }
   ],
   "source": [
    "strains['Lime'] = strains[['Flavor1', 'Flavor2', 'Flavor3']].apply(flavor_Lime,axis=1)\n",
    "strains['Lime'].head()"
   ]
  },
  {
   "cell_type": "code",
   "execution_count": 101,
   "metadata": {},
   "outputs": [],
   "source": [
    "def flavor_Tobacco(cols):\n",
    "    Flavor1 = cols[0]\n",
    "    Flavor2 = cols[1]\n",
    "    Flavor3 = cols[2]\n",
    "    \n",
    "    \n",
    "    if ((cols[0] == 'Tobacco') or (cols[1] == 'Tobacco') or (cols[2] == 'Tobacco') ):\n",
    "        return 1\n",
    "    else :\n",
    "        return 0"
   ]
  },
  {
   "cell_type": "code",
   "execution_count": 102,
   "metadata": {},
   "outputs": [
    {
     "data": {
      "text/plain": [
       "0    0\n",
       "1    0\n",
       "2    0\n",
       "3    0\n",
       "4    0\n",
       "Name: Tobacco, dtype: int64"
      ]
     },
     "execution_count": 102,
     "metadata": {},
     "output_type": "execute_result"
    }
   ],
   "source": [
    "strains['Tobacco'] = strains[['Flavor1', 'Flavor2', 'Flavor3']].apply(flavor_Tobacco,axis=1)\n",
    "strains['Tobacco'].head()"
   ]
  },
  {
   "cell_type": "code",
   "execution_count": 103,
   "metadata": {},
   "outputs": [],
   "source": [
    "def flavor_Mint(cols):\n",
    "    Flavor1 = cols[0]\n",
    "    Flavor2 = cols[1]\n",
    "    Flavor3 = cols[2]\n",
    "    \n",
    "    \n",
    "    if ((cols[0] == 'Mint') or (cols[1] == 'Mint') or (cols[2] == 'Mint') ):\n",
    "        return 1\n",
    "    else :\n",
    "        return 0"
   ]
  },
  {
   "cell_type": "code",
   "execution_count": 104,
   "metadata": {},
   "outputs": [
    {
     "data": {
      "text/plain": [
       "0    0\n",
       "1    0\n",
       "2    0\n",
       "3    0\n",
       "4    0\n",
       "Name: Mint, dtype: int64"
      ]
     },
     "execution_count": 104,
     "metadata": {},
     "output_type": "execute_result"
    }
   ],
   "source": [
    "strains['Mint'] = strains[['Flavor1', 'Flavor2', 'Flavor3']].apply(flavor_Mint,axis=1)\n",
    "strains['Mint'].head()"
   ]
  },
  {
   "cell_type": "code",
   "execution_count": 105,
   "metadata": {},
   "outputs": [],
   "source": [
    "def flavor_Nutty(cols):\n",
    "    Flavor1 = cols[0]\n",
    "    Flavor2 = cols[1]\n",
    "    Flavor3 = cols[2]\n",
    "    \n",
    "    \n",
    "    if ((cols[0] == 'Nutty') or (cols[1] == 'Nutty') or (cols[2] == 'Nutty') ):\n",
    "        return 1\n",
    "    else :\n",
    "        return 0"
   ]
  },
  {
   "cell_type": "code",
   "execution_count": 106,
   "metadata": {},
   "outputs": [
    {
     "data": {
      "text/plain": [
       "0    0\n",
       "1    0\n",
       "2    0\n",
       "3    0\n",
       "4    0\n",
       "Name: Nutty, dtype: int64"
      ]
     },
     "execution_count": 106,
     "metadata": {},
     "output_type": "execute_result"
    }
   ],
   "source": [
    "strains['Nutty'] = strains[['Flavor1', 'Flavor2', 'Flavor3']].apply(flavor_Nutty,axis=1)\n",
    "strains['Nutty'].head()"
   ]
  },
  {
   "cell_type": "code",
   "execution_count": 107,
   "metadata": {},
   "outputs": [],
   "source": [
    "def flavor_Coffee(cols):\n",
    "    Flavor1 = cols[0]\n",
    "    Flavor2 = cols[1]\n",
    "    Flavor3 = cols[2]\n",
    "    \n",
    "    \n",
    "    if ((cols[0] == 'Coffee') or (cols[1] == 'Coffee') or (cols[2] == 'Coffee') ):\n",
    "        return 1\n",
    "    else :\n",
    "        return 0"
   ]
  },
  {
   "cell_type": "code",
   "execution_count": 108,
   "metadata": {},
   "outputs": [
    {
     "data": {
      "text/plain": [
       "0    0\n",
       "1    0\n",
       "2    0\n",
       "3    0\n",
       "4    0\n",
       "Name: Coffee, dtype: int64"
      ]
     },
     "execution_count": 108,
     "metadata": {},
     "output_type": "execute_result"
    }
   ],
   "source": [
    "strains['Coffee'] = strains[['Flavor1', 'Flavor2', 'Flavor3']].apply(flavor_Coffee,axis=1)\n",
    "strains['Coffee'].head()"
   ]
  },
  {
   "cell_type": "code",
   "execution_count": 109,
   "metadata": {},
   "outputs": [],
   "source": [
    "def flavor_Lavender(cols):\n",
    "    Flavor1 = cols[0]\n",
    "    Flavor2 = cols[1]\n",
    "    Flavor3 = cols[2]\n",
    "    \n",
    "    \n",
    "    if ((cols[0] == 'Lavender') or (cols[1] == 'Lavender') or (cols[2] == 'Lavender') ):\n",
    "        return 1\n",
    "    else :\n",
    "        return 0"
   ]
  },
  {
   "cell_type": "code",
   "execution_count": 110,
   "metadata": {},
   "outputs": [
    {
     "data": {
      "text/plain": [
       "0    0\n",
       "1    0\n",
       "2    0\n",
       "3    0\n",
       "4    0\n",
       "Name: Lavender, dtype: int64"
      ]
     },
     "execution_count": 110,
     "metadata": {},
     "output_type": "execute_result"
    }
   ],
   "source": [
    "strains['Lavender'] = strains[['Flavor1', 'Flavor2', 'Flavor3']].apply(flavor_Lavender,axis=1)\n",
    "strains['Lavender'].head()"
   ]
  },
  {
   "cell_type": "code",
   "execution_count": 111,
   "metadata": {},
   "outputs": [],
   "source": [
    "def flavor_Tree(cols):\n",
    "    Flavor1 = cols[0]\n",
    "    Flavor2 = cols[1]\n",
    "    Flavor3 = cols[2]\n",
    "    \n",
    "    \n",
    "    if ((cols[0] == 'Tree') or (cols[1] == 'Tree') or (cols[2] == 'Tree') ):\n",
    "        return 1\n",
    "    else :\n",
    "        return 0"
   ]
  },
  {
   "cell_type": "code",
   "execution_count": 112,
   "metadata": {},
   "outputs": [
    {
     "data": {
      "text/plain": [
       "0    0\n",
       "1    0\n",
       "2    0\n",
       "3    0\n",
       "4    0\n",
       "Name: Tree, dtype: int64"
      ]
     },
     "execution_count": 112,
     "metadata": {},
     "output_type": "execute_result"
    }
   ],
   "source": [
    "strains['Tree'] = strains[['Flavor1', 'Flavor2', 'Flavor3']].apply(flavor_Tree,axis=1)\n",
    "strains['Tree'].head()"
   ]
  },
  {
   "cell_type": "code",
   "execution_count": 113,
   "metadata": {},
   "outputs": [],
   "source": [
    "def flavor_Vanilla(cols):\n",
    "    Flavor1 = cols[0]\n",
    "    Flavor2 = cols[1]\n",
    "    Flavor3 = cols[2]\n",
    "    \n",
    "    \n",
    "    if ((cols[0] == 'Vanilla') or (cols[1] == 'Vanilla') or (cols[2] == 'Vanilla') ):\n",
    "        return 1\n",
    "    else :\n",
    "        return 0"
   ]
  },
  {
   "cell_type": "code",
   "execution_count": 114,
   "metadata": {},
   "outputs": [
    {
     "data": {
      "text/plain": [
       "0    0\n",
       "1    0\n",
       "2    0\n",
       "3    0\n",
       "4    0\n",
       "Name: Vanilla, dtype: int64"
      ]
     },
     "execution_count": 114,
     "metadata": {},
     "output_type": "execute_result"
    }
   ],
   "source": [
    "strains['Vanilla'] = strains[['Flavor1', 'Flavor2', 'Flavor3']].apply(flavor_Vanilla,axis=1)\n",
    "strains['Vanilla'].head()"
   ]
  },
  {
   "cell_type": "code",
   "execution_count": 115,
   "metadata": {},
   "outputs": [],
   "source": [
    "def flavor_Fruit(cols):\n",
    "    Flavor1 = cols[0]\n",
    "    Flavor2 = cols[1]\n",
    "    Flavor3 = cols[2]\n",
    "    \n",
    "    \n",
    "    if ((cols[0] == 'Fruit') or (cols[1] == 'Fruit') or (cols[2] == 'Fruit') ):\n",
    "        return 1\n",
    "    else :\n",
    "        return 0"
   ]
  },
  {
   "cell_type": "code",
   "execution_count": 116,
   "metadata": {},
   "outputs": [
    {
     "data": {
      "text/plain": [
       "0    0\n",
       "1    0\n",
       "2    0\n",
       "3    0\n",
       "4    0\n",
       "Name: Fruit, dtype: int64"
      ]
     },
     "execution_count": 116,
     "metadata": {},
     "output_type": "execute_result"
    }
   ],
   "source": [
    "strains['Fruit'] = strains[['Flavor1', 'Flavor2', 'Flavor3']].apply(flavor_Fruit,axis=1)\n",
    "strains['Fruit'].head()"
   ]
  },
  {
   "cell_type": "code",
   "execution_count": 117,
   "metadata": {},
   "outputs": [],
   "source": [
    "def flavor_Mango(cols):\n",
    "    Flavor1 = cols[0]\n",
    "    Flavor2 = cols[1]\n",
    "    Flavor3 = cols[2]\n",
    "    \n",
    "    \n",
    "    if ((cols[0] == 'Mango') or (cols[1] == 'Mango') or (cols[2] == 'Mango') ):\n",
    "        return 1\n",
    "    else :\n",
    "        return 0"
   ]
  },
  {
   "cell_type": "code",
   "execution_count": 118,
   "metadata": {},
   "outputs": [
    {
     "data": {
      "text/plain": [
       "0    0\n",
       "1    0\n",
       "2    0\n",
       "3    0\n",
       "4    0\n",
       "Name: Mango, dtype: int64"
      ]
     },
     "execution_count": 118,
     "metadata": {},
     "output_type": "execute_result"
    }
   ],
   "source": [
    "strains['Mango'] = strains[['Flavor1', 'Flavor2', 'Flavor3']].apply(flavor_Mango,axis=1)\n",
    "strains['Mango'].head()"
   ]
  },
  {
   "cell_type": "code",
   "execution_count": 119,
   "metadata": {},
   "outputs": [],
   "source": [
    "def flavor_Butter(cols):\n",
    "    Flavor1 = cols[0]\n",
    "    Flavor2 = cols[1]\n",
    "    Flavor3 = cols[2]\n",
    "    \n",
    "    \n",
    "    if ((cols[0] == 'Butter') or (cols[1] == 'Butter') or (cols[2] == 'Butter') ):\n",
    "        return 1\n",
    "    else :\n",
    "        return 0"
   ]
  },
  {
   "cell_type": "code",
   "execution_count": 120,
   "metadata": {},
   "outputs": [
    {
     "data": {
      "text/plain": [
       "0    0\n",
       "1    0\n",
       "2    0\n",
       "3    0\n",
       "4    0\n",
       "Name: Butter, dtype: int64"
      ]
     },
     "execution_count": 120,
     "metadata": {},
     "output_type": "execute_result"
    }
   ],
   "source": [
    "strains['Butter'] = strains[['Flavor1', 'Flavor2', 'Flavor3']].apply(flavor_Butter,axis=1)\n",
    "strains['Butter'].head()"
   ]
  },
  {
   "cell_type": "code",
   "execution_count": 121,
   "metadata": {},
   "outputs": [],
   "source": [
    "def flavor_Blue(cols):\n",
    "    Flavor1 = cols[0]\n",
    "    Flavor2 = cols[1]\n",
    "    Flavor3 = cols[2]\n",
    "    \n",
    "    \n",
    "    if ((cols[0] == 'Blue') or (cols[1] == 'Blue') or (cols[2] == 'Blue') ):\n",
    "        return 1\n",
    "    else :\n",
    "        return 0"
   ]
  },
  {
   "cell_type": "code",
   "execution_count": 122,
   "metadata": {},
   "outputs": [
    {
     "data": {
      "text/plain": [
       "0    0\n",
       "1    0\n",
       "2    0\n",
       "3    0\n",
       "4    0\n",
       "Name: Blue, dtype: int64"
      ]
     },
     "execution_count": 122,
     "metadata": {},
     "output_type": "execute_result"
    }
   ],
   "source": [
    "strains['Blue'] = strains[['Flavor1', 'Flavor2', 'Flavor3']].apply(flavor_Blue,axis=1)\n",
    "strains['Blue'].head()"
   ]
  },
  {
   "cell_type": "code",
   "execution_count": 123,
   "metadata": {},
   "outputs": [],
   "source": [
    "def flavor_Menthol(cols):\n",
    "    Flavor1 = cols[0]\n",
    "    Flavor2 = cols[1]\n",
    "    Flavor3 = cols[2]\n",
    "    \n",
    "    \n",
    "    if ((cols[0] == 'Menthol') or (cols[1] == 'Menthol') or (cols[2] == 'Menthol') ):\n",
    "        return 1\n",
    "    else :\n",
    "        return 0"
   ]
  },
  {
   "cell_type": "code",
   "execution_count": 124,
   "metadata": {},
   "outputs": [
    {
     "data": {
      "text/plain": [
       "0    0\n",
       "1    0\n",
       "2    0\n",
       "3    0\n",
       "4    0\n",
       "Name: Menthol, dtype: int64"
      ]
     },
     "execution_count": 124,
     "metadata": {},
     "output_type": "execute_result"
    }
   ],
   "source": [
    "strains['Menthol'] = strains[['Flavor1', 'Flavor2', 'Flavor3']].apply(flavor_Menthol,axis=1)\n",
    "strains['Menthol'].head()"
   ]
  },
  {
   "cell_type": "code",
   "execution_count": 125,
   "metadata": {},
   "outputs": [],
   "source": [
    "def flavor_Tar(cols):\n",
    "    Flavor1 = cols[0]\n",
    "    Flavor2 = cols[1]\n",
    "    Flavor3 = cols[2]\n",
    "    \n",
    "    \n",
    "    if ((cols[0] == 'Tar') or (cols[1] == 'Tar') or (cols[2] == 'Tar') ):\n",
    "        return 1\n",
    "    else :\n",
    "        return 0"
   ]
  },
  {
   "cell_type": "code",
   "execution_count": 126,
   "metadata": {},
   "outputs": [
    {
     "data": {
      "text/plain": [
       "0    0\n",
       "1    0\n",
       "2    0\n",
       "3    0\n",
       "4    0\n",
       "Name: Tar, dtype: int64"
      ]
     },
     "execution_count": 126,
     "metadata": {},
     "output_type": "execute_result"
    }
   ],
   "source": [
    "strains['Tar'] = strains[['Flavor1', 'Flavor2', 'Flavor3']].apply(flavor_Tar,axis=1)\n",
    "strains['Tar'].head()"
   ]
  },
  {
   "cell_type": "code",
   "execution_count": 127,
   "metadata": {},
   "outputs": [],
   "source": [
    "def flavor_Honey(cols):\n",
    "    Flavor1 = cols[0]\n",
    "    Flavor2 = cols[1]\n",
    "    Flavor3 = cols[2]\n",
    "    \n",
    "    \n",
    "    if ((cols[0] == 'Honey') or (cols[1] == 'Honey') or (cols[2] == 'Honey') ):\n",
    "        return 1\n",
    "    else :\n",
    "        return 0"
   ]
  },
  {
   "cell_type": "code",
   "execution_count": 128,
   "metadata": {},
   "outputs": [
    {
     "data": {
      "text/plain": [
       "0    0\n",
       "1    0\n",
       "2    0\n",
       "3    0\n",
       "4    0\n",
       "Name: Honey, dtype: int64"
      ]
     },
     "execution_count": 128,
     "metadata": {},
     "output_type": "execute_result"
    }
   ],
   "source": [
    "strains['Honey'] = strains[['Flavor1', 'Flavor2', 'Flavor3']].apply(flavor_Honey,axis=1)\n",
    "strains['Honey'].head()"
   ]
  },
  {
   "cell_type": "code",
   "execution_count": 129,
   "metadata": {},
   "outputs": [],
   "source": [
    "def flavor_Ammonia(cols):\n",
    "    Flavor1 = cols[0]\n",
    "    Flavor2 = cols[1]\n",
    "    Flavor3 = cols[2]\n",
    "    \n",
    "    \n",
    "    if ((cols[0] == 'Ammonia') or (cols[1] == 'Ammonia') or (cols[2] == 'Ammonia') ):\n",
    "        return 1\n",
    "    else :\n",
    "        return 0"
   ]
  },
  {
   "cell_type": "code",
   "execution_count": 130,
   "metadata": {},
   "outputs": [
    {
     "data": {
      "text/plain": [
       "0    0\n",
       "1    0\n",
       "2    0\n",
       "3    0\n",
       "4    0\n",
       "Name: Ammonia, dtype: int64"
      ]
     },
     "execution_count": 130,
     "metadata": {},
     "output_type": "execute_result"
    }
   ],
   "source": [
    "strains['Ammonia'] = strains[['Flavor1', 'Flavor2', 'Flavor3']].apply(flavor_Ammonia,axis=1)\n",
    "strains['Ammonia'].head()"
   ]
  },
  {
   "cell_type": "code",
   "execution_count": 131,
   "metadata": {},
   "outputs": [],
   "source": [
    "def flavor_Rose(cols):\n",
    "    Flavor1 = cols[0]\n",
    "    Flavor2 = cols[1]\n",
    "    Flavor3 = cols[2]\n",
    "    \n",
    "    \n",
    "    if ((cols[0] == 'Rose') or (cols[1] == 'Rose') or (cols[2] == 'Rose') ):\n",
    "        return 1\n",
    "    else :\n",
    "        return 0"
   ]
  },
  {
   "cell_type": "code",
   "execution_count": 132,
   "metadata": {},
   "outputs": [
    {
     "data": {
      "text/plain": [
       "0    0\n",
       "1    0\n",
       "2    0\n",
       "3    0\n",
       "4    0\n",
       "Name: Rose, dtype: int64"
      ]
     },
     "execution_count": 132,
     "metadata": {},
     "output_type": "execute_result"
    }
   ],
   "source": [
    "strains['Rose'] = strains[['Flavor1', 'Flavor2', 'Flavor3']].apply(flavor_Rose,axis=1)\n",
    "strains['Rose'].head()"
   ]
  },
  {
   "cell_type": "code",
   "execution_count": 133,
   "metadata": {},
   "outputs": [],
   "source": [
    "def flavor_Pineapple(cols):\n",
    "    Flavor1 = cols[0]\n",
    "    Flavor2 = cols[1]\n",
    "    Flavor3 = cols[2]\n",
    "    \n",
    "    \n",
    "    if ((cols[0] == 'Pineapple') or (cols[1] == 'Pineapple') or (cols[2] == 'Pineapple') ):\n",
    "        return 1\n",
    "    else :\n",
    "        return 0"
   ]
  },
  {
   "cell_type": "code",
   "execution_count": 134,
   "metadata": {},
   "outputs": [
    {
     "data": {
      "text/plain": [
       "0    0\n",
       "1    0\n",
       "2    0\n",
       "3    0\n",
       "4    0\n",
       "Name: Pineapple, dtype: int64"
      ]
     },
     "execution_count": 134,
     "metadata": {},
     "output_type": "execute_result"
    }
   ],
   "source": [
    "strains['Pineapple'] = strains[['Flavor1', 'Flavor2', 'Flavor3']].apply(flavor_Pineapple,axis=1)\n",
    "strains['Pineapple'].head()"
   ]
  },
  {
   "cell_type": "code",
   "execution_count": 135,
   "metadata": {},
   "outputs": [],
   "source": [
    "def flavor_Minty(cols):\n",
    "    Flavor1 = cols[0]\n",
    "    Flavor2 = cols[1]\n",
    "    Flavor3 = cols[2]\n",
    "    \n",
    "    \n",
    "    if ((cols[0] == 'Minty') or (cols[1] == 'Minty') or (cols[2] == 'Minty') ):\n",
    "        return 1\n",
    "    else :\n",
    "        return 0"
   ]
  },
  {
   "cell_type": "code",
   "execution_count": 136,
   "metadata": {},
   "outputs": [
    {
     "data": {
      "text/plain": [
       "0    0\n",
       "1    0\n",
       "2    0\n",
       "3    0\n",
       "4    0\n",
       "Name: Minty, dtype: int64"
      ]
     },
     "execution_count": 136,
     "metadata": {},
     "output_type": "execute_result"
    }
   ],
   "source": [
    "strains['Minty'] = strains[['Flavor1', 'Flavor2', 'Flavor3']].apply(flavor_Minty,axis=1)\n",
    "strains['Minty'].head()"
   ]
  },
  {
   "cell_type": "code",
   "execution_count": 137,
   "metadata": {},
   "outputs": [],
   "source": [
    "def flavor_Apricot(cols):\n",
    "    Flavor1 = cols[0]\n",
    "    Flavor2 = cols[1]\n",
    "    Flavor3 = cols[2]\n",
    "    \n",
    "    \n",
    "    if ((cols[0] == 'Apricot') or (cols[1] == 'Apricot') or (cols[2] == 'Apricot') ):\n",
    "        return 1\n",
    "    else :\n",
    "        return 0"
   ]
  },
  {
   "cell_type": "code",
   "execution_count": 138,
   "metadata": {},
   "outputs": [
    {
     "data": {
      "text/plain": [
       "0    0\n",
       "1    0\n",
       "2    0\n",
       "3    1\n",
       "4    0\n",
       "Name: Apricot, dtype: int64"
      ]
     },
     "execution_count": 138,
     "metadata": {},
     "output_type": "execute_result"
    }
   ],
   "source": [
    "strains['Apricot'] = strains[['Flavor1', 'Flavor2', 'Flavor3']].apply(flavor_Apricot,axis=1)\n",
    "strains['Apricot'].head()"
   ]
  },
  {
   "cell_type": "code",
   "execution_count": 139,
   "metadata": {},
   "outputs": [],
   "source": [
    "def flavor_Strawberry(cols):\n",
    "    Flavor1 = cols[0]\n",
    "    Flavor2 = cols[1]\n",
    "    Flavor3 = cols[2]\n",
    "    \n",
    "    \n",
    "    if ((cols[0] == 'Strawberry') or (cols[1] == 'Strawberry') or (cols[2] == 'Strawberry') ):\n",
    "        return 1\n",
    "    else :\n",
    "        return 0"
   ]
  },
  {
   "cell_type": "code",
   "execution_count": 140,
   "metadata": {},
   "outputs": [
    {
     "data": {
      "text/plain": [
       "0    0\n",
       "1    0\n",
       "2    0\n",
       "3    0\n",
       "4    0\n",
       "Name: Strawberry, dtype: int64"
      ]
     },
     "execution_count": 140,
     "metadata": {},
     "output_type": "execute_result"
    }
   ],
   "source": [
    "strains['Strawberry'] = strains[['Flavor1', 'Flavor2', 'Flavor3']].apply(flavor_Strawberry,axis=1)\n",
    "strains['Strawberry'].head()"
   ]
  },
  {
   "cell_type": "code",
   "execution_count": 141,
   "metadata": {},
   "outputs": [],
   "source": [
    "def flavor_Violet(cols):\n",
    "    Flavor1 = cols[0]\n",
    "    Flavor2 = cols[1]\n",
    "    Flavor3 = cols[2]\n",
    "    \n",
    "    \n",
    "    if ((cols[0] == 'Violet') or (cols[1] == 'Violet') or (cols[2] == 'Violet') ):\n",
    "        return 1\n",
    "    else :\n",
    "        return 0"
   ]
  },
  {
   "cell_type": "code",
   "execution_count": 142,
   "metadata": {},
   "outputs": [
    {
     "data": {
      "text/plain": [
       "0    0\n",
       "1    1\n",
       "2    0\n",
       "3    0\n",
       "4    0\n",
       "Name: Violet, dtype: int64"
      ]
     },
     "execution_count": 142,
     "metadata": {},
     "output_type": "execute_result"
    }
   ],
   "source": [
    "strains['Violet'] = strains[['Flavor1', 'Flavor2', 'Flavor3']].apply(flavor_Violet,axis=1)\n",
    "strains['Violet'].head()"
   ]
  },
  {
   "cell_type": "code",
   "execution_count": 143,
   "metadata": {},
   "outputs": [],
   "source": [
    "def flavor_Pear(cols):\n",
    "    Flavor1 = cols[0]\n",
    "    Flavor2 = cols[1]\n",
    "    Flavor3 = cols[2]\n",
    "    \n",
    "    \n",
    "    if ((cols[0] == 'Pear') or (cols[1] == 'Pear') or (cols[2] == 'Pear') ):\n",
    "        return 1\n",
    "    else :\n",
    "        return 0"
   ]
  },
  {
   "cell_type": "code",
   "execution_count": 144,
   "metadata": {},
   "outputs": [
    {
     "data": {
      "text/plain": [
       "0    0\n",
       "1    0\n",
       "2    0\n",
       "3    0\n",
       "4    0\n",
       "Name: Pear, dtype: int64"
      ]
     },
     "execution_count": 144,
     "metadata": {},
     "output_type": "execute_result"
    }
   ],
   "source": [
    "strains['Pear'] = strains[['Flavor1', 'Flavor2', 'Flavor3']].apply(flavor_Pear,axis=1)\n",
    "strains['Pear'].head()"
   ]
  },
  {
   "cell_type": "code",
   "execution_count": 145,
   "metadata": {},
   "outputs": [],
   "source": [
    "def ratings(cols):\n",
    "    Rating = cols\n",
    "\n",
    "    if (cols <= 3.0) :\n",
    "        return 3.0\n",
    "    else :\n",
    "        return Rating"
   ]
  },
  {
   "cell_type": "code",
   "execution_count": 146,
   "metadata": {},
   "outputs": [
    {
     "data": {
      "text/plain": [
       "0    4.0\n",
       "1    4.7\n",
       "2    4.4\n",
       "3    4.2\n",
       "4    4.6\n",
       "Name: Rating, dtype: float64"
      ]
     },
     "execution_count": 146,
     "metadata": {},
     "output_type": "execute_result"
    }
   ],
   "source": [
    "strains['Rating'] = strains['Rating'].apply(ratings)\n",
    "strains['Rating'].head()"
   ]
  },
  {
   "cell_type": "code",
   "execution_count": 147,
   "metadata": {},
   "outputs": [
    {
     "data": {
      "text/html": [
       "<div>\n",
       "<style scoped>\n",
       "    .dataframe tbody tr th:only-of-type {\n",
       "        vertical-align: middle;\n",
       "    }\n",
       "\n",
       "    .dataframe tbody tr th {\n",
       "        vertical-align: top;\n",
       "    }\n",
       "\n",
       "    .dataframe thead th {\n",
       "        text-align: right;\n",
       "    }\n",
       "</style>\n",
       "<table border=\"1\" class=\"dataframe\">\n",
       "  <thead>\n",
       "    <tr style=\"text-align: right;\">\n",
       "      <th></th>\n",
       "      <th>Rating</th>\n",
       "      <th>Price</th>\n",
       "      <th>Aroused</th>\n",
       "      <th>Creative</th>\n",
       "      <th>Dry</th>\n",
       "      <th>Energetic</th>\n",
       "      <th>Euphoric</th>\n",
       "      <th>Focused</th>\n",
       "      <th>Giggly</th>\n",
       "      <th>Happy</th>\n",
       "      <th>Hungry</th>\n",
       "      <th>None</th>\n",
       "      <th>Relaxed</th>\n",
       "      <th>Sleepy</th>\n",
       "      <th>Talkative</th>\n",
       "      <th>Tingly</th>\n",
       "      <th>Uplifted</th>\n",
       "      <th>Ammonia</th>\n",
       "      <th>Apple</th>\n",
       "      <th>Apricot</th>\n",
       "      <th>Berry</th>\n",
       "      <th>Blue</th>\n",
       "      <th>Blueberry</th>\n",
       "      <th>Butter</th>\n",
       "      <th>Cheese</th>\n",
       "      <th>Chemical</th>\n",
       "      <th>Chestnut</th>\n",
       "      <th>Citrus</th>\n",
       "      <th>Coffee</th>\n",
       "      <th>Diesel</th>\n",
       "      <th>Earthy</th>\n",
       "      <th>Flowery</th>\n",
       "      <th>Fruit</th>\n",
       "      <th>Grape</th>\n",
       "      <th>Grapefruit</th>\n",
       "      <th>Honey</th>\n",
       "      <th>Lavender</th>\n",
       "      <th>Lemon</th>\n",
       "      <th>Lime</th>\n",
       "      <th>Mango</th>\n",
       "      <th>Menthol</th>\n",
       "      <th>Mint</th>\n",
       "      <th>Minty</th>\n",
       "      <th>None</th>\n",
       "      <th>Nutty</th>\n",
       "      <th>Orange</th>\n",
       "      <th>Peach</th>\n",
       "      <th>Pear</th>\n",
       "      <th>Pepper</th>\n",
       "      <th>Pine</th>\n",
       "      <th>Pineapple</th>\n",
       "      <th>Pungent</th>\n",
       "      <th>Rose</th>\n",
       "      <th>Sage</th>\n",
       "      <th>Skunk</th>\n",
       "      <th>Spicy/Herbal</th>\n",
       "      <th>Strawberry</th>\n",
       "      <th>Sweet</th>\n",
       "      <th>Tar</th>\n",
       "      <th>Tea</th>\n",
       "      <th>Tobacco</th>\n",
       "      <th>Tree</th>\n",
       "      <th>Tropical</th>\n",
       "      <th>Vanilla</th>\n",
       "      <th>Violet</th>\n",
       "      <th>Woody</th>\n",
       "    </tr>\n",
       "  </thead>\n",
       "  <tbody>\n",
       "    <tr>\n",
       "      <th>count</th>\n",
       "      <td>2351.000000</td>\n",
       "      <td>2351.000000</td>\n",
       "      <td>2351.000000</td>\n",
       "      <td>2351.000000</td>\n",
       "      <td>2351.000000</td>\n",
       "      <td>2351.000000</td>\n",
       "      <td>2351.000000</td>\n",
       "      <td>2351.000000</td>\n",
       "      <td>2351.000000</td>\n",
       "      <td>2351.000000</td>\n",
       "      <td>2351.000000</td>\n",
       "      <td>2351.000000</td>\n",
       "      <td>2351.000000</td>\n",
       "      <td>2351.000000</td>\n",
       "      <td>2351.000000</td>\n",
       "      <td>2351.000000</td>\n",
       "      <td>2351.000000</td>\n",
       "      <td>2351.000000</td>\n",
       "      <td>2351.000000</td>\n",
       "      <td>2351.000000</td>\n",
       "      <td>2351.000000</td>\n",
       "      <td>2351.000000</td>\n",
       "      <td>2351.000000</td>\n",
       "      <td>2351.000000</td>\n",
       "      <td>2351.000000</td>\n",
       "      <td>2351.000000</td>\n",
       "      <td>2351.000000</td>\n",
       "      <td>2351.000000</td>\n",
       "      <td>2351.000000</td>\n",
       "      <td>2351.000000</td>\n",
       "      <td>2351.000000</td>\n",
       "      <td>2351.000000</td>\n",
       "      <td>2351.000000</td>\n",
       "      <td>2351.000000</td>\n",
       "      <td>2351.000000</td>\n",
       "      <td>2351.000000</td>\n",
       "      <td>2351.000000</td>\n",
       "      <td>2351.000000</td>\n",
       "      <td>2351.000000</td>\n",
       "      <td>2351.000000</td>\n",
       "      <td>2351.000000</td>\n",
       "      <td>2351.000000</td>\n",
       "      <td>2351.000000</td>\n",
       "      <td>2351.000000</td>\n",
       "      <td>2351.000000</td>\n",
       "      <td>2351.000000</td>\n",
       "      <td>2351.000000</td>\n",
       "      <td>2351.000000</td>\n",
       "      <td>2351.000000</td>\n",
       "      <td>2351.000000</td>\n",
       "      <td>2351.000000</td>\n",
       "      <td>2351.000000</td>\n",
       "      <td>2351.000000</td>\n",
       "      <td>2351.000000</td>\n",
       "      <td>2351.000000</td>\n",
       "      <td>2351.000000</td>\n",
       "      <td>2351.000000</td>\n",
       "      <td>2351.000000</td>\n",
       "      <td>2351.000000</td>\n",
       "      <td>2351.000000</td>\n",
       "      <td>2351.000000</td>\n",
       "      <td>2351.000000</td>\n",
       "      <td>2351.000000</td>\n",
       "      <td>2351.000000</td>\n",
       "      <td>2351.000000</td>\n",
       "      <td>2351.000000</td>\n",
       "    </tr>\n",
       "    <tr>\n",
       "      <th>mean</th>\n",
       "      <td>4.403233</td>\n",
       "      <td>314.454700</td>\n",
       "      <td>0.084645</td>\n",
       "      <td>0.317737</td>\n",
       "      <td>0.000425</td>\n",
       "      <td>0.274777</td>\n",
       "      <td>0.695449</td>\n",
       "      <td>0.253084</td>\n",
       "      <td>0.126755</td>\n",
       "      <td>0.795832</td>\n",
       "      <td>0.203743</td>\n",
       "      <td>0.099532</td>\n",
       "      <td>0.734156</td>\n",
       "      <td>0.313909</td>\n",
       "      <td>0.153126</td>\n",
       "      <td>0.147171</td>\n",
       "      <td>0.641004</td>\n",
       "      <td>0.011910</td>\n",
       "      <td>0.006806</td>\n",
       "      <td>0.003403</td>\n",
       "      <td>0.150574</td>\n",
       "      <td>0.003828</td>\n",
       "      <td>0.061251</td>\n",
       "      <td>0.008082</td>\n",
       "      <td>0.025096</td>\n",
       "      <td>0.015313</td>\n",
       "      <td>0.002977</td>\n",
       "      <td>0.224160</td>\n",
       "      <td>0.010208</td>\n",
       "      <td>0.102084</td>\n",
       "      <td>0.468311</td>\n",
       "      <td>0.112718</td>\n",
       "      <td>0.007656</td>\n",
       "      <td>0.053169</td>\n",
       "      <td>0.016163</td>\n",
       "      <td>0.013186</td>\n",
       "      <td>0.015738</td>\n",
       "      <td>0.080391</td>\n",
       "      <td>0.022544</td>\n",
       "      <td>0.013611</td>\n",
       "      <td>0.009783</td>\n",
       "      <td>0.007656</td>\n",
       "      <td>0.017439</td>\n",
       "      <td>0.099532</td>\n",
       "      <td>0.011059</td>\n",
       "      <td>0.032327</td>\n",
       "      <td>0.002552</td>\n",
       "      <td>0.001276</td>\n",
       "      <td>0.024670</td>\n",
       "      <td>0.126329</td>\n",
       "      <td>0.017439</td>\n",
       "      <td>0.191408</td>\n",
       "      <td>0.006806</td>\n",
       "      <td>0.016589</td>\n",
       "      <td>0.074011</td>\n",
       "      <td>0.095704</td>\n",
       "      <td>0.019991</td>\n",
       "      <td>0.446618</td>\n",
       "      <td>0.003403</td>\n",
       "      <td>0.007231</td>\n",
       "      <td>0.003828</td>\n",
       "      <td>0.014462</td>\n",
       "      <td>0.065079</td>\n",
       "      <td>0.014462</td>\n",
       "      <td>0.002977</td>\n",
       "      <td>0.108464</td>\n",
       "    </tr>\n",
       "    <tr>\n",
       "      <th>std</th>\n",
       "      <td>0.416600</td>\n",
       "      <td>194.965962</td>\n",
       "      <td>0.278412</td>\n",
       "      <td>0.465696</td>\n",
       "      <td>0.020624</td>\n",
       "      <td>0.446497</td>\n",
       "      <td>0.460315</td>\n",
       "      <td>0.434871</td>\n",
       "      <td>0.332769</td>\n",
       "      <td>0.403178</td>\n",
       "      <td>0.402866</td>\n",
       "      <td>0.299439</td>\n",
       "      <td>0.441876</td>\n",
       "      <td>0.464179</td>\n",
       "      <td>0.360186</td>\n",
       "      <td>0.354352</td>\n",
       "      <td>0.479808</td>\n",
       "      <td>0.108503</td>\n",
       "      <td>0.082232</td>\n",
       "      <td>0.058247</td>\n",
       "      <td>0.357709</td>\n",
       "      <td>0.061767</td>\n",
       "      <td>0.239840</td>\n",
       "      <td>0.089553</td>\n",
       "      <td>0.156449</td>\n",
       "      <td>0.122819</td>\n",
       "      <td>0.054496</td>\n",
       "      <td>0.417117</td>\n",
       "      <td>0.100541</td>\n",
       "      <td>0.302823</td>\n",
       "      <td>0.499101</td>\n",
       "      <td>0.316315</td>\n",
       "      <td>0.087183</td>\n",
       "      <td>0.224418</td>\n",
       "      <td>0.126130</td>\n",
       "      <td>0.114094</td>\n",
       "      <td>0.124487</td>\n",
       "      <td>0.271956</td>\n",
       "      <td>0.148475</td>\n",
       "      <td>0.115895</td>\n",
       "      <td>0.098445</td>\n",
       "      <td>0.087183</td>\n",
       "      <td>0.130930</td>\n",
       "      <td>0.299439</td>\n",
       "      <td>0.104601</td>\n",
       "      <td>0.176904</td>\n",
       "      <td>0.050465</td>\n",
       "      <td>0.035707</td>\n",
       "      <td>0.155151</td>\n",
       "      <td>0.332291</td>\n",
       "      <td>0.130930</td>\n",
       "      <td>0.393493</td>\n",
       "      <td>0.082232</td>\n",
       "      <td>0.127751</td>\n",
       "      <td>0.261845</td>\n",
       "      <td>0.294247</td>\n",
       "      <td>0.140001</td>\n",
       "      <td>0.497248</td>\n",
       "      <td>0.058247</td>\n",
       "      <td>0.084745</td>\n",
       "      <td>0.061767</td>\n",
       "      <td>0.119410</td>\n",
       "      <td>0.246717</td>\n",
       "      <td>0.119410</td>\n",
       "      <td>0.054496</td>\n",
       "      <td>0.311032</td>\n",
       "    </tr>\n",
       "    <tr>\n",
       "      <th>min</th>\n",
       "      <td>3.000000</td>\n",
       "      <td>10.000000</td>\n",
       "      <td>0.000000</td>\n",
       "      <td>0.000000</td>\n",
       "      <td>0.000000</td>\n",
       "      <td>0.000000</td>\n",
       "      <td>0.000000</td>\n",
       "      <td>0.000000</td>\n",
       "      <td>0.000000</td>\n",
       "      <td>0.000000</td>\n",
       "      <td>0.000000</td>\n",
       "      <td>0.000000</td>\n",
       "      <td>0.000000</td>\n",
       "      <td>0.000000</td>\n",
       "      <td>0.000000</td>\n",
       "      <td>0.000000</td>\n",
       "      <td>0.000000</td>\n",
       "      <td>0.000000</td>\n",
       "      <td>0.000000</td>\n",
       "      <td>0.000000</td>\n",
       "      <td>0.000000</td>\n",
       "      <td>0.000000</td>\n",
       "      <td>0.000000</td>\n",
       "      <td>0.000000</td>\n",
       "      <td>0.000000</td>\n",
       "      <td>0.000000</td>\n",
       "      <td>0.000000</td>\n",
       "      <td>0.000000</td>\n",
       "      <td>0.000000</td>\n",
       "      <td>0.000000</td>\n",
       "      <td>0.000000</td>\n",
       "      <td>0.000000</td>\n",
       "      <td>0.000000</td>\n",
       "      <td>0.000000</td>\n",
       "      <td>0.000000</td>\n",
       "      <td>0.000000</td>\n",
       "      <td>0.000000</td>\n",
       "      <td>0.000000</td>\n",
       "      <td>0.000000</td>\n",
       "      <td>0.000000</td>\n",
       "      <td>0.000000</td>\n",
       "      <td>0.000000</td>\n",
       "      <td>0.000000</td>\n",
       "      <td>0.000000</td>\n",
       "      <td>0.000000</td>\n",
       "      <td>0.000000</td>\n",
       "      <td>0.000000</td>\n",
       "      <td>0.000000</td>\n",
       "      <td>0.000000</td>\n",
       "      <td>0.000000</td>\n",
       "      <td>0.000000</td>\n",
       "      <td>0.000000</td>\n",
       "      <td>0.000000</td>\n",
       "      <td>0.000000</td>\n",
       "      <td>0.000000</td>\n",
       "      <td>0.000000</td>\n",
       "      <td>0.000000</td>\n",
       "      <td>0.000000</td>\n",
       "      <td>0.000000</td>\n",
       "      <td>0.000000</td>\n",
       "      <td>0.000000</td>\n",
       "      <td>0.000000</td>\n",
       "      <td>0.000000</td>\n",
       "      <td>0.000000</td>\n",
       "      <td>0.000000</td>\n",
       "      <td>0.000000</td>\n",
       "    </tr>\n",
       "    <tr>\n",
       "      <th>25%</th>\n",
       "      <td>4.200000</td>\n",
       "      <td>146.000000</td>\n",
       "      <td>0.000000</td>\n",
       "      <td>0.000000</td>\n",
       "      <td>0.000000</td>\n",
       "      <td>0.000000</td>\n",
       "      <td>0.000000</td>\n",
       "      <td>0.000000</td>\n",
       "      <td>0.000000</td>\n",
       "      <td>1.000000</td>\n",
       "      <td>0.000000</td>\n",
       "      <td>0.000000</td>\n",
       "      <td>0.000000</td>\n",
       "      <td>0.000000</td>\n",
       "      <td>0.000000</td>\n",
       "      <td>0.000000</td>\n",
       "      <td>0.000000</td>\n",
       "      <td>0.000000</td>\n",
       "      <td>0.000000</td>\n",
       "      <td>0.000000</td>\n",
       "      <td>0.000000</td>\n",
       "      <td>0.000000</td>\n",
       "      <td>0.000000</td>\n",
       "      <td>0.000000</td>\n",
       "      <td>0.000000</td>\n",
       "      <td>0.000000</td>\n",
       "      <td>0.000000</td>\n",
       "      <td>0.000000</td>\n",
       "      <td>0.000000</td>\n",
       "      <td>0.000000</td>\n",
       "      <td>0.000000</td>\n",
       "      <td>0.000000</td>\n",
       "      <td>0.000000</td>\n",
       "      <td>0.000000</td>\n",
       "      <td>0.000000</td>\n",
       "      <td>0.000000</td>\n",
       "      <td>0.000000</td>\n",
       "      <td>0.000000</td>\n",
       "      <td>0.000000</td>\n",
       "      <td>0.000000</td>\n",
       "      <td>0.000000</td>\n",
       "      <td>0.000000</td>\n",
       "      <td>0.000000</td>\n",
       "      <td>0.000000</td>\n",
       "      <td>0.000000</td>\n",
       "      <td>0.000000</td>\n",
       "      <td>0.000000</td>\n",
       "      <td>0.000000</td>\n",
       "      <td>0.000000</td>\n",
       "      <td>0.000000</td>\n",
       "      <td>0.000000</td>\n",
       "      <td>0.000000</td>\n",
       "      <td>0.000000</td>\n",
       "      <td>0.000000</td>\n",
       "      <td>0.000000</td>\n",
       "      <td>0.000000</td>\n",
       "      <td>0.000000</td>\n",
       "      <td>0.000000</td>\n",
       "      <td>0.000000</td>\n",
       "      <td>0.000000</td>\n",
       "      <td>0.000000</td>\n",
       "      <td>0.000000</td>\n",
       "      <td>0.000000</td>\n",
       "      <td>0.000000</td>\n",
       "      <td>0.000000</td>\n",
       "      <td>0.000000</td>\n",
       "    </tr>\n",
       "    <tr>\n",
       "      <th>50%</th>\n",
       "      <td>4.400000</td>\n",
       "      <td>282.000000</td>\n",
       "      <td>0.000000</td>\n",
       "      <td>0.000000</td>\n",
       "      <td>0.000000</td>\n",
       "      <td>0.000000</td>\n",
       "      <td>1.000000</td>\n",
       "      <td>0.000000</td>\n",
       "      <td>0.000000</td>\n",
       "      <td>1.000000</td>\n",
       "      <td>0.000000</td>\n",
       "      <td>0.000000</td>\n",
       "      <td>1.000000</td>\n",
       "      <td>0.000000</td>\n",
       "      <td>0.000000</td>\n",
       "      <td>0.000000</td>\n",
       "      <td>1.000000</td>\n",
       "      <td>0.000000</td>\n",
       "      <td>0.000000</td>\n",
       "      <td>0.000000</td>\n",
       "      <td>0.000000</td>\n",
       "      <td>0.000000</td>\n",
       "      <td>0.000000</td>\n",
       "      <td>0.000000</td>\n",
       "      <td>0.000000</td>\n",
       "      <td>0.000000</td>\n",
       "      <td>0.000000</td>\n",
       "      <td>0.000000</td>\n",
       "      <td>0.000000</td>\n",
       "      <td>0.000000</td>\n",
       "      <td>0.000000</td>\n",
       "      <td>0.000000</td>\n",
       "      <td>0.000000</td>\n",
       "      <td>0.000000</td>\n",
       "      <td>0.000000</td>\n",
       "      <td>0.000000</td>\n",
       "      <td>0.000000</td>\n",
       "      <td>0.000000</td>\n",
       "      <td>0.000000</td>\n",
       "      <td>0.000000</td>\n",
       "      <td>0.000000</td>\n",
       "      <td>0.000000</td>\n",
       "      <td>0.000000</td>\n",
       "      <td>0.000000</td>\n",
       "      <td>0.000000</td>\n",
       "      <td>0.000000</td>\n",
       "      <td>0.000000</td>\n",
       "      <td>0.000000</td>\n",
       "      <td>0.000000</td>\n",
       "      <td>0.000000</td>\n",
       "      <td>0.000000</td>\n",
       "      <td>0.000000</td>\n",
       "      <td>0.000000</td>\n",
       "      <td>0.000000</td>\n",
       "      <td>0.000000</td>\n",
       "      <td>0.000000</td>\n",
       "      <td>0.000000</td>\n",
       "      <td>0.000000</td>\n",
       "      <td>0.000000</td>\n",
       "      <td>0.000000</td>\n",
       "      <td>0.000000</td>\n",
       "      <td>0.000000</td>\n",
       "      <td>0.000000</td>\n",
       "      <td>0.000000</td>\n",
       "      <td>0.000000</td>\n",
       "      <td>0.000000</td>\n",
       "    </tr>\n",
       "    <tr>\n",
       "      <th>75%</th>\n",
       "      <td>4.700000</td>\n",
       "      <td>482.000000</td>\n",
       "      <td>0.000000</td>\n",
       "      <td>1.000000</td>\n",
       "      <td>0.000000</td>\n",
       "      <td>1.000000</td>\n",
       "      <td>1.000000</td>\n",
       "      <td>1.000000</td>\n",
       "      <td>0.000000</td>\n",
       "      <td>1.000000</td>\n",
       "      <td>0.000000</td>\n",
       "      <td>0.000000</td>\n",
       "      <td>1.000000</td>\n",
       "      <td>1.000000</td>\n",
       "      <td>0.000000</td>\n",
       "      <td>0.000000</td>\n",
       "      <td>1.000000</td>\n",
       "      <td>0.000000</td>\n",
       "      <td>0.000000</td>\n",
       "      <td>0.000000</td>\n",
       "      <td>0.000000</td>\n",
       "      <td>0.000000</td>\n",
       "      <td>0.000000</td>\n",
       "      <td>0.000000</td>\n",
       "      <td>0.000000</td>\n",
       "      <td>0.000000</td>\n",
       "      <td>0.000000</td>\n",
       "      <td>0.000000</td>\n",
       "      <td>0.000000</td>\n",
       "      <td>0.000000</td>\n",
       "      <td>1.000000</td>\n",
       "      <td>0.000000</td>\n",
       "      <td>0.000000</td>\n",
       "      <td>0.000000</td>\n",
       "      <td>0.000000</td>\n",
       "      <td>0.000000</td>\n",
       "      <td>0.000000</td>\n",
       "      <td>0.000000</td>\n",
       "      <td>0.000000</td>\n",
       "      <td>0.000000</td>\n",
       "      <td>0.000000</td>\n",
       "      <td>0.000000</td>\n",
       "      <td>0.000000</td>\n",
       "      <td>0.000000</td>\n",
       "      <td>0.000000</td>\n",
       "      <td>0.000000</td>\n",
       "      <td>0.000000</td>\n",
       "      <td>0.000000</td>\n",
       "      <td>0.000000</td>\n",
       "      <td>0.000000</td>\n",
       "      <td>0.000000</td>\n",
       "      <td>0.000000</td>\n",
       "      <td>0.000000</td>\n",
       "      <td>0.000000</td>\n",
       "      <td>0.000000</td>\n",
       "      <td>0.000000</td>\n",
       "      <td>0.000000</td>\n",
       "      <td>1.000000</td>\n",
       "      <td>0.000000</td>\n",
       "      <td>0.000000</td>\n",
       "      <td>0.000000</td>\n",
       "      <td>0.000000</td>\n",
       "      <td>0.000000</td>\n",
       "      <td>0.000000</td>\n",
       "      <td>0.000000</td>\n",
       "      <td>0.000000</td>\n",
       "    </tr>\n",
       "    <tr>\n",
       "      <th>max</th>\n",
       "      <td>5.000000</td>\n",
       "      <td>749.000000</td>\n",
       "      <td>1.000000</td>\n",
       "      <td>1.000000</td>\n",
       "      <td>1.000000</td>\n",
       "      <td>1.000000</td>\n",
       "      <td>1.000000</td>\n",
       "      <td>1.000000</td>\n",
       "      <td>1.000000</td>\n",
       "      <td>1.000000</td>\n",
       "      <td>1.000000</td>\n",
       "      <td>1.000000</td>\n",
       "      <td>1.000000</td>\n",
       "      <td>1.000000</td>\n",
       "      <td>1.000000</td>\n",
       "      <td>1.000000</td>\n",
       "      <td>1.000000</td>\n",
       "      <td>1.000000</td>\n",
       "      <td>1.000000</td>\n",
       "      <td>1.000000</td>\n",
       "      <td>1.000000</td>\n",
       "      <td>1.000000</td>\n",
       "      <td>1.000000</td>\n",
       "      <td>1.000000</td>\n",
       "      <td>1.000000</td>\n",
       "      <td>1.000000</td>\n",
       "      <td>1.000000</td>\n",
       "      <td>1.000000</td>\n",
       "      <td>1.000000</td>\n",
       "      <td>1.000000</td>\n",
       "      <td>1.000000</td>\n",
       "      <td>1.000000</td>\n",
       "      <td>1.000000</td>\n",
       "      <td>1.000000</td>\n",
       "      <td>1.000000</td>\n",
       "      <td>1.000000</td>\n",
       "      <td>1.000000</td>\n",
       "      <td>1.000000</td>\n",
       "      <td>1.000000</td>\n",
       "      <td>1.000000</td>\n",
       "      <td>1.000000</td>\n",
       "      <td>1.000000</td>\n",
       "      <td>1.000000</td>\n",
       "      <td>1.000000</td>\n",
       "      <td>1.000000</td>\n",
       "      <td>1.000000</td>\n",
       "      <td>1.000000</td>\n",
       "      <td>1.000000</td>\n",
       "      <td>1.000000</td>\n",
       "      <td>1.000000</td>\n",
       "      <td>1.000000</td>\n",
       "      <td>1.000000</td>\n",
       "      <td>1.000000</td>\n",
       "      <td>1.000000</td>\n",
       "      <td>1.000000</td>\n",
       "      <td>1.000000</td>\n",
       "      <td>1.000000</td>\n",
       "      <td>1.000000</td>\n",
       "      <td>1.000000</td>\n",
       "      <td>1.000000</td>\n",
       "      <td>1.000000</td>\n",
       "      <td>1.000000</td>\n",
       "      <td>1.000000</td>\n",
       "      <td>1.000000</td>\n",
       "      <td>1.000000</td>\n",
       "      <td>1.000000</td>\n",
       "    </tr>\n",
       "  </tbody>\n",
       "</table>\n",
       "</div>"
      ],
      "text/plain": [
       "            Rating        Price      Aroused     Creative          Dry  \\\n",
       "count  2351.000000  2351.000000  2351.000000  2351.000000  2351.000000   \n",
       "mean      4.403233   314.454700     0.084645     0.317737     0.000425   \n",
       "std       0.416600   194.965962     0.278412     0.465696     0.020624   \n",
       "min       3.000000    10.000000     0.000000     0.000000     0.000000   \n",
       "25%       4.200000   146.000000     0.000000     0.000000     0.000000   \n",
       "50%       4.400000   282.000000     0.000000     0.000000     0.000000   \n",
       "75%       4.700000   482.000000     0.000000     1.000000     0.000000   \n",
       "max       5.000000   749.000000     1.000000     1.000000     1.000000   \n",
       "\n",
       "         Energetic     Euphoric      Focused       Giggly        Happy  \\\n",
       "count  2351.000000  2351.000000  2351.000000  2351.000000  2351.000000   \n",
       "mean      0.274777     0.695449     0.253084     0.126755     0.795832   \n",
       "std       0.446497     0.460315     0.434871     0.332769     0.403178   \n",
       "min       0.000000     0.000000     0.000000     0.000000     0.000000   \n",
       "25%       0.000000     0.000000     0.000000     0.000000     1.000000   \n",
       "50%       0.000000     1.000000     0.000000     0.000000     1.000000   \n",
       "75%       1.000000     1.000000     1.000000     0.000000     1.000000   \n",
       "max       1.000000     1.000000     1.000000     1.000000     1.000000   \n",
       "\n",
       "            Hungry         None      Relaxed       Sleepy    Talkative  \\\n",
       "count  2351.000000  2351.000000  2351.000000  2351.000000  2351.000000   \n",
       "mean      0.203743     0.099532     0.734156     0.313909     0.153126   \n",
       "std       0.402866     0.299439     0.441876     0.464179     0.360186   \n",
       "min       0.000000     0.000000     0.000000     0.000000     0.000000   \n",
       "25%       0.000000     0.000000     0.000000     0.000000     0.000000   \n",
       "50%       0.000000     0.000000     1.000000     0.000000     0.000000   \n",
       "75%       0.000000     0.000000     1.000000     1.000000     0.000000   \n",
       "max       1.000000     1.000000     1.000000     1.000000     1.000000   \n",
       "\n",
       "            Tingly     Uplifted      Ammonia        Apple      Apricot  \\\n",
       "count  2351.000000  2351.000000  2351.000000  2351.000000  2351.000000   \n",
       "mean      0.147171     0.641004     0.011910     0.006806     0.003403   \n",
       "std       0.354352     0.479808     0.108503     0.082232     0.058247   \n",
       "min       0.000000     0.000000     0.000000     0.000000     0.000000   \n",
       "25%       0.000000     0.000000     0.000000     0.000000     0.000000   \n",
       "50%       0.000000     1.000000     0.000000     0.000000     0.000000   \n",
       "75%       0.000000     1.000000     0.000000     0.000000     0.000000   \n",
       "max       1.000000     1.000000     1.000000     1.000000     1.000000   \n",
       "\n",
       "             Berry         Blue    Blueberry       Butter       Cheese  \\\n",
       "count  2351.000000  2351.000000  2351.000000  2351.000000  2351.000000   \n",
       "mean      0.150574     0.003828     0.061251     0.008082     0.025096   \n",
       "std       0.357709     0.061767     0.239840     0.089553     0.156449   \n",
       "min       0.000000     0.000000     0.000000     0.000000     0.000000   \n",
       "25%       0.000000     0.000000     0.000000     0.000000     0.000000   \n",
       "50%       0.000000     0.000000     0.000000     0.000000     0.000000   \n",
       "75%       0.000000     0.000000     0.000000     0.000000     0.000000   \n",
       "max       1.000000     1.000000     1.000000     1.000000     1.000000   \n",
       "\n",
       "          Chemical     Chestnut       Citrus       Coffee       Diesel  \\\n",
       "count  2351.000000  2351.000000  2351.000000  2351.000000  2351.000000   \n",
       "mean      0.015313     0.002977     0.224160     0.010208     0.102084   \n",
       "std       0.122819     0.054496     0.417117     0.100541     0.302823   \n",
       "min       0.000000     0.000000     0.000000     0.000000     0.000000   \n",
       "25%       0.000000     0.000000     0.000000     0.000000     0.000000   \n",
       "50%       0.000000     0.000000     0.000000     0.000000     0.000000   \n",
       "75%       0.000000     0.000000     0.000000     0.000000     0.000000   \n",
       "max       1.000000     1.000000     1.000000     1.000000     1.000000   \n",
       "\n",
       "            Earthy      Flowery        Fruit        Grape   Grapefruit  \\\n",
       "count  2351.000000  2351.000000  2351.000000  2351.000000  2351.000000   \n",
       "mean      0.468311     0.112718     0.007656     0.053169     0.016163   \n",
       "std       0.499101     0.316315     0.087183     0.224418     0.126130   \n",
       "min       0.000000     0.000000     0.000000     0.000000     0.000000   \n",
       "25%       0.000000     0.000000     0.000000     0.000000     0.000000   \n",
       "50%       0.000000     0.000000     0.000000     0.000000     0.000000   \n",
       "75%       1.000000     0.000000     0.000000     0.000000     0.000000   \n",
       "max       1.000000     1.000000     1.000000     1.000000     1.000000   \n",
       "\n",
       "             Honey     Lavender        Lemon         Lime        Mango  \\\n",
       "count  2351.000000  2351.000000  2351.000000  2351.000000  2351.000000   \n",
       "mean      0.013186     0.015738     0.080391     0.022544     0.013611   \n",
       "std       0.114094     0.124487     0.271956     0.148475     0.115895   \n",
       "min       0.000000     0.000000     0.000000     0.000000     0.000000   \n",
       "25%       0.000000     0.000000     0.000000     0.000000     0.000000   \n",
       "50%       0.000000     0.000000     0.000000     0.000000     0.000000   \n",
       "75%       0.000000     0.000000     0.000000     0.000000     0.000000   \n",
       "max       1.000000     1.000000     1.000000     1.000000     1.000000   \n",
       "\n",
       "           Menthol         Mint        Minty         None        Nutty  \\\n",
       "count  2351.000000  2351.000000  2351.000000  2351.000000  2351.000000   \n",
       "mean      0.009783     0.007656     0.017439     0.099532     0.011059   \n",
       "std       0.098445     0.087183     0.130930     0.299439     0.104601   \n",
       "min       0.000000     0.000000     0.000000     0.000000     0.000000   \n",
       "25%       0.000000     0.000000     0.000000     0.000000     0.000000   \n",
       "50%       0.000000     0.000000     0.000000     0.000000     0.000000   \n",
       "75%       0.000000     0.000000     0.000000     0.000000     0.000000   \n",
       "max       1.000000     1.000000     1.000000     1.000000     1.000000   \n",
       "\n",
       "            Orange        Peach         Pear       Pepper         Pine  \\\n",
       "count  2351.000000  2351.000000  2351.000000  2351.000000  2351.000000   \n",
       "mean      0.032327     0.002552     0.001276     0.024670     0.126329   \n",
       "std       0.176904     0.050465     0.035707     0.155151     0.332291   \n",
       "min       0.000000     0.000000     0.000000     0.000000     0.000000   \n",
       "25%       0.000000     0.000000     0.000000     0.000000     0.000000   \n",
       "50%       0.000000     0.000000     0.000000     0.000000     0.000000   \n",
       "75%       0.000000     0.000000     0.000000     0.000000     0.000000   \n",
       "max       1.000000     1.000000     1.000000     1.000000     1.000000   \n",
       "\n",
       "         Pineapple      Pungent         Rose         Sage        Skunk  \\\n",
       "count  2351.000000  2351.000000  2351.000000  2351.000000  2351.000000   \n",
       "mean      0.017439     0.191408     0.006806     0.016589     0.074011   \n",
       "std       0.130930     0.393493     0.082232     0.127751     0.261845   \n",
       "min       0.000000     0.000000     0.000000     0.000000     0.000000   \n",
       "25%       0.000000     0.000000     0.000000     0.000000     0.000000   \n",
       "50%       0.000000     0.000000     0.000000     0.000000     0.000000   \n",
       "75%       0.000000     0.000000     0.000000     0.000000     0.000000   \n",
       "max       1.000000     1.000000     1.000000     1.000000     1.000000   \n",
       "\n",
       "       Spicy/Herbal   Strawberry        Sweet          Tar          Tea  \\\n",
       "count   2351.000000  2351.000000  2351.000000  2351.000000  2351.000000   \n",
       "mean       0.095704     0.019991     0.446618     0.003403     0.007231   \n",
       "std        0.294247     0.140001     0.497248     0.058247     0.084745   \n",
       "min        0.000000     0.000000     0.000000     0.000000     0.000000   \n",
       "25%        0.000000     0.000000     0.000000     0.000000     0.000000   \n",
       "50%        0.000000     0.000000     0.000000     0.000000     0.000000   \n",
       "75%        0.000000     0.000000     1.000000     0.000000     0.000000   \n",
       "max        1.000000     1.000000     1.000000     1.000000     1.000000   \n",
       "\n",
       "           Tobacco         Tree     Tropical      Vanilla       Violet  \\\n",
       "count  2351.000000  2351.000000  2351.000000  2351.000000  2351.000000   \n",
       "mean      0.003828     0.014462     0.065079     0.014462     0.002977   \n",
       "std       0.061767     0.119410     0.246717     0.119410     0.054496   \n",
       "min       0.000000     0.000000     0.000000     0.000000     0.000000   \n",
       "25%       0.000000     0.000000     0.000000     0.000000     0.000000   \n",
       "50%       0.000000     0.000000     0.000000     0.000000     0.000000   \n",
       "75%       0.000000     0.000000     0.000000     0.000000     0.000000   \n",
       "max       1.000000     1.000000     1.000000     1.000000     1.000000   \n",
       "\n",
       "             Woody  \n",
       "count  2351.000000  \n",
       "mean      0.108464  \n",
       "std       0.311032  \n",
       "min       0.000000  \n",
       "25%       0.000000  \n",
       "50%       0.000000  \n",
       "75%       0.000000  \n",
       "max       1.000000  "
      ]
     },
     "execution_count": 147,
     "metadata": {},
     "output_type": "execute_result"
    }
   ],
   "source": [
    "strains.describe()"
   ]
  },
  {
   "cell_type": "code",
   "execution_count": 148,
   "metadata": {},
   "outputs": [
    {
     "name": "stdout",
     "output_type": "stream",
     "text": [
      "<class 'pandas.core.frame.DataFrame'>\n",
      "RangeIndex: 2351 entries, 0 to 2350\n",
      "Data columns (total 79 columns):\n",
      "Strain          2351 non-null object\n",
      "Type            2351 non-null object\n",
      "Rating          2351 non-null float64\n",
      "Effects         2351 non-null object\n",
      "Flavor          2351 non-null object\n",
      "Description     2351 non-null object\n",
      "Price           2351 non-null int64\n",
      "Effects1        2351 non-null object\n",
      "Effects2        2351 non-null object\n",
      "Effects3        2351 non-null object\n",
      "Effects4        2351 non-null object\n",
      "Effects5        2351 non-null object\n",
      "Flavor1         2351 non-null object\n",
      "Flavor2         2351 non-null object\n",
      "Flavor3         2351 non-null object\n",
      "Aroused         2351 non-null int64\n",
      "Creative        2351 non-null int64\n",
      "Dry             2351 non-null int64\n",
      "Energetic       2351 non-null int64\n",
      "Euphoric        2351 non-null int64\n",
      "Focused         2351 non-null int64\n",
      "Giggly          2351 non-null int64\n",
      "Happy           2351 non-null int64\n",
      "Hungry          2351 non-null int64\n",
      "None            2351 non-null int64\n",
      "Relaxed         2351 non-null int64\n",
      "Sleepy          2351 non-null int64\n",
      "Talkative       2351 non-null int64\n",
      "Tingly          2351 non-null int64\n",
      "Uplifted        2351 non-null int64\n",
      "Ammonia         2351 non-null int64\n",
      "Apple           2351 non-null int64\n",
      "Apricot         2351 non-null int64\n",
      "Berry           2351 non-null int64\n",
      "Blue            2351 non-null int64\n",
      "Blueberry       2351 non-null int64\n",
      "Butter          2351 non-null int64\n",
      "Cheese          2351 non-null int64\n",
      "Chemical        2351 non-null int64\n",
      "Chestnut        2351 non-null int64\n",
      "Citrus          2351 non-null int64\n",
      "Coffee          2351 non-null int64\n",
      "Diesel          2351 non-null int64\n",
      "Earthy          2351 non-null int64\n",
      "Flowery         2351 non-null int64\n",
      "Fruit           2351 non-null int64\n",
      "Grape           2351 non-null int64\n",
      "Grapefruit      2351 non-null int64\n",
      "Honey           2351 non-null int64\n",
      "Lavender        2351 non-null int64\n",
      "Lemon           2351 non-null int64\n",
      "Lime            2351 non-null int64\n",
      "Mango           2351 non-null int64\n",
      "Menthol         2351 non-null int64\n",
      "Mint            2351 non-null int64\n",
      "Minty           2351 non-null int64\n",
      "None            2351 non-null int64\n",
      "Nutty           2351 non-null int64\n",
      "Orange          2351 non-null int64\n",
      "Peach           2351 non-null int64\n",
      "Pear            2351 non-null int64\n",
      "Pepper          2351 non-null int64\n",
      "Pine            2351 non-null int64\n",
      "Pineapple       2351 non-null int64\n",
      "Pungent         2351 non-null int64\n",
      "Rose            2351 non-null int64\n",
      "Sage            2351 non-null int64\n",
      "Skunk           2351 non-null int64\n",
      "Spicy/Herbal    2351 non-null int64\n",
      "Strawberry      2351 non-null int64\n",
      "Sweet           2351 non-null int64\n",
      "Tar             2351 non-null int64\n",
      "Tea             2351 non-null int64\n",
      "Tobacco         2351 non-null int64\n",
      "Tree            2351 non-null int64\n",
      "Tropical        2351 non-null int64\n",
      "Vanilla         2351 non-null int64\n",
      "Violet          2351 non-null int64\n",
      "Woody           2351 non-null int64\n",
      "dtypes: float64(1), int64(65), object(13)\n",
      "memory usage: 1.4+ MB\n"
     ]
    }
   ],
   "source": [
    "strains.info()"
   ]
  },
  {
   "cell_type": "code",
   "execution_count": 149,
   "metadata": {},
   "outputs": [
    {
     "data": {
      "text/plain": [
       "79"
      ]
     },
     "execution_count": 149,
     "metadata": {},
     "output_type": "execute_result"
    }
   ],
   "source": [
    "len(strains.columns)\n"
   ]
  },
  {
   "cell_type": "code",
   "execution_count": 150,
   "metadata": {},
   "outputs": [
    {
     "data": {
      "text/html": [
       "<div>\n",
       "<style scoped>\n",
       "    .dataframe tbody tr th:only-of-type {\n",
       "        vertical-align: middle;\n",
       "    }\n",
       "\n",
       "    .dataframe tbody tr th {\n",
       "        vertical-align: top;\n",
       "    }\n",
       "\n",
       "    .dataframe thead th {\n",
       "        text-align: right;\n",
       "    }\n",
       "</style>\n",
       "<table border=\"1\" class=\"dataframe\">\n",
       "  <thead>\n",
       "    <tr style=\"text-align: right;\">\n",
       "      <th></th>\n",
       "      <th>Strain</th>\n",
       "      <th>Type</th>\n",
       "      <th>Rating</th>\n",
       "      <th>Effects</th>\n",
       "      <th>Flavor</th>\n",
       "      <th>Description</th>\n",
       "      <th>Price</th>\n",
       "      <th>Effects1</th>\n",
       "      <th>Effects2</th>\n",
       "      <th>Effects3</th>\n",
       "      <th>Effects4</th>\n",
       "      <th>Effects5</th>\n",
       "      <th>Flavor1</th>\n",
       "      <th>Flavor2</th>\n",
       "      <th>Flavor3</th>\n",
       "      <th>Aroused</th>\n",
       "      <th>Creative</th>\n",
       "      <th>Dry</th>\n",
       "      <th>Energetic</th>\n",
       "      <th>Euphoric</th>\n",
       "      <th>Focused</th>\n",
       "      <th>Giggly</th>\n",
       "      <th>Happy</th>\n",
       "      <th>Hungry</th>\n",
       "      <th>None</th>\n",
       "      <th>Relaxed</th>\n",
       "      <th>Sleepy</th>\n",
       "      <th>Talkative</th>\n",
       "      <th>Tingly</th>\n",
       "      <th>Uplifted</th>\n",
       "      <th>Ammonia</th>\n",
       "      <th>Apple</th>\n",
       "      <th>Apricot</th>\n",
       "      <th>Berry</th>\n",
       "      <th>Blue</th>\n",
       "      <th>Blueberry</th>\n",
       "      <th>Butter</th>\n",
       "      <th>Cheese</th>\n",
       "      <th>Chemical</th>\n",
       "      <th>Chestnut</th>\n",
       "      <th>Citrus</th>\n",
       "      <th>Coffee</th>\n",
       "      <th>Diesel</th>\n",
       "      <th>Earthy</th>\n",
       "      <th>Flowery</th>\n",
       "      <th>Fruit</th>\n",
       "      <th>Grape</th>\n",
       "      <th>Grapefruit</th>\n",
       "      <th>Honey</th>\n",
       "      <th>Lavender</th>\n",
       "      <th>Lemon</th>\n",
       "      <th>Lime</th>\n",
       "      <th>Mango</th>\n",
       "      <th>Menthol</th>\n",
       "      <th>Mint</th>\n",
       "      <th>Minty</th>\n",
       "      <th>None</th>\n",
       "      <th>Nutty</th>\n",
       "      <th>Orange</th>\n",
       "      <th>Peach</th>\n",
       "      <th>Pear</th>\n",
       "      <th>Pepper</th>\n",
       "      <th>Pine</th>\n",
       "      <th>Pineapple</th>\n",
       "      <th>Pungent</th>\n",
       "      <th>Rose</th>\n",
       "      <th>Sage</th>\n",
       "      <th>Skunk</th>\n",
       "      <th>Spicy/Herbal</th>\n",
       "      <th>Strawberry</th>\n",
       "      <th>Sweet</th>\n",
       "      <th>Tar</th>\n",
       "      <th>Tea</th>\n",
       "      <th>Tobacco</th>\n",
       "      <th>Tree</th>\n",
       "      <th>Tropical</th>\n",
       "      <th>Vanilla</th>\n",
       "      <th>Violet</th>\n",
       "      <th>Woody</th>\n",
       "    </tr>\n",
       "  </thead>\n",
       "  <tbody>\n",
       "    <tr>\n",
       "      <th>0</th>\n",
       "      <td>100-Og</td>\n",
       "      <td>hybrid</td>\n",
       "      <td>4.0</td>\n",
       "      <td>Creative,Energetic,Tingly,Euphoric,Relaxed</td>\n",
       "      <td>Earthy,Sweet,Citrus</td>\n",
       "      <td>$100 OG is a 50/50 hybrid strain that packs a ...</td>\n",
       "      <td>109</td>\n",
       "      <td>Creative</td>\n",
       "      <td>Energetic</td>\n",
       "      <td>Tingly</td>\n",
       "      <td>Euphoric</td>\n",
       "      <td>Relaxed</td>\n",
       "      <td>Earthy</td>\n",
       "      <td>Sweet</td>\n",
       "      <td>Citrus</td>\n",
       "      <td>0</td>\n",
       "      <td>1</td>\n",
       "      <td>0</td>\n",
       "      <td>1</td>\n",
       "      <td>1</td>\n",
       "      <td>0</td>\n",
       "      <td>0</td>\n",
       "      <td>0</td>\n",
       "      <td>0</td>\n",
       "      <td>0</td>\n",
       "      <td>1</td>\n",
       "      <td>0</td>\n",
       "      <td>0</td>\n",
       "      <td>1</td>\n",
       "      <td>0</td>\n",
       "      <td>0</td>\n",
       "      <td>0</td>\n",
       "      <td>0</td>\n",
       "      <td>0</td>\n",
       "      <td>0</td>\n",
       "      <td>0</td>\n",
       "      <td>0</td>\n",
       "      <td>0</td>\n",
       "      <td>0</td>\n",
       "      <td>0</td>\n",
       "      <td>1</td>\n",
       "      <td>0</td>\n",
       "      <td>0</td>\n",
       "      <td>1</td>\n",
       "      <td>0</td>\n",
       "      <td>0</td>\n",
       "      <td>0</td>\n",
       "      <td>0</td>\n",
       "      <td>0</td>\n",
       "      <td>0</td>\n",
       "      <td>0</td>\n",
       "      <td>0</td>\n",
       "      <td>0</td>\n",
       "      <td>0</td>\n",
       "      <td>0</td>\n",
       "      <td>0</td>\n",
       "      <td>0</td>\n",
       "      <td>0</td>\n",
       "      <td>0</td>\n",
       "      <td>0</td>\n",
       "      <td>0</td>\n",
       "      <td>0</td>\n",
       "      <td>0</td>\n",
       "      <td>0</td>\n",
       "      <td>0</td>\n",
       "      <td>0</td>\n",
       "      <td>0</td>\n",
       "      <td>0</td>\n",
       "      <td>0</td>\n",
       "      <td>0</td>\n",
       "      <td>1</td>\n",
       "      <td>0</td>\n",
       "      <td>0</td>\n",
       "      <td>0</td>\n",
       "      <td>0</td>\n",
       "      <td>0</td>\n",
       "      <td>0</td>\n",
       "      <td>0</td>\n",
       "      <td>0</td>\n",
       "    </tr>\n",
       "    <tr>\n",
       "      <th>1</th>\n",
       "      <td>98-White-Widow</td>\n",
       "      <td>hybrid</td>\n",
       "      <td>4.7</td>\n",
       "      <td>Relaxed,Aroused,Creative,Happy,Energetic</td>\n",
       "      <td>Flowery,Violet,Diesel</td>\n",
       "      <td>The ‘98 Aloha White Widow is an especially pot...</td>\n",
       "      <td>31</td>\n",
       "      <td>Relaxed</td>\n",
       "      <td>Aroused</td>\n",
       "      <td>Creative</td>\n",
       "      <td>Happy</td>\n",
       "      <td>Energetic</td>\n",
       "      <td>Flowery</td>\n",
       "      <td>Violet</td>\n",
       "      <td>Diesel</td>\n",
       "      <td>1</td>\n",
       "      <td>1</td>\n",
       "      <td>0</td>\n",
       "      <td>1</td>\n",
       "      <td>0</td>\n",
       "      <td>0</td>\n",
       "      <td>0</td>\n",
       "      <td>1</td>\n",
       "      <td>0</td>\n",
       "      <td>0</td>\n",
       "      <td>1</td>\n",
       "      <td>0</td>\n",
       "      <td>0</td>\n",
       "      <td>0</td>\n",
       "      <td>0</td>\n",
       "      <td>0</td>\n",
       "      <td>0</td>\n",
       "      <td>0</td>\n",
       "      <td>0</td>\n",
       "      <td>0</td>\n",
       "      <td>0</td>\n",
       "      <td>0</td>\n",
       "      <td>0</td>\n",
       "      <td>0</td>\n",
       "      <td>0</td>\n",
       "      <td>0</td>\n",
       "      <td>0</td>\n",
       "      <td>1</td>\n",
       "      <td>0</td>\n",
       "      <td>1</td>\n",
       "      <td>0</td>\n",
       "      <td>0</td>\n",
       "      <td>0</td>\n",
       "      <td>0</td>\n",
       "      <td>0</td>\n",
       "      <td>0</td>\n",
       "      <td>0</td>\n",
       "      <td>0</td>\n",
       "      <td>0</td>\n",
       "      <td>0</td>\n",
       "      <td>0</td>\n",
       "      <td>0</td>\n",
       "      <td>0</td>\n",
       "      <td>0</td>\n",
       "      <td>0</td>\n",
       "      <td>0</td>\n",
       "      <td>0</td>\n",
       "      <td>0</td>\n",
       "      <td>0</td>\n",
       "      <td>0</td>\n",
       "      <td>0</td>\n",
       "      <td>0</td>\n",
       "      <td>0</td>\n",
       "      <td>0</td>\n",
       "      <td>0</td>\n",
       "      <td>0</td>\n",
       "      <td>0</td>\n",
       "      <td>0</td>\n",
       "      <td>0</td>\n",
       "      <td>0</td>\n",
       "      <td>0</td>\n",
       "      <td>0</td>\n",
       "      <td>1</td>\n",
       "      <td>0</td>\n",
       "    </tr>\n",
       "    <tr>\n",
       "      <th>2</th>\n",
       "      <td>1024</td>\n",
       "      <td>sativa</td>\n",
       "      <td>4.4</td>\n",
       "      <td>Uplifted,Happy,Relaxed,Energetic,Creative</td>\n",
       "      <td>Spicy/Herbal,Sage,Woody</td>\n",
       "      <td>1024 is a sativa-dominant hybrid bred in Spain...</td>\n",
       "      <td>391</td>\n",
       "      <td>Uplifted</td>\n",
       "      <td>Happy</td>\n",
       "      <td>Relaxed</td>\n",
       "      <td>Energetic</td>\n",
       "      <td>Creative</td>\n",
       "      <td>Spicy/Herbal</td>\n",
       "      <td>Sage</td>\n",
       "      <td>Woody</td>\n",
       "      <td>0</td>\n",
       "      <td>1</td>\n",
       "      <td>0</td>\n",
       "      <td>1</td>\n",
       "      <td>0</td>\n",
       "      <td>0</td>\n",
       "      <td>0</td>\n",
       "      <td>1</td>\n",
       "      <td>0</td>\n",
       "      <td>0</td>\n",
       "      <td>1</td>\n",
       "      <td>0</td>\n",
       "      <td>0</td>\n",
       "      <td>0</td>\n",
       "      <td>1</td>\n",
       "      <td>0</td>\n",
       "      <td>0</td>\n",
       "      <td>0</td>\n",
       "      <td>0</td>\n",
       "      <td>0</td>\n",
       "      <td>0</td>\n",
       "      <td>0</td>\n",
       "      <td>0</td>\n",
       "      <td>0</td>\n",
       "      <td>0</td>\n",
       "      <td>0</td>\n",
       "      <td>0</td>\n",
       "      <td>0</td>\n",
       "      <td>0</td>\n",
       "      <td>0</td>\n",
       "      <td>0</td>\n",
       "      <td>0</td>\n",
       "      <td>0</td>\n",
       "      <td>0</td>\n",
       "      <td>0</td>\n",
       "      <td>0</td>\n",
       "      <td>0</td>\n",
       "      <td>0</td>\n",
       "      <td>0</td>\n",
       "      <td>0</td>\n",
       "      <td>0</td>\n",
       "      <td>0</td>\n",
       "      <td>0</td>\n",
       "      <td>0</td>\n",
       "      <td>0</td>\n",
       "      <td>0</td>\n",
       "      <td>0</td>\n",
       "      <td>0</td>\n",
       "      <td>0</td>\n",
       "      <td>0</td>\n",
       "      <td>0</td>\n",
       "      <td>1</td>\n",
       "      <td>0</td>\n",
       "      <td>1</td>\n",
       "      <td>0</td>\n",
       "      <td>0</td>\n",
       "      <td>0</td>\n",
       "      <td>0</td>\n",
       "      <td>0</td>\n",
       "      <td>0</td>\n",
       "      <td>0</td>\n",
       "      <td>0</td>\n",
       "      <td>0</td>\n",
       "      <td>1</td>\n",
       "    </tr>\n",
       "    <tr>\n",
       "      <th>3</th>\n",
       "      <td>13-Dawgs</td>\n",
       "      <td>hybrid</td>\n",
       "      <td>4.2</td>\n",
       "      <td>Tingly,Creative,Hungry,Relaxed,Uplifted</td>\n",
       "      <td>Apricot,Citrus,Grapefruit</td>\n",
       "      <td>13 Dawgs is a hybrid of G13 and Chemdawg genet...</td>\n",
       "      <td>38</td>\n",
       "      <td>Tingly</td>\n",
       "      <td>Creative</td>\n",
       "      <td>Hungry</td>\n",
       "      <td>Relaxed</td>\n",
       "      <td>Uplifted</td>\n",
       "      <td>Apricot</td>\n",
       "      <td>Citrus</td>\n",
       "      <td>Grapefruit</td>\n",
       "      <td>0</td>\n",
       "      <td>1</td>\n",
       "      <td>0</td>\n",
       "      <td>0</td>\n",
       "      <td>0</td>\n",
       "      <td>0</td>\n",
       "      <td>0</td>\n",
       "      <td>0</td>\n",
       "      <td>1</td>\n",
       "      <td>0</td>\n",
       "      <td>1</td>\n",
       "      <td>0</td>\n",
       "      <td>0</td>\n",
       "      <td>1</td>\n",
       "      <td>1</td>\n",
       "      <td>0</td>\n",
       "      <td>0</td>\n",
       "      <td>1</td>\n",
       "      <td>0</td>\n",
       "      <td>0</td>\n",
       "      <td>0</td>\n",
       "      <td>0</td>\n",
       "      <td>0</td>\n",
       "      <td>0</td>\n",
       "      <td>0</td>\n",
       "      <td>1</td>\n",
       "      <td>0</td>\n",
       "      <td>0</td>\n",
       "      <td>0</td>\n",
       "      <td>0</td>\n",
       "      <td>0</td>\n",
       "      <td>0</td>\n",
       "      <td>1</td>\n",
       "      <td>0</td>\n",
       "      <td>0</td>\n",
       "      <td>0</td>\n",
       "      <td>0</td>\n",
       "      <td>0</td>\n",
       "      <td>0</td>\n",
       "      <td>0</td>\n",
       "      <td>0</td>\n",
       "      <td>0</td>\n",
       "      <td>0</td>\n",
       "      <td>0</td>\n",
       "      <td>0</td>\n",
       "      <td>0</td>\n",
       "      <td>0</td>\n",
       "      <td>0</td>\n",
       "      <td>0</td>\n",
       "      <td>0</td>\n",
       "      <td>0</td>\n",
       "      <td>0</td>\n",
       "      <td>0</td>\n",
       "      <td>0</td>\n",
       "      <td>0</td>\n",
       "      <td>0</td>\n",
       "      <td>0</td>\n",
       "      <td>0</td>\n",
       "      <td>0</td>\n",
       "      <td>0</td>\n",
       "      <td>0</td>\n",
       "      <td>0</td>\n",
       "      <td>0</td>\n",
       "      <td>0</td>\n",
       "    </tr>\n",
       "    <tr>\n",
       "      <th>4</th>\n",
       "      <td>24K-Gold</td>\n",
       "      <td>hybrid</td>\n",
       "      <td>4.6</td>\n",
       "      <td>Happy,Relaxed,Euphoric,Uplifted,Talkative</td>\n",
       "      <td>Citrus,Earthy,Orange</td>\n",
       "      <td>Also known as Kosher Tangie, 24k Gold is a 60%...</td>\n",
       "      <td>178</td>\n",
       "      <td>Happy</td>\n",
       "      <td>Relaxed</td>\n",
       "      <td>Euphoric</td>\n",
       "      <td>Uplifted</td>\n",
       "      <td>Talkative</td>\n",
       "      <td>Citrus</td>\n",
       "      <td>Earthy</td>\n",
       "      <td>Orange</td>\n",
       "      <td>0</td>\n",
       "      <td>0</td>\n",
       "      <td>0</td>\n",
       "      <td>0</td>\n",
       "      <td>1</td>\n",
       "      <td>0</td>\n",
       "      <td>0</td>\n",
       "      <td>1</td>\n",
       "      <td>0</td>\n",
       "      <td>0</td>\n",
       "      <td>1</td>\n",
       "      <td>0</td>\n",
       "      <td>1</td>\n",
       "      <td>0</td>\n",
       "      <td>1</td>\n",
       "      <td>0</td>\n",
       "      <td>0</td>\n",
       "      <td>0</td>\n",
       "      <td>0</td>\n",
       "      <td>0</td>\n",
       "      <td>0</td>\n",
       "      <td>0</td>\n",
       "      <td>0</td>\n",
       "      <td>0</td>\n",
       "      <td>0</td>\n",
       "      <td>1</td>\n",
       "      <td>0</td>\n",
       "      <td>0</td>\n",
       "      <td>1</td>\n",
       "      <td>0</td>\n",
       "      <td>0</td>\n",
       "      <td>0</td>\n",
       "      <td>0</td>\n",
       "      <td>0</td>\n",
       "      <td>0</td>\n",
       "      <td>0</td>\n",
       "      <td>0</td>\n",
       "      <td>0</td>\n",
       "      <td>0</td>\n",
       "      <td>0</td>\n",
       "      <td>0</td>\n",
       "      <td>0</td>\n",
       "      <td>0</td>\n",
       "      <td>1</td>\n",
       "      <td>0</td>\n",
       "      <td>0</td>\n",
       "      <td>0</td>\n",
       "      <td>0</td>\n",
       "      <td>0</td>\n",
       "      <td>0</td>\n",
       "      <td>0</td>\n",
       "      <td>0</td>\n",
       "      <td>0</td>\n",
       "      <td>0</td>\n",
       "      <td>0</td>\n",
       "      <td>0</td>\n",
       "      <td>0</td>\n",
       "      <td>0</td>\n",
       "      <td>0</td>\n",
       "      <td>0</td>\n",
       "      <td>0</td>\n",
       "      <td>0</td>\n",
       "      <td>0</td>\n",
       "      <td>0</td>\n",
       "    </tr>\n",
       "  </tbody>\n",
       "</table>\n",
       "</div>"
      ],
      "text/plain": [
       "           Strain    Type  Rating                                     Effects  \\\n",
       "0          100-Og  hybrid     4.0  Creative,Energetic,Tingly,Euphoric,Relaxed   \n",
       "1  98-White-Widow  hybrid     4.7    Relaxed,Aroused,Creative,Happy,Energetic   \n",
       "2            1024  sativa     4.4   Uplifted,Happy,Relaxed,Energetic,Creative   \n",
       "3        13-Dawgs  hybrid     4.2     Tingly,Creative,Hungry,Relaxed,Uplifted   \n",
       "4        24K-Gold  hybrid     4.6   Happy,Relaxed,Euphoric,Uplifted,Talkative   \n",
       "\n",
       "                      Flavor  \\\n",
       "0        Earthy,Sweet,Citrus   \n",
       "1      Flowery,Violet,Diesel   \n",
       "2    Spicy/Herbal,Sage,Woody   \n",
       "3  Apricot,Citrus,Grapefruit   \n",
       "4       Citrus,Earthy,Orange   \n",
       "\n",
       "                                         Description  Price  Effects1  \\\n",
       "0  $100 OG is a 50/50 hybrid strain that packs a ...    109  Creative   \n",
       "1  The ‘98 Aloha White Widow is an especially pot...     31   Relaxed   \n",
       "2  1024 is a sativa-dominant hybrid bred in Spain...    391  Uplifted   \n",
       "3  13 Dawgs is a hybrid of G13 and Chemdawg genet...     38    Tingly   \n",
       "4  Also known as Kosher Tangie, 24k Gold is a 60%...    178     Happy   \n",
       "\n",
       "    Effects2  Effects3   Effects4   Effects5       Flavor1 Flavor2  \\\n",
       "0  Energetic    Tingly   Euphoric    Relaxed        Earthy   Sweet   \n",
       "1    Aroused  Creative      Happy  Energetic       Flowery  Violet   \n",
       "2      Happy   Relaxed  Energetic   Creative  Spicy/Herbal    Sage   \n",
       "3   Creative    Hungry    Relaxed   Uplifted       Apricot  Citrus   \n",
       "4    Relaxed  Euphoric   Uplifted  Talkative        Citrus  Earthy   \n",
       "\n",
       "      Flavor3  Aroused  Creative  Dry  Energetic  Euphoric  Focused  Giggly  \\\n",
       "0      Citrus        0         1    0          1         1        0       0   \n",
       "1      Diesel        1         1    0          1         0        0       0   \n",
       "2       Woody        0         1    0          1         0        0       0   \n",
       "3  Grapefruit        0         1    0          0         0        0       0   \n",
       "4      Orange        0         0    0          0         1        0       0   \n",
       "\n",
       "   Happy  Hungry  None  Relaxed  Sleepy  Talkative  Tingly  Uplifted  Ammonia  \\\n",
       "0      0       0     0        1       0          0       1         0        0   \n",
       "1      1       0     0        1       0          0       0         0        0   \n",
       "2      1       0     0        1       0          0       0         1        0   \n",
       "3      0       1     0        1       0          0       1         1        0   \n",
       "4      1       0     0        1       0          1       0         1        0   \n",
       "\n",
       "   Apple  Apricot  Berry  Blue  Blueberry  Butter  Cheese  Chemical  Chestnut  \\\n",
       "0      0        0      0     0          0       0       0         0         0   \n",
       "1      0        0      0     0          0       0       0         0         0   \n",
       "2      0        0      0     0          0       0       0         0         0   \n",
       "3      0        1      0     0          0       0       0         0         0   \n",
       "4      0        0      0     0          0       0       0         0         0   \n",
       "\n",
       "   Citrus  Coffee  Diesel  Earthy  Flowery  Fruit  Grape  Grapefruit  Honey  \\\n",
       "0       1       0       0       1        0      0      0           0      0   \n",
       "1       0       0       1       0        1      0      0           0      0   \n",
       "2       0       0       0       0        0      0      0           0      0   \n",
       "3       1       0       0       0        0      0      0           1      0   \n",
       "4       1       0       0       1        0      0      0           0      0   \n",
       "\n",
       "   Lavender  Lemon  Lime  Mango  Menthol  Mint  Minty  None  Nutty  Orange  \\\n",
       "0         0      0     0      0        0     0      0     0      0       0   \n",
       "1         0      0     0      0        0     0      0     0      0       0   \n",
       "2         0      0     0      0        0     0      0     0      0       0   \n",
       "3         0      0     0      0        0     0      0     0      0       0   \n",
       "4         0      0     0      0        0     0      0     0      0       1   \n",
       "\n",
       "   Peach  Pear  Pepper  Pine  Pineapple  Pungent  Rose  Sage  Skunk  \\\n",
       "0      0     0       0     0          0        0     0     0      0   \n",
       "1      0     0       0     0          0        0     0     0      0   \n",
       "2      0     0       0     0          0        0     0     1      0   \n",
       "3      0     0       0     0          0        0     0     0      0   \n",
       "4      0     0       0     0          0        0     0     0      0   \n",
       "\n",
       "   Spicy/Herbal  Strawberry  Sweet  Tar  Tea  Tobacco  Tree  Tropical  \\\n",
       "0             0           0      1    0    0        0     0         0   \n",
       "1             0           0      0    0    0        0     0         0   \n",
       "2             1           0      0    0    0        0     0         0   \n",
       "3             0           0      0    0    0        0     0         0   \n",
       "4             0           0      0    0    0        0     0         0   \n",
       "\n",
       "   Vanilla  Violet  Woody  \n",
       "0        0       0      0  \n",
       "1        0       1      0  \n",
       "2        0       0      1  \n",
       "3        0       0      0  \n",
       "4        0       0      0  "
      ]
     },
     "execution_count": 150,
     "metadata": {},
     "output_type": "execute_result"
    }
   ],
   "source": [
    "strains.head()"
   ]
  },
  {
   "cell_type": "code",
   "execution_count": 151,
   "metadata": {},
   "outputs": [],
   "source": [
    "strains.to_csv('strains_preprocessing.csv', index=False)"
   ]
  },
  {
   "cell_type": "code",
   "execution_count": 152,
   "metadata": {},
   "outputs": [
    {
     "data": {
      "text/plain": [
       "array([3. , 3.1, 3.2, 3.3, 3.4, 3.5, 3.6, 3.7, 3.8, 3.9, 4. , 4.1, 4.2,\n",
       "       4.3, 4.4, 4.5, 4.6, 4.7, 4.8, 4.9, 5. ])"
      ]
     },
     "execution_count": 152,
     "metadata": {},
     "output_type": "execute_result"
    }
   ],
   "source": [
    "np.sort(strains['Rating'].unique())\n"
   ]
  },
  {
   "cell_type": "code",
   "execution_count": 153,
   "metadata": {},
   "outputs": [],
   "source": [
    "strains = pd.read_csv('strains_preprocessing.csv')"
   ]
  },
  {
   "cell_type": "code",
   "execution_count": 154,
   "metadata": {},
   "outputs": [
    {
     "data": {
      "text/html": [
       "<div>\n",
       "<style scoped>\n",
       "    .dataframe tbody tr th:only-of-type {\n",
       "        vertical-align: middle;\n",
       "    }\n",
       "\n",
       "    .dataframe tbody tr th {\n",
       "        vertical-align: top;\n",
       "    }\n",
       "\n",
       "    .dataframe thead th {\n",
       "        text-align: right;\n",
       "    }\n",
       "</style>\n",
       "<table border=\"1\" class=\"dataframe\">\n",
       "  <thead>\n",
       "    <tr style=\"text-align: right;\">\n",
       "      <th></th>\n",
       "      <th>Strain</th>\n",
       "      <th>Type</th>\n",
       "      <th>Rating</th>\n",
       "      <th>Effects</th>\n",
       "      <th>Flavor</th>\n",
       "      <th>Description</th>\n",
       "      <th>Price</th>\n",
       "      <th>Effects1</th>\n",
       "      <th>Effects2</th>\n",
       "      <th>Effects3</th>\n",
       "      <th>Effects4</th>\n",
       "      <th>Effects5</th>\n",
       "      <th>Flavor1</th>\n",
       "      <th>Flavor2</th>\n",
       "      <th>Flavor3</th>\n",
       "      <th>Aroused</th>\n",
       "      <th>Creative</th>\n",
       "      <th>Dry</th>\n",
       "      <th>Energetic</th>\n",
       "      <th>Euphoric</th>\n",
       "      <th>Focused</th>\n",
       "      <th>Giggly</th>\n",
       "      <th>Happy</th>\n",
       "      <th>Hungry</th>\n",
       "      <th>None</th>\n",
       "      <th>Relaxed</th>\n",
       "      <th>Sleepy</th>\n",
       "      <th>Talkative</th>\n",
       "      <th>Tingly</th>\n",
       "      <th>Uplifted</th>\n",
       "      <th>Ammonia</th>\n",
       "      <th>Apple</th>\n",
       "      <th>Apricot</th>\n",
       "      <th>Berry</th>\n",
       "      <th>Blue</th>\n",
       "      <th>Blueberry</th>\n",
       "      <th>Butter</th>\n",
       "      <th>Cheese</th>\n",
       "      <th>Chemical</th>\n",
       "      <th>Chestnut</th>\n",
       "      <th>Citrus</th>\n",
       "      <th>Coffee</th>\n",
       "      <th>Diesel</th>\n",
       "      <th>Earthy</th>\n",
       "      <th>Flowery</th>\n",
       "      <th>Fruit</th>\n",
       "      <th>Grape</th>\n",
       "      <th>Grapefruit</th>\n",
       "      <th>Honey</th>\n",
       "      <th>Lavender</th>\n",
       "      <th>Lemon</th>\n",
       "      <th>Lime</th>\n",
       "      <th>Mango</th>\n",
       "      <th>Menthol</th>\n",
       "      <th>Mint</th>\n",
       "      <th>Minty</th>\n",
       "      <th>None.1</th>\n",
       "      <th>Nutty</th>\n",
       "      <th>Orange</th>\n",
       "      <th>Peach</th>\n",
       "      <th>Pear</th>\n",
       "      <th>Pepper</th>\n",
       "      <th>Pine</th>\n",
       "      <th>Pineapple</th>\n",
       "      <th>Pungent</th>\n",
       "      <th>Rose</th>\n",
       "      <th>Sage</th>\n",
       "      <th>Skunk</th>\n",
       "      <th>Spicy/Herbal</th>\n",
       "      <th>Strawberry</th>\n",
       "      <th>Sweet</th>\n",
       "      <th>Tar</th>\n",
       "      <th>Tea</th>\n",
       "      <th>Tobacco</th>\n",
       "      <th>Tree</th>\n",
       "      <th>Tropical</th>\n",
       "      <th>Vanilla</th>\n",
       "      <th>Violet</th>\n",
       "      <th>Woody</th>\n",
       "    </tr>\n",
       "  </thead>\n",
       "  <tbody>\n",
       "    <tr>\n",
       "      <th>0</th>\n",
       "      <td>100-Og</td>\n",
       "      <td>hybrid</td>\n",
       "      <td>4.0</td>\n",
       "      <td>Creative,Energetic,Tingly,Euphoric,Relaxed</td>\n",
       "      <td>Earthy,Sweet,Citrus</td>\n",
       "      <td>$100 OG is a 50/50 hybrid strain that packs a ...</td>\n",
       "      <td>109</td>\n",
       "      <td>Creative</td>\n",
       "      <td>Energetic</td>\n",
       "      <td>Tingly</td>\n",
       "      <td>Euphoric</td>\n",
       "      <td>Relaxed</td>\n",
       "      <td>Earthy</td>\n",
       "      <td>Sweet</td>\n",
       "      <td>Citrus</td>\n",
       "      <td>0</td>\n",
       "      <td>1</td>\n",
       "      <td>0</td>\n",
       "      <td>1</td>\n",
       "      <td>1</td>\n",
       "      <td>0</td>\n",
       "      <td>0</td>\n",
       "      <td>0</td>\n",
       "      <td>0</td>\n",
       "      <td>0</td>\n",
       "      <td>1</td>\n",
       "      <td>0</td>\n",
       "      <td>0</td>\n",
       "      <td>1</td>\n",
       "      <td>0</td>\n",
       "      <td>0</td>\n",
       "      <td>0</td>\n",
       "      <td>0</td>\n",
       "      <td>0</td>\n",
       "      <td>0</td>\n",
       "      <td>0</td>\n",
       "      <td>0</td>\n",
       "      <td>0</td>\n",
       "      <td>0</td>\n",
       "      <td>0</td>\n",
       "      <td>1</td>\n",
       "      <td>0</td>\n",
       "      <td>0</td>\n",
       "      <td>1</td>\n",
       "      <td>0</td>\n",
       "      <td>0</td>\n",
       "      <td>0</td>\n",
       "      <td>0</td>\n",
       "      <td>0</td>\n",
       "      <td>0</td>\n",
       "      <td>0</td>\n",
       "      <td>0</td>\n",
       "      <td>0</td>\n",
       "      <td>0</td>\n",
       "      <td>0</td>\n",
       "      <td>0</td>\n",
       "      <td>0</td>\n",
       "      <td>0</td>\n",
       "      <td>0</td>\n",
       "      <td>0</td>\n",
       "      <td>0</td>\n",
       "      <td>0</td>\n",
       "      <td>0</td>\n",
       "      <td>0</td>\n",
       "      <td>0</td>\n",
       "      <td>0</td>\n",
       "      <td>0</td>\n",
       "      <td>0</td>\n",
       "      <td>0</td>\n",
       "      <td>0</td>\n",
       "      <td>1</td>\n",
       "      <td>0</td>\n",
       "      <td>0</td>\n",
       "      <td>0</td>\n",
       "      <td>0</td>\n",
       "      <td>0</td>\n",
       "      <td>0</td>\n",
       "      <td>0</td>\n",
       "      <td>0</td>\n",
       "    </tr>\n",
       "    <tr>\n",
       "      <th>1</th>\n",
       "      <td>98-White-Widow</td>\n",
       "      <td>hybrid</td>\n",
       "      <td>4.7</td>\n",
       "      <td>Relaxed,Aroused,Creative,Happy,Energetic</td>\n",
       "      <td>Flowery,Violet,Diesel</td>\n",
       "      <td>The ‘98 Aloha White Widow is an especially pot...</td>\n",
       "      <td>31</td>\n",
       "      <td>Relaxed</td>\n",
       "      <td>Aroused</td>\n",
       "      <td>Creative</td>\n",
       "      <td>Happy</td>\n",
       "      <td>Energetic</td>\n",
       "      <td>Flowery</td>\n",
       "      <td>Violet</td>\n",
       "      <td>Diesel</td>\n",
       "      <td>1</td>\n",
       "      <td>1</td>\n",
       "      <td>0</td>\n",
       "      <td>1</td>\n",
       "      <td>0</td>\n",
       "      <td>0</td>\n",
       "      <td>0</td>\n",
       "      <td>1</td>\n",
       "      <td>0</td>\n",
       "      <td>0</td>\n",
       "      <td>1</td>\n",
       "      <td>0</td>\n",
       "      <td>0</td>\n",
       "      <td>0</td>\n",
       "      <td>0</td>\n",
       "      <td>0</td>\n",
       "      <td>0</td>\n",
       "      <td>0</td>\n",
       "      <td>0</td>\n",
       "      <td>0</td>\n",
       "      <td>0</td>\n",
       "      <td>0</td>\n",
       "      <td>0</td>\n",
       "      <td>0</td>\n",
       "      <td>0</td>\n",
       "      <td>0</td>\n",
       "      <td>0</td>\n",
       "      <td>1</td>\n",
       "      <td>0</td>\n",
       "      <td>1</td>\n",
       "      <td>0</td>\n",
       "      <td>0</td>\n",
       "      <td>0</td>\n",
       "      <td>0</td>\n",
       "      <td>0</td>\n",
       "      <td>0</td>\n",
       "      <td>0</td>\n",
       "      <td>0</td>\n",
       "      <td>0</td>\n",
       "      <td>0</td>\n",
       "      <td>0</td>\n",
       "      <td>0</td>\n",
       "      <td>0</td>\n",
       "      <td>0</td>\n",
       "      <td>0</td>\n",
       "      <td>0</td>\n",
       "      <td>0</td>\n",
       "      <td>0</td>\n",
       "      <td>0</td>\n",
       "      <td>0</td>\n",
       "      <td>0</td>\n",
       "      <td>0</td>\n",
       "      <td>0</td>\n",
       "      <td>0</td>\n",
       "      <td>0</td>\n",
       "      <td>0</td>\n",
       "      <td>0</td>\n",
       "      <td>0</td>\n",
       "      <td>0</td>\n",
       "      <td>0</td>\n",
       "      <td>0</td>\n",
       "      <td>0</td>\n",
       "      <td>1</td>\n",
       "      <td>0</td>\n",
       "    </tr>\n",
       "    <tr>\n",
       "      <th>2</th>\n",
       "      <td>1024</td>\n",
       "      <td>sativa</td>\n",
       "      <td>4.4</td>\n",
       "      <td>Uplifted,Happy,Relaxed,Energetic,Creative</td>\n",
       "      <td>Spicy/Herbal,Sage,Woody</td>\n",
       "      <td>1024 is a sativa-dominant hybrid bred in Spain...</td>\n",
       "      <td>391</td>\n",
       "      <td>Uplifted</td>\n",
       "      <td>Happy</td>\n",
       "      <td>Relaxed</td>\n",
       "      <td>Energetic</td>\n",
       "      <td>Creative</td>\n",
       "      <td>Spicy/Herbal</td>\n",
       "      <td>Sage</td>\n",
       "      <td>Woody</td>\n",
       "      <td>0</td>\n",
       "      <td>1</td>\n",
       "      <td>0</td>\n",
       "      <td>1</td>\n",
       "      <td>0</td>\n",
       "      <td>0</td>\n",
       "      <td>0</td>\n",
       "      <td>1</td>\n",
       "      <td>0</td>\n",
       "      <td>0</td>\n",
       "      <td>1</td>\n",
       "      <td>0</td>\n",
       "      <td>0</td>\n",
       "      <td>0</td>\n",
       "      <td>1</td>\n",
       "      <td>0</td>\n",
       "      <td>0</td>\n",
       "      <td>0</td>\n",
       "      <td>0</td>\n",
       "      <td>0</td>\n",
       "      <td>0</td>\n",
       "      <td>0</td>\n",
       "      <td>0</td>\n",
       "      <td>0</td>\n",
       "      <td>0</td>\n",
       "      <td>0</td>\n",
       "      <td>0</td>\n",
       "      <td>0</td>\n",
       "      <td>0</td>\n",
       "      <td>0</td>\n",
       "      <td>0</td>\n",
       "      <td>0</td>\n",
       "      <td>0</td>\n",
       "      <td>0</td>\n",
       "      <td>0</td>\n",
       "      <td>0</td>\n",
       "      <td>0</td>\n",
       "      <td>0</td>\n",
       "      <td>0</td>\n",
       "      <td>0</td>\n",
       "      <td>0</td>\n",
       "      <td>0</td>\n",
       "      <td>0</td>\n",
       "      <td>0</td>\n",
       "      <td>0</td>\n",
       "      <td>0</td>\n",
       "      <td>0</td>\n",
       "      <td>0</td>\n",
       "      <td>0</td>\n",
       "      <td>0</td>\n",
       "      <td>0</td>\n",
       "      <td>1</td>\n",
       "      <td>0</td>\n",
       "      <td>1</td>\n",
       "      <td>0</td>\n",
       "      <td>0</td>\n",
       "      <td>0</td>\n",
       "      <td>0</td>\n",
       "      <td>0</td>\n",
       "      <td>0</td>\n",
       "      <td>0</td>\n",
       "      <td>0</td>\n",
       "      <td>0</td>\n",
       "      <td>1</td>\n",
       "    </tr>\n",
       "    <tr>\n",
       "      <th>3</th>\n",
       "      <td>13-Dawgs</td>\n",
       "      <td>hybrid</td>\n",
       "      <td>4.2</td>\n",
       "      <td>Tingly,Creative,Hungry,Relaxed,Uplifted</td>\n",
       "      <td>Apricot,Citrus,Grapefruit</td>\n",
       "      <td>13 Dawgs is a hybrid of G13 and Chemdawg genet...</td>\n",
       "      <td>38</td>\n",
       "      <td>Tingly</td>\n",
       "      <td>Creative</td>\n",
       "      <td>Hungry</td>\n",
       "      <td>Relaxed</td>\n",
       "      <td>Uplifted</td>\n",
       "      <td>Apricot</td>\n",
       "      <td>Citrus</td>\n",
       "      <td>Grapefruit</td>\n",
       "      <td>0</td>\n",
       "      <td>1</td>\n",
       "      <td>0</td>\n",
       "      <td>0</td>\n",
       "      <td>0</td>\n",
       "      <td>0</td>\n",
       "      <td>0</td>\n",
       "      <td>0</td>\n",
       "      <td>1</td>\n",
       "      <td>0</td>\n",
       "      <td>1</td>\n",
       "      <td>0</td>\n",
       "      <td>0</td>\n",
       "      <td>1</td>\n",
       "      <td>1</td>\n",
       "      <td>0</td>\n",
       "      <td>0</td>\n",
       "      <td>1</td>\n",
       "      <td>0</td>\n",
       "      <td>0</td>\n",
       "      <td>0</td>\n",
       "      <td>0</td>\n",
       "      <td>0</td>\n",
       "      <td>0</td>\n",
       "      <td>0</td>\n",
       "      <td>1</td>\n",
       "      <td>0</td>\n",
       "      <td>0</td>\n",
       "      <td>0</td>\n",
       "      <td>0</td>\n",
       "      <td>0</td>\n",
       "      <td>0</td>\n",
       "      <td>1</td>\n",
       "      <td>0</td>\n",
       "      <td>0</td>\n",
       "      <td>0</td>\n",
       "      <td>0</td>\n",
       "      <td>0</td>\n",
       "      <td>0</td>\n",
       "      <td>0</td>\n",
       "      <td>0</td>\n",
       "      <td>0</td>\n",
       "      <td>0</td>\n",
       "      <td>0</td>\n",
       "      <td>0</td>\n",
       "      <td>0</td>\n",
       "      <td>0</td>\n",
       "      <td>0</td>\n",
       "      <td>0</td>\n",
       "      <td>0</td>\n",
       "      <td>0</td>\n",
       "      <td>0</td>\n",
       "      <td>0</td>\n",
       "      <td>0</td>\n",
       "      <td>0</td>\n",
       "      <td>0</td>\n",
       "      <td>0</td>\n",
       "      <td>0</td>\n",
       "      <td>0</td>\n",
       "      <td>0</td>\n",
       "      <td>0</td>\n",
       "      <td>0</td>\n",
       "      <td>0</td>\n",
       "      <td>0</td>\n",
       "    </tr>\n",
       "    <tr>\n",
       "      <th>4</th>\n",
       "      <td>24K-Gold</td>\n",
       "      <td>hybrid</td>\n",
       "      <td>4.6</td>\n",
       "      <td>Happy,Relaxed,Euphoric,Uplifted,Talkative</td>\n",
       "      <td>Citrus,Earthy,Orange</td>\n",
       "      <td>Also known as Kosher Tangie, 24k Gold is a 60%...</td>\n",
       "      <td>178</td>\n",
       "      <td>Happy</td>\n",
       "      <td>Relaxed</td>\n",
       "      <td>Euphoric</td>\n",
       "      <td>Uplifted</td>\n",
       "      <td>Talkative</td>\n",
       "      <td>Citrus</td>\n",
       "      <td>Earthy</td>\n",
       "      <td>Orange</td>\n",
       "      <td>0</td>\n",
       "      <td>0</td>\n",
       "      <td>0</td>\n",
       "      <td>0</td>\n",
       "      <td>1</td>\n",
       "      <td>0</td>\n",
       "      <td>0</td>\n",
       "      <td>1</td>\n",
       "      <td>0</td>\n",
       "      <td>0</td>\n",
       "      <td>1</td>\n",
       "      <td>0</td>\n",
       "      <td>1</td>\n",
       "      <td>0</td>\n",
       "      <td>1</td>\n",
       "      <td>0</td>\n",
       "      <td>0</td>\n",
       "      <td>0</td>\n",
       "      <td>0</td>\n",
       "      <td>0</td>\n",
       "      <td>0</td>\n",
       "      <td>0</td>\n",
       "      <td>0</td>\n",
       "      <td>0</td>\n",
       "      <td>0</td>\n",
       "      <td>1</td>\n",
       "      <td>0</td>\n",
       "      <td>0</td>\n",
       "      <td>1</td>\n",
       "      <td>0</td>\n",
       "      <td>0</td>\n",
       "      <td>0</td>\n",
       "      <td>0</td>\n",
       "      <td>0</td>\n",
       "      <td>0</td>\n",
       "      <td>0</td>\n",
       "      <td>0</td>\n",
       "      <td>0</td>\n",
       "      <td>0</td>\n",
       "      <td>0</td>\n",
       "      <td>0</td>\n",
       "      <td>0</td>\n",
       "      <td>0</td>\n",
       "      <td>1</td>\n",
       "      <td>0</td>\n",
       "      <td>0</td>\n",
       "      <td>0</td>\n",
       "      <td>0</td>\n",
       "      <td>0</td>\n",
       "      <td>0</td>\n",
       "      <td>0</td>\n",
       "      <td>0</td>\n",
       "      <td>0</td>\n",
       "      <td>0</td>\n",
       "      <td>0</td>\n",
       "      <td>0</td>\n",
       "      <td>0</td>\n",
       "      <td>0</td>\n",
       "      <td>0</td>\n",
       "      <td>0</td>\n",
       "      <td>0</td>\n",
       "      <td>0</td>\n",
       "      <td>0</td>\n",
       "      <td>0</td>\n",
       "    </tr>\n",
       "  </tbody>\n",
       "</table>\n",
       "</div>"
      ],
      "text/plain": [
       "           Strain    Type  Rating                                     Effects  \\\n",
       "0          100-Og  hybrid     4.0  Creative,Energetic,Tingly,Euphoric,Relaxed   \n",
       "1  98-White-Widow  hybrid     4.7    Relaxed,Aroused,Creative,Happy,Energetic   \n",
       "2            1024  sativa     4.4   Uplifted,Happy,Relaxed,Energetic,Creative   \n",
       "3        13-Dawgs  hybrid     4.2     Tingly,Creative,Hungry,Relaxed,Uplifted   \n",
       "4        24K-Gold  hybrid     4.6   Happy,Relaxed,Euphoric,Uplifted,Talkative   \n",
       "\n",
       "                      Flavor  \\\n",
       "0        Earthy,Sweet,Citrus   \n",
       "1      Flowery,Violet,Diesel   \n",
       "2    Spicy/Herbal,Sage,Woody   \n",
       "3  Apricot,Citrus,Grapefruit   \n",
       "4       Citrus,Earthy,Orange   \n",
       "\n",
       "                                         Description  Price  Effects1  \\\n",
       "0  $100 OG is a 50/50 hybrid strain that packs a ...    109  Creative   \n",
       "1  The ‘98 Aloha White Widow is an especially pot...     31   Relaxed   \n",
       "2  1024 is a sativa-dominant hybrid bred in Spain...    391  Uplifted   \n",
       "3  13 Dawgs is a hybrid of G13 and Chemdawg genet...     38    Tingly   \n",
       "4  Also known as Kosher Tangie, 24k Gold is a 60%...    178     Happy   \n",
       "\n",
       "    Effects2  Effects3   Effects4   Effects5       Flavor1 Flavor2  \\\n",
       "0  Energetic    Tingly   Euphoric    Relaxed        Earthy   Sweet   \n",
       "1    Aroused  Creative      Happy  Energetic       Flowery  Violet   \n",
       "2      Happy   Relaxed  Energetic   Creative  Spicy/Herbal    Sage   \n",
       "3   Creative    Hungry    Relaxed   Uplifted       Apricot  Citrus   \n",
       "4    Relaxed  Euphoric   Uplifted  Talkative        Citrus  Earthy   \n",
       "\n",
       "      Flavor3  Aroused  Creative  Dry  Energetic  Euphoric  Focused  Giggly  \\\n",
       "0      Citrus        0         1    0          1         1        0       0   \n",
       "1      Diesel        1         1    0          1         0        0       0   \n",
       "2       Woody        0         1    0          1         0        0       0   \n",
       "3  Grapefruit        0         1    0          0         0        0       0   \n",
       "4      Orange        0         0    0          0         1        0       0   \n",
       "\n",
       "   Happy  Hungry  None  Relaxed  Sleepy  Talkative  Tingly  Uplifted  Ammonia  \\\n",
       "0      0       0     0        1       0          0       1         0        0   \n",
       "1      1       0     0        1       0          0       0         0        0   \n",
       "2      1       0     0        1       0          0       0         1        0   \n",
       "3      0       1     0        1       0          0       1         1        0   \n",
       "4      1       0     0        1       0          1       0         1        0   \n",
       "\n",
       "   Apple  Apricot  Berry  Blue  Blueberry  Butter  Cheese  Chemical  Chestnut  \\\n",
       "0      0        0      0     0          0       0       0         0         0   \n",
       "1      0        0      0     0          0       0       0         0         0   \n",
       "2      0        0      0     0          0       0       0         0         0   \n",
       "3      0        1      0     0          0       0       0         0         0   \n",
       "4      0        0      0     0          0       0       0         0         0   \n",
       "\n",
       "   Citrus  Coffee  Diesel  Earthy  Flowery  Fruit  Grape  Grapefruit  Honey  \\\n",
       "0       1       0       0       1        0      0      0           0      0   \n",
       "1       0       0       1       0        1      0      0           0      0   \n",
       "2       0       0       0       0        0      0      0           0      0   \n",
       "3       1       0       0       0        0      0      0           1      0   \n",
       "4       1       0       0       1        0      0      0           0      0   \n",
       "\n",
       "   Lavender  Lemon  Lime  Mango  Menthol  Mint  Minty  None.1  Nutty  Orange  \\\n",
       "0         0      0     0      0        0     0      0       0      0       0   \n",
       "1         0      0     0      0        0     0      0       0      0       0   \n",
       "2         0      0     0      0        0     0      0       0      0       0   \n",
       "3         0      0     0      0        0     0      0       0      0       0   \n",
       "4         0      0     0      0        0     0      0       0      0       1   \n",
       "\n",
       "   Peach  Pear  Pepper  Pine  Pineapple  Pungent  Rose  Sage  Skunk  \\\n",
       "0      0     0       0     0          0        0     0     0      0   \n",
       "1      0     0       0     0          0        0     0     0      0   \n",
       "2      0     0       0     0          0        0     0     1      0   \n",
       "3      0     0       0     0          0        0     0     0      0   \n",
       "4      0     0       0     0          0        0     0     0      0   \n",
       "\n",
       "   Spicy/Herbal  Strawberry  Sweet  Tar  Tea  Tobacco  Tree  Tropical  \\\n",
       "0             0           0      1    0    0        0     0         0   \n",
       "1             0           0      0    0    0        0     0         0   \n",
       "2             1           0      0    0    0        0     0         0   \n",
       "3             0           0      0    0    0        0     0         0   \n",
       "4             0           0      0    0    0        0     0         0   \n",
       "\n",
       "   Vanilla  Violet  Woody  \n",
       "0        0       0      0  \n",
       "1        0       1      0  \n",
       "2        0       0      1  \n",
       "3        0       0      0  \n",
       "4        0       0      0  "
      ]
     },
     "execution_count": 154,
     "metadata": {},
     "output_type": "execute_result"
    }
   ],
   "source": [
    "strains.head()"
   ]
  },
  {
   "cell_type": "code",
   "execution_count": null,
   "metadata": {},
   "outputs": [],
   "source": []
  }
 ],
 "metadata": {
  "kernelspec": {
   "display_name": "Python 3",
   "language": "python",
   "name": "python3"
  },
  "language_info": {
   "codemirror_mode": {
    "name": "ipython",
    "version": 3
   },
   "file_extension": ".py",
   "mimetype": "text/x-python",
   "name": "python",
   "nbconvert_exporter": "python",
   "pygments_lexer": "ipython3",
   "version": "3.7.0"
  }
 },
 "nbformat": 4,
 "nbformat_minor": 2
}
